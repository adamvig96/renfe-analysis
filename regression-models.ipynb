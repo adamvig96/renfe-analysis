{
 "cells": [
  {
   "cell_type": "code",
   "execution_count": 13,
   "metadata": {},
   "outputs": [],
   "source": [
    "import pandas as pd\n",
    "import numpy as np\n",
    "\n",
    "import seaborn as sns\n",
    "import matplotlib.pyplot as plt\n",
    "\n",
    "import statsmodels.formula.api as smf\n",
    "from stargazer.stargazer import Stargazer\n",
    "from IPython.core.display import HTML"
   ]
  },
  {
   "cell_type": "code",
   "execution_count": 14,
   "metadata": {},
   "outputs": [],
   "source": [
    "data = pd.read_pickle(\"data/data_work.pkl\")"
   ]
  },
  {
   "cell_type": "code",
   "execution_count": 15,
   "metadata": {},
   "outputs": [],
   "source": [
    "data[\"weekday\"] = data[\"weekday\"].astype('category')"
   ]
  },
  {
   "cell_type": "code",
   "execution_count": 16,
   "metadata": {},
   "outputs": [],
   "source": [
    "formula_1 = \"price_increase ~ loading_factor + days_since + route\"\n",
    "formula_2 = \"price_increase ~ loading_factor + days_since * loading_factor + route\"\n",
    "formula_3 = \"price_increase ~ loading_factor + days_since * loading_factor + route + weekday\"\n",
    "formula_4 = \"price_increase ~ loading_factor + days_since * loading_factor + route + weekday + peak_hour\"\n",
    "formula_5 = \"price_increase ~ loading_factor + days_since * loading_factor + route + weekday + peak_hour + sales_prev_day\"\n",
    "\n",
    "formulas = [formula_1,formula_2,formula_3,formula_4,formula_5]"
   ]
  },
  {
   "cell_type": "code",
   "execution_count": 24,
   "metadata": {},
   "outputs": [],
   "source": [
    "def logit_estimate(formulas, data, days=[0,30]):\n",
    "    output_dict = {}\n",
    "    for formula in formulas:\n",
    "        model = smf.logit(\n",
    "            formula, data=data.loc[data[\"days_till_dep\"].isin(range(days[0], days[1]))]\n",
    "        )\n",
    "        output_dict[formula] = model.fit(\n",
    "            cov_type=\"cluster\",\n",
    "            cov_kwds={\"groups\": data.loc[model.data.row_labels, \"train_id\"]},\n",
    "        )\n",
    "\n",
    "    return output_dict"
   ]
  },
  {
   "cell_type": "markdown",
   "metadata": {},
   "source": [
    "## 30 days"
   ]
  },
  {
   "cell_type": "code",
   "execution_count": 26,
   "metadata": {},
   "outputs": [
    {
     "name": "stdout",
     "output_type": "stream",
     "text": [
      "Optimization terminated successfully.\n",
      "         Current function value: 0.336835\n",
      "         Iterations 7\n",
      "Optimization terminated successfully.\n",
      "         Current function value: 0.336703\n",
      "         Iterations 7\n",
      "Optimization terminated successfully.\n",
      "         Current function value: 0.336211\n",
      "         Iterations 7\n",
      "Optimization terminated successfully.\n",
      "         Current function value: 0.334603\n",
      "         Iterations 7\n",
      "Optimization terminated successfully.\n",
      "         Current function value: 0.332756\n",
      "         Iterations 7\n"
     ]
    }
   ],
   "source": [
    "out = logit_estimate(formulas, data, days=[0,30])"
   ]
  },
  {
   "cell_type": "code",
   "execution_count": 27,
   "metadata": {},
   "outputs": [
    {
     "data": {
      "text/html": [
       "<table style=\"text-align:center\"><tr><td colspan=\"6\" style=\"border-bottom: 1px solid black\"></td></tr><tr><td style=\"text-align:left\"></td><td colspan=\"5\"><em>Dependent variable:price_increase</em></td></tr><tr><td style=\"text-align:left\"></td><tr><td style=\"text-align:left\"></td><td>(1)</td><td>(2)</td><td>(3)</td><td>(4)</td><td>(5)</td></tr><tr><td colspan=\"6\" style=\"border-bottom: 1px solid black\"></td></tr><tr><td style=\"text-align:left\">Constant</td><td>-4.167<sup>***</sup></td><td>-3.811<sup>***</sup></td><td>-3.718<sup>***</sup></td><td>-3.620<sup>***</sup></td><td>-3.889<sup>***</sup></td></tr><tr><td style=\"text-align:left\"></td><td>(0.098)</td><td>(0.180)</td><td>(0.189)</td><td>(0.188)</td><td>(0.190)</td></tr><tr><td style=\"text-align:left\">days_since</td><td>0.037<sup>***</sup></td><td>0.020<sup>**</sup></td><td>0.019<sup>**</sup></td><td>0.018<sup>**</sup></td><td>0.012<sup></sup></td></tr><tr><td style=\"text-align:left\"></td><td>(0.004)</td><td>(0.008)</td><td>(0.008)</td><td>(0.008)</td><td>(0.008)</td></tr><tr><td style=\"text-align:left\">days_since:loading_factor</td><td></td><td>0.044<sup>**</sup></td><td>0.047<sup>**</sup></td><td>0.049<sup>**</sup></td><td>0.048<sup>**</sup></td></tr><tr><td style=\"text-align:left\"></td><td></td><td>(0.020)</td><td>(0.020)</td><td>(0.020)</td><td>(0.020)</td></tr><tr><td style=\"text-align:left\">loading_factor</td><td>2.871<sup>***</sup></td><td>1.864<sup>***</sup></td><td>1.786<sup>***</sup></td><td>1.799<sup>***</sup></td><td>1.758<sup>***</sup></td></tr><tr><td style=\"text-align:left\"></td><td>(0.183)</td><td>(0.492)</td><td>(0.501)</td><td>(0.499)</td><td>(0.492)</td></tr><tr><td style=\"text-align:left\">peak_hour</td><td></td><td></td><td></td><td>-0.468<sup>***</sup></td><td>-0.468<sup>***</sup></td></tr><tr><td style=\"text-align:left\"></td><td></td><td></td><td></td><td>(0.067)</td><td>(0.066)</td></tr><tr><td style=\"text-align:left\">route[T.CORDOBAMADRID]</td><td>0.767<sup>***</sup></td><td>0.772<sup>***</sup></td><td>0.774<sup>***</sup></td><td>0.699<sup>***</sup></td><td>0.738<sup>***</sup></td></tr><tr><td style=\"text-align:left\"></td><td>(0.095)</td><td>(0.095)</td><td>(0.094)</td><td>(0.092)</td><td>(0.092)</td></tr><tr><td style=\"text-align:left\">route[T.MADRIDBARCELONA]</td><td>0.001<sup></sup></td><td>-0.002<sup></sup></td><td>0.011<sup></sup></td><td>0.023<sup></sup></td><td>0.026<sup></sup></td></tr><tr><td style=\"text-align:left\"></td><td>(0.083)</td><td>(0.084)</td><td>(0.084)</td><td>(0.079)</td><td>(0.079)</td></tr><tr><td style=\"text-align:left\">route[T.MADRIDCORDOBA]</td><td>0.706<sup>***</sup></td><td>0.714<sup>***</sup></td><td>0.713<sup>***</sup></td><td>0.671<sup>***</sup></td><td>0.648<sup>***</sup></td></tr><tr><td style=\"text-align:left\"></td><td>(0.115)</td><td>(0.115)</td><td>(0.115)</td><td>(0.116)</td><td>(0.114)</td></tr><tr><td style=\"text-align:left\">route[T.MADRIDSEVILLA]</td><td>0.287<sup>***</sup></td><td>0.303<sup>***</sup></td><td>0.313<sup>***</sup></td><td>0.243<sup>**</sup></td><td>0.271<sup>***</sup></td></tr><tr><td style=\"text-align:left\"></td><td>(0.097)</td><td>(0.097)</td><td>(0.097)</td><td>(0.095)</td><td>(0.095)</td></tr><tr><td style=\"text-align:left\">route[T.MADRIDZARAGOZA]</td><td>-0.069<sup></sup></td><td>-0.061<sup></sup></td><td>-0.035<sup></sup></td><td>-0.033<sup></sup></td><td>-0.037<sup></sup></td></tr><tr><td style=\"text-align:left\"></td><td>(0.111)</td><td>(0.111)</td><td>(0.112)</td><td>(0.109)</td><td>(0.109)</td></tr><tr><td style=\"text-align:left\">route[T.SEVILLAMADRID]</td><td>0.620<sup>***</sup></td><td>0.639<sup>***</sup></td><td>0.643<sup>***</sup></td><td>0.555<sup>***</sup></td><td>0.603<sup>***</sup></td></tr><tr><td style=\"text-align:left\"></td><td>(0.091)</td><td>(0.091)</td><td>(0.091)</td><td>(0.088)</td><td>(0.089)</td></tr><tr><td style=\"text-align:left\">route[T.ZARAGOZAMADRID]</td><td>0.102<sup></sup></td><td>0.111<sup></sup></td><td>0.105<sup></sup></td><td>0.140<sup></sup></td><td>0.141<sup></sup></td></tr><tr><td style=\"text-align:left\"></td><td>(0.091)</td><td>(0.091)</td><td>(0.092)</td><td>(0.092)</td><td>(0.092)</td></tr><tr><td style=\"text-align:left\">sales_prev_day[T.True]</td><td></td><td></td><td></td><td></td><td>0.502<sup>***</sup></td></tr><tr><td style=\"text-align:left\"></td><td></td><td></td><td></td><td></td><td>(0.053)</td></tr><tr><td style=\"text-align:left\">weekday[T.1]</td><td></td><td></td><td>-0.038<sup></sup></td><td>-0.036<sup></sup></td><td>-0.021<sup></sup></td></tr><tr><td style=\"text-align:left\"></td><td></td><td></td><td>(0.083)</td><td>(0.080)</td><td>(0.080)</td></tr><tr><td style=\"text-align:left\">weekday[T.2]</td><td></td><td></td><td>-0.192<sup>**</sup></td><td>-0.162<sup>*</sup></td><td>-0.146<sup>*</sup></td></tr><tr><td style=\"text-align:left\"></td><td></td><td></td><td>(0.088)</td><td>(0.086)</td><td>(0.085)</td></tr><tr><td style=\"text-align:left\">weekday[T.3]</td><td></td><td></td><td>-0.164<sup>*</sup></td><td>-0.120<sup></sup></td><td>-0.123<sup></sup></td></tr><tr><td style=\"text-align:left\"></td><td></td><td></td><td>(0.098)</td><td>(0.097)</td><td>(0.096)</td></tr><tr><td style=\"text-align:left\">weekday[T.4]</td><td></td><td></td><td>-0.058<sup></sup></td><td>-0.018<sup></sup></td><td>-0.030<sup></sup></td></tr><tr><td style=\"text-align:left\"></td><td></td><td></td><td>(0.100)</td><td>(0.097)</td><td>(0.097)</td></tr><tr><td style=\"text-align:left\">weekday[T.5]</td><td></td><td></td><td>0.033<sup></sup></td><td>0.051<sup></sup></td><td>0.043<sup></sup></td></tr><tr><td style=\"text-align:left\"></td><td></td><td></td><td>(0.083)</td><td>(0.081)</td><td>(0.081)</td></tr><tr><td style=\"text-align:left\">weekday[T.6]</td><td></td><td></td><td>-0.321<sup>**</sup></td><td>-0.210<sup></sup></td><td>-0.221<sup></sup></td></tr><tr><td style=\"text-align:left\"></td><td></td><td></td><td>(0.139)</td><td>(0.144)</td><td>(0.144)</td></tr><td colspan=\"6\" style=\"border-bottom: 1px solid black\"></td></tr><tr><td style=\"text-align: left\">Observations</td><td>29,809</td><td>29,809</td><td>29,809</td><td>29,809</td><td>29,809</td></tr><tr><td style=\"text-align: left\">R<sup>2</sup></td><td></td><td></td><td></td><td></td><td></td></tr><tr><td style=\"text-align: left\">Adjusted R<sup>2</sup></td><td></td><td></td><td></td><td></td><td></td></tr><tr><td style=\"text-align: left\">Residual Std. Error</td><td>1.000 (df=29799)</td><td>1.000 (df=29798)</td><td>1.000 (df=29792)</td><td>1.000 (df=29791)</td><td>1.000 (df=29790)</td></tr><tr><td style=\"text-align: left\">F Statistic</td><td><sup></sup> (df=9; 29799)</td><td><sup></sup> (df=10; 29798)</td><td><sup></sup> (df=16; 29792)</td><td><sup></sup> (df=17; 29791)</td><td><sup></sup> (df=18; 29790)</td></tr><tr><td colspan=\"6\" style=\"border-bottom: 1px solid black\"></td></tr><tr><td style=\"text-align: left\">Note:</td>\n",
       " <td colspan=\"5\" style=\"text-align: right\">\n",
       "  <sup>*</sup>p&lt;0.1;\n",
       "  <sup>**</sup>p&lt;0.05;\n",
       "  <sup>***</sup>p&lt;0.01\n",
       " </td></tr></table>"
      ],
      "text/plain": [
       "<IPython.core.display.HTML object>"
      ]
     },
     "execution_count": 27,
     "metadata": {},
     "output_type": "execute_result"
    }
   ],
   "source": [
    "stargazer = Stargazer(list(out.values()))\n",
    "stargazer.rename_covariates({\"Intercept\": \"Constant\"})\n",
    "output_1 = HTML(stargazer.render_html())\n",
    "\n",
    "html = output_1.data\n",
    "with open(\"regression_outputs/logit_output_30days.html\", \"w\") as f:\n",
    "    f.write(html)\n",
    "HTML(stargazer.render_html())"
   ]
  },
  {
   "cell_type": "markdown",
   "metadata": {},
   "source": [
    "## last 5 days"
   ]
  },
  {
   "cell_type": "code",
   "execution_count": 29,
   "metadata": {},
   "outputs": [
    {
     "data": {
      "text/plain": [
       "True     4754\n",
       "False     448\n",
       "Name: sales_prev_day, dtype: int64"
      ]
     },
     "execution_count": 29,
     "metadata": {},
     "output_type": "execute_result"
    }
   ],
   "source": [
    "data.query(\"days_till_dep<5\")[\"sales_prev_day\"].value_counts()"
   ]
  },
  {
   "cell_type": "code",
   "execution_count": 30,
   "metadata": {},
   "outputs": [
    {
     "name": "stdout",
     "output_type": "stream",
     "text": [
      "Optimization terminated successfully.\n",
      "         Current function value: 0.545135\n",
      "         Iterations 6\n",
      "Optimization terminated successfully.\n",
      "         Current function value: 0.544982\n",
      "         Iterations 6\n",
      "Optimization terminated successfully.\n",
      "         Current function value: 0.541076\n",
      "         Iterations 6\n",
      "Optimization terminated successfully.\n",
      "         Current function value: 0.539536\n",
      "         Iterations 6\n",
      "Optimization terminated successfully.\n",
      "         Current function value: 0.538468\n",
      "         Iterations 6\n"
     ]
    }
   ],
   "source": [
    "out = logit_estimate(formulas, data, days=[0,5])"
   ]
  },
  {
   "cell_type": "code",
   "execution_count": 31,
   "metadata": {},
   "outputs": [
    {
     "data": {
      "text/html": [
       "<table style=\"text-align:center\"><tr><td colspan=\"6\" style=\"border-bottom: 1px solid black\"></td></tr><tr><td style=\"text-align:left\"></td><td colspan=\"5\"><em>Dependent variable:price_increase</em></td></tr><tr><td style=\"text-align:left\"></td><tr><td style=\"text-align:left\"></td><td>(1)</td><td>(2)</td><td>(3)</td><td>(4)</td><td>(5)</td></tr><tr><td colspan=\"6\" style=\"border-bottom: 1px solid black\"></td></tr><tr><td style=\"text-align:left\">Constant</td><td>-4.910<sup>***</sup></td><td>-8.271<sup>***</sup></td><td>-8.430<sup>***</sup></td><td>-8.478<sup>***</sup></td><td>-8.736<sup>***</sup></td></tr><tr><td style=\"text-align:left\"></td><td>(0.802)</td><td>(3.041)</td><td>(3.049)</td><td>(3.058)</td><td>(3.065)</td></tr><tr><td style=\"text-align:left\">days_since</td><td>0.101<sup>***</sup></td><td>0.221<sup>**</sup></td><td>0.223<sup>**</sup></td><td>0.226<sup>**</sup></td><td>0.220<sup>**</sup></td></tr><tr><td style=\"text-align:left\"></td><td>(0.030)</td><td>(0.108)</td><td>(0.109)</td><td>(0.109)</td><td>(0.109)</td></tr><tr><td style=\"text-align:left\">days_since:loading_factor</td><td></td><td>-0.199<sup></sup></td><td>-0.202<sup></sup></td><td>-0.211<sup></sup></td><td>-0.204<sup></sup></td></tr><tr><td style=\"text-align:left\"></td><td></td><td>(0.177)</td><td>(0.178)</td><td>(0.178)</td><td>(0.178)</td></tr><tr><td style=\"text-align:left\">loading_factor</td><td>1.615<sup>***</sup></td><td>7.234<sup></sup></td><td>7.368<sup></sup></td><td>7.674<sup></sup></td><td>7.503<sup></sup></td></tr><tr><td style=\"text-align:left\"></td><td>(0.268)</td><td>(5.005)</td><td>(5.033)</td><td>(5.046)</td><td>(5.049)</td></tr><tr><td style=\"text-align:left\">peak_hour</td><td></td><td></td><td></td><td>-0.319<sup>***</sup></td><td>-0.316<sup>***</sup></td></tr><tr><td style=\"text-align:left\"></td><td></td><td></td><td></td><td>(0.097)</td><td>(0.097)</td></tr><tr><td style=\"text-align:left\">route[T.CORDOBAMADRID]</td><td>0.048<sup></sup></td><td>0.063<sup></sup></td><td>0.021<sup></sup></td><td>-0.026<sup></sup></td><td>-0.007<sup></sup></td></tr><tr><td style=\"text-align:left\"></td><td>(0.155)</td><td>(0.156)</td><td>(0.158)</td><td>(0.158)</td><td>(0.158)</td></tr><tr><td style=\"text-align:left\">route[T.MADRIDBARCELONA]</td><td>0.053<sup></sup></td><td>0.055<sup></sup></td><td>0.091<sup></sup></td><td>0.111<sup></sup></td><td>0.119<sup></sup></td></tr><tr><td style=\"text-align:left\"></td><td>(0.115)</td><td>(0.115)</td><td>(0.116)</td><td>(0.114)</td><td>(0.114)</td></tr><tr><td style=\"text-align:left\">route[T.MADRIDCORDOBA]</td><td>-0.278<sup></sup></td><td>-0.268<sup></sup></td><td>-0.262<sup></sup></td><td>-0.276<sup></sup></td><td>-0.277<sup></sup></td></tr><tr><td style=\"text-align:left\"></td><td>(0.182)</td><td>(0.182)</td><td>(0.184)</td><td>(0.188)</td><td>(0.188)</td></tr><tr><td style=\"text-align:left\">route[T.MADRIDSEVILLA]</td><td>0.093<sup></sup></td><td>0.098<sup></sup></td><td>0.133<sup></sup></td><td>0.086<sup></sup></td><td>0.089<sup></sup></td></tr><tr><td style=\"text-align:left\"></td><td>(0.153)</td><td>(0.153)</td><td>(0.153)</td><td>(0.154)</td><td>(0.154)</td></tr><tr><td style=\"text-align:left\">route[T.MADRIDZARAGOZA]</td><td>-0.348<sup>**</sup></td><td>-0.344<sup>**</sup></td><td>-0.303<sup>*</sup></td><td>-0.286<sup></sup></td><td>-0.284<sup></sup></td></tr><tr><td style=\"text-align:left\"></td><td>(0.170)</td><td>(0.170)</td><td>(0.173)</td><td>(0.175)</td><td>(0.174)</td></tr><tr><td style=\"text-align:left\">route[T.SEVILLAMADRID]</td><td>0.626<sup>***</sup></td><td>0.629<sup>***</sup></td><td>0.585<sup>***</sup></td><td>0.527<sup>***</sup></td><td>0.553<sup>***</sup></td></tr><tr><td style=\"text-align:left\"></td><td>(0.145)</td><td>(0.146)</td><td>(0.145)</td><td>(0.145)</td><td>(0.146)</td></tr><tr><td style=\"text-align:left\">route[T.ZARAGOZAMADRID]</td><td>-0.064<sup></sup></td><td>-0.064<sup></sup></td><td>-0.097<sup></sup></td><td>-0.068<sup></sup></td><td>-0.066<sup></sup></td></tr><tr><td style=\"text-align:left\"></td><td>(0.142)</td><td>(0.142)</td><td>(0.145)</td><td>(0.144)</td><td>(0.144)</td></tr><tr><td style=\"text-align:left\">sales_prev_day[T.True]</td><td></td><td></td><td></td><td></td><td>0.411<sup>***</sup></td></tr><tr><td style=\"text-align:left\"></td><td></td><td></td><td></td><td></td><td>(0.126)</td></tr><tr><td style=\"text-align:left\">weekday[T.1]</td><td></td><td></td><td>0.137<sup></sup></td><td>0.137<sup></sup></td><td>0.133<sup></sup></td></tr><tr><td style=\"text-align:left\"></td><td></td><td></td><td>(0.127)</td><td>(0.126)</td><td>(0.126)</td></tr><tr><td style=\"text-align:left\">weekday[T.2]</td><td></td><td></td><td>-0.048<sup></sup></td><td>-0.026<sup></sup></td><td>-0.006<sup></sup></td></tr><tr><td style=\"text-align:left\"></td><td></td><td></td><td>(0.137)</td><td>(0.136)</td><td>(0.135)</td></tr><tr><td style=\"text-align:left\">weekday[T.3]</td><td></td><td></td><td>-0.070<sup></sup></td><td>-0.044<sup></sup></td><td>-0.036<sup></sup></td></tr><tr><td style=\"text-align:left\"></td><td></td><td></td><td>(0.164)</td><td>(0.164)</td><td>(0.163)</td></tr><tr><td style=\"text-align:left\">weekday[T.4]</td><td></td><td></td><td>0.201<sup></sup></td><td>0.229<sup></sup></td><td>0.252<sup></sup></td></tr><tr><td style=\"text-align:left\"></td><td></td><td></td><td>(0.164)</td><td>(0.163)</td><td>(0.163)</td></tr><tr><td style=\"text-align:left\">weekday[T.5]</td><td></td><td></td><td>0.407<sup>***</sup></td><td>0.411<sup>***</sup></td><td>0.438<sup>***</sup></td></tr><tr><td style=\"text-align:left\"></td><td></td><td></td><td>(0.137)</td><td>(0.138)</td><td>(0.137)</td></tr><tr><td style=\"text-align:left\">weekday[T.6]</td><td></td><td></td><td>-0.454<sup>**</sup></td><td>-0.381<sup>*</sup></td><td>-0.363<sup>*</sup></td></tr><tr><td style=\"text-align:left\"></td><td></td><td></td><td>(0.200)</td><td>(0.202)</td><td>(0.202)</td></tr><td colspan=\"6\" style=\"border-bottom: 1px solid black\"></td></tr><tr><td style=\"text-align: left\">Observations</td><td>5,202</td><td>5,202</td><td>5,202</td><td>5,202</td><td>5,202</td></tr><tr><td style=\"text-align: left\">R<sup>2</sup></td><td></td><td></td><td></td><td></td><td></td></tr><tr><td style=\"text-align: left\">Adjusted R<sup>2</sup></td><td></td><td></td><td></td><td></td><td></td></tr><tr><td style=\"text-align: left\">Residual Std. Error</td><td>1.000 (df=5192)</td><td>1.000 (df=5191)</td><td>1.000 (df=5185)</td><td>1.000 (df=5184)</td><td>1.000 (df=5183)</td></tr><tr><td style=\"text-align: left\">F Statistic</td><td><sup></sup> (df=9; 5192)</td><td><sup></sup> (df=10; 5191)</td><td><sup></sup> (df=16; 5185)</td><td><sup></sup> (df=17; 5184)</td><td><sup></sup> (df=18; 5183)</td></tr><tr><td colspan=\"6\" style=\"border-bottom: 1px solid black\"></td></tr><tr><td style=\"text-align: left\">Note:</td>\n",
       " <td colspan=\"5\" style=\"text-align: right\">\n",
       "  <sup>*</sup>p&lt;0.1;\n",
       "  <sup>**</sup>p&lt;0.05;\n",
       "  <sup>***</sup>p&lt;0.01\n",
       " </td></tr></table>"
      ],
      "text/plain": [
       "<IPython.core.display.HTML object>"
      ]
     },
     "execution_count": 31,
     "metadata": {},
     "output_type": "execute_result"
    }
   ],
   "source": [
    "stargazer = Stargazer(list(out.values()))\n",
    "stargazer.rename_covariates({\"Intercept\": \"Constant\"})\n",
    "output_1 = HTML(stargazer.render_html())\n",
    "\n",
    "html = output_1.data\n",
    "with open(\"regression_outputs/logit_output_30days.html\", \"w\") as f:\n",
    "    f.write(html)\n",
    "HTML(stargazer.render_html())"
   ]
  },
  {
   "cell_type": "markdown",
   "metadata": {},
   "source": [
    "30-25 days"
   ]
  },
  {
   "cell_type": "code",
   "execution_count": 34,
   "metadata": {},
   "outputs": [
    {
     "name": "stdout",
     "output_type": "stream",
     "text": [
      "Optimization terminated successfully.\n",
      "         Current function value: 0.289634\n",
      "         Iterations 7\n",
      "Optimization terminated successfully.\n",
      "         Current function value: 0.289633\n",
      "         Iterations 7\n",
      "Optimization terminated successfully.\n",
      "         Current function value: 0.289342\n",
      "         Iterations 7\n",
      "Optimization terminated successfully.\n",
      "         Current function value: 0.287715\n",
      "         Iterations 7\n",
      "Optimization terminated successfully.\n",
      "         Current function value: 0.285759\n",
      "         Iterations 7\n"
     ]
    }
   ],
   "source": [
    "out = logit_estimate(formulas, data, days=[5,30])"
   ]
  },
  {
   "cell_type": "code",
   "execution_count": 35,
   "metadata": {},
   "outputs": [
    {
     "data": {
      "text/html": [
       "<table style=\"text-align:center\"><tr><td colspan=\"6\" style=\"border-bottom: 1px solid black\"></td></tr><tr><td style=\"text-align:left\"></td><td colspan=\"5\"><em>Dependent variable:price_increase</em></td></tr><tr><td style=\"text-align:left\"></td><tr><td style=\"text-align:left\"></td><td>(1)</td><td>(2)</td><td>(3)</td><td>(4)</td><td>(5)</td></tr><tr><td colspan=\"6\" style=\"border-bottom: 1px solid black\"></td></tr><tr><td style=\"text-align:left\">Constant</td><td>-4.065<sup>***</sup></td><td>-4.036<sup>***</sup></td><td>-3.905<sup>***</sup></td><td>-3.798<sup>***</sup></td><td>-4.124<sup>***</sup></td></tr><tr><td style=\"text-align:left\"></td><td>(0.119)</td><td>(0.209)</td><td>(0.219)</td><td>(0.218)</td><td>(0.220)</td></tr><tr><td style=\"text-align:left\">days_since</td><td>0.018<sup>***</sup></td><td>0.016<sup></sup></td><td>0.016<sup></sup></td><td>0.016<sup></sup></td><td>0.015<sup></sup></td></tr><tr><td style=\"text-align:left\"></td><td>(0.005)</td><td>(0.012)</td><td>(0.012)</td><td>(0.012)</td><td>(0.012)</td></tr><tr><td style=\"text-align:left\">days_since:loading_factor</td><td></td><td>0.005<sup></sup></td><td>0.006<sup></sup></td><td>0.005<sup></sup></td><td>-0.003<sup></sup></td></tr><tr><td style=\"text-align:left\"></td><td></td><td>(0.029)</td><td>(0.030)</td><td>(0.030)</td><td>(0.029)</td></tr><tr><td style=\"text-align:left\">loading_factor</td><td>3.009<sup>***</sup></td><td>2.926<sup>***</sup></td><td>2.933<sup>***</sup></td><td>2.956<sup>***</sup></td><td>3.006<sup>***</sup></td></tr><tr><td style=\"text-align:left\"></td><td>(0.255)</td><td>(0.566)</td><td>(0.577)</td><td>(0.578)</td><td>(0.567)</td></tr><tr><td style=\"text-align:left\">peak_hour</td><td></td><td></td><td></td><td>-0.543<sup>***</sup></td><td>-0.545<sup>***</sup></td></tr><tr><td style=\"text-align:left\"></td><td></td><td></td><td></td><td>(0.084)</td><td>(0.083)</td></tr><tr><td style=\"text-align:left\">route[T.CORDOBAMADRID]</td><td>0.978<sup>***</sup></td><td>0.979<sup>***</sup></td><td>1.008<sup>***</sup></td><td>0.915<sup>***</sup></td><td>0.964<sup>***</sup></td></tr><tr><td style=\"text-align:left\"></td><td>(0.104)</td><td>(0.104)</td><td>(0.104)</td><td>(0.103)</td><td>(0.102)</td></tr><tr><td style=\"text-align:left\">route[T.MADRIDBARCELONA]</td><td>-0.034<sup></sup></td><td>-0.034<sup></sup></td><td>-0.031<sup></sup></td><td>-0.031<sup></sup></td><td>-0.032<sup></sup></td></tr><tr><td style=\"text-align:left\"></td><td>(0.111)</td><td>(0.111)</td><td>(0.111)</td><td>(0.106)</td><td>(0.106)</td></tr><tr><td style=\"text-align:left\">route[T.MADRIDCORDOBA]</td><td>0.987<sup>***</sup></td><td>0.988<sup>***</sup></td><td>0.987<sup>***</sup></td><td>0.924<sup>***</sup></td><td>0.895<sup>***</sup></td></tr><tr><td style=\"text-align:left\"></td><td>(0.125)</td><td>(0.125)</td><td>(0.126)</td><td>(0.126)</td><td>(0.122)</td></tr><tr><td style=\"text-align:left\">route[T.MADRIDSEVILLA]</td><td>0.361<sup>***</sup></td><td>0.362<sup>***</sup></td><td>0.359<sup>***</sup></td><td>0.275<sup>**</sup></td><td>0.316<sup>***</sup></td></tr><tr><td style=\"text-align:left\"></td><td>(0.110)</td><td>(0.110)</td><td>(0.110)</td><td>(0.108)</td><td>(0.107)</td></tr><tr><td style=\"text-align:left\">route[T.MADRIDZARAGOZA]</td><td>0.048<sup></sup></td><td>0.049<sup></sup></td><td>0.073<sup></sup></td><td>0.059<sup></sup></td><td>0.055<sup></sup></td></tr><tr><td style=\"text-align:left\"></td><td>(0.147)</td><td>(0.147)</td><td>(0.147)</td><td>(0.141)</td><td>(0.140)</td></tr><tr><td style=\"text-align:left\">route[T.SEVILLAMADRID]</td><td>0.619<sup>***</sup></td><td>0.620<sup>***</sup></td><td>0.647<sup>***</sup></td><td>0.543<sup>***</sup></td><td>0.603<sup>***</sup></td></tr><tr><td style=\"text-align:left\"></td><td>(0.103)</td><td>(0.103)</td><td>(0.105)</td><td>(0.103)</td><td>(0.103)</td></tr><tr><td style=\"text-align:left\">route[T.ZARAGOZAMADRID]</td><td>0.171<sup></sup></td><td>0.172<sup></sup></td><td>0.185<sup></sup></td><td>0.218<sup>*</sup></td><td>0.222<sup>*</sup></td></tr><tr><td style=\"text-align:left\"></td><td>(0.117)</td><td>(0.117)</td><td>(0.118)</td><td>(0.119)</td><td>(0.118)</td></tr><tr><td style=\"text-align:left\">sales_prev_day[T.True]</td><td></td><td></td><td></td><td></td><td>0.516<sup>***</sup></td></tr><tr><td style=\"text-align:left\"></td><td></td><td></td><td></td><td></td><td>(0.058)</td></tr><tr><td style=\"text-align:left\">weekday[T.1]</td><td></td><td></td><td>-0.104<sup></sup></td><td>-0.101<sup></sup></td><td>-0.077<sup></sup></td></tr><tr><td style=\"text-align:left\"></td><td></td><td></td><td>(0.099)</td><td>(0.096)</td><td>(0.095)</td></tr><tr><td style=\"text-align:left\">weekday[T.2]</td><td></td><td></td><td>-0.244<sup>**</sup></td><td>-0.211<sup>**</sup></td><td>-0.198<sup>**</sup></td></tr><tr><td style=\"text-align:left\"></td><td></td><td></td><td>(0.103)</td><td>(0.101)</td><td>(0.100)</td></tr><tr><td style=\"text-align:left\">weekday[T.3]</td><td></td><td></td><td>-0.201<sup>*</sup></td><td>-0.147<sup></sup></td><td>-0.157<sup></sup></td></tr><tr><td style=\"text-align:left\"></td><td></td><td></td><td>(0.112)</td><td>(0.111)</td><td>(0.109)</td></tr><tr><td style=\"text-align:left\">weekday[T.4]</td><td></td><td></td><td>-0.193<sup>*</sup></td><td>-0.146<sup></sup></td><td>-0.176<sup></sup></td></tr><tr><td style=\"text-align:left\"></td><td></td><td></td><td>(0.112)</td><td>(0.110)</td><td>(0.110)</td></tr><tr><td style=\"text-align:left\">weekday[T.5]</td><td></td><td></td><td>-0.159<sup>*</sup></td><td>-0.130<sup></sup></td><td>-0.156<sup>*</sup></td></tr><tr><td style=\"text-align:left\"></td><td></td><td></td><td>(0.097)</td><td>(0.094)</td><td>(0.094)</td></tr><tr><td style=\"text-align:left\">weekday[T.6]</td><td></td><td></td><td>-0.273<sup>*</sup></td><td>-0.139<sup></sup></td><td>-0.167<sup></sup></td></tr><tr><td style=\"text-align:left\"></td><td></td><td></td><td>(0.161)</td><td>(0.166)</td><td>(0.166)</td></tr><td colspan=\"6\" style=\"border-bottom: 1px solid black\"></td></tr><tr><td style=\"text-align: left\">Observations</td><td>24,607</td><td>24,607</td><td>24,607</td><td>24,607</td><td>24,607</td></tr><tr><td style=\"text-align: left\">R<sup>2</sup></td><td></td><td></td><td></td><td></td><td></td></tr><tr><td style=\"text-align: left\">Adjusted R<sup>2</sup></td><td></td><td></td><td></td><td></td><td></td></tr><tr><td style=\"text-align: left\">Residual Std. Error</td><td>1.000 (df=24597)</td><td>1.000 (df=24596)</td><td>1.000 (df=24590)</td><td>1.000 (df=24589)</td><td>1.000 (df=24588)</td></tr><tr><td style=\"text-align: left\">F Statistic</td><td><sup></sup> (df=9; 24597)</td><td><sup></sup> (df=10; 24596)</td><td><sup></sup> (df=16; 24590)</td><td><sup></sup> (df=17; 24589)</td><td><sup></sup> (df=18; 24588)</td></tr><tr><td colspan=\"6\" style=\"border-bottom: 1px solid black\"></td></tr><tr><td style=\"text-align: left\">Note:</td>\n",
       " <td colspan=\"5\" style=\"text-align: right\">\n",
       "  <sup>*</sup>p&lt;0.1;\n",
       "  <sup>**</sup>p&lt;0.05;\n",
       "  <sup>***</sup>p&lt;0.01\n",
       " </td></tr></table>"
      ],
      "text/plain": [
       "<IPython.core.display.HTML object>"
      ]
     },
     "execution_count": 35,
     "metadata": {},
     "output_type": "execute_result"
    }
   ],
   "source": [
    "stargazer = Stargazer(list(out.values()))\n",
    "stargazer.rename_covariates({\"Intercept\": \"Constant\"})\n",
    "output_1 = HTML(stargazer.render_html())\n",
    "\n",
    "html = output_1.data\n",
    "with open(\"regression_outputs/logit_output_30days.html\", \"w\") as f:\n",
    "    f.write(html)\n",
    "HTML(stargazer.render_html())"
   ]
  },
  {
   "cell_type": "markdown",
   "metadata": {},
   "source": [
    "## Fixed effect"
   ]
  },
  {
   "cell_type": "code",
   "execution_count": 39,
   "metadata": {},
   "outputs": [],
   "source": [
    "from linearmodels import PanelOLS"
   ]
  },
  {
   "cell_type": "code",
   "execution_count": 38,
   "metadata": {},
   "outputs": [],
   "source": [
    "panel_data = data.set_index([\"train_id\",\"days_till_dep\"])"
   ]
  },
  {
   "cell_type": "code",
   "execution_count": 41,
   "metadata": {},
   "outputs": [
    {
     "data": {
      "text/plain": [
       "Index(['train_id', 'days_till_dep', 'mean_econ_price', 'mean_first_price',\n",
       "       'max_econ_seats', 'min_econ_seats', 'mean_econ_seats',\n",
       "       'max_first_seats', 'min_first_seats', 'mean_first_seats', 'departure',\n",
       "       'duration', 'econ_seats_sold', 'first_seats_sold', 'weekday',\n",
       "       'depart_month', 'depart_hour', 'day_part', 'price_change',\n",
       "       'price_change_percentage', 'price_change_direction', 'price_increase',\n",
       "       'seats_sold_prev_day', 'sales_prev_day', 'max_seat_capacity',\n",
       "       'capacity', 'loading_factor', 'route', 'peak_hour', 'days_since',\n",
       "       'loading_factor_median', 'loading_factor_cat'],\n",
       "      dtype='object')"
      ]
     },
     "execution_count": 41,
     "metadata": {},
     "output_type": "execute_result"
    }
   ],
   "source": [
    "data.columns"
   ]
  },
  {
   "cell_type": "code",
   "execution_count": null,
   "metadata": {},
   "outputs": [],
   "source": []
  },
  {
   "cell_type": "code",
   "execution_count": 96,
   "metadata": {},
   "outputs": [
    {
     "data": {
      "text/html": [
       "<table class=\"simpletable\">\n",
       "<caption>PanelOLS Estimation Summary</caption>\n",
       "<tr>\n",
       "  <th>Dep. Variable:</th>    <td>price_change_percentage</td> <th>  R-squared:         </th>     <td>0.0103</td>  \n",
       "</tr>\n",
       "<tr>\n",
       "  <th>Estimator:</th>               <td>PanelOLS</td>         <th>  R-squared (Between):</th>    <td>-0.5153</td> \n",
       "</tr>\n",
       "<tr>\n",
       "  <th>No. Observations:</th>          <td>30336</td>          <th>  R-squared (Within):</th>     <td>0.0139</td>  \n",
       "</tr>\n",
       "<tr>\n",
       "  <th>Date:</th>                <td>Mon, Dec 14 2020</td>     <th>  R-squared (Overall):</th>    <td>-0.0029</td> \n",
       "</tr>\n",
       "<tr>\n",
       "  <th>Time:</th>                    <td>15:40:01</td>         <th>  Log-likelihood     </th>    <td>5.463e+04</td>\n",
       "</tr>\n",
       "<tr>\n",
       "  <th>Cov. Estimator:</th>          <td>Clustered</td>        <th>                     </th>        <td></td>     \n",
       "</tr>\n",
       "<tr>\n",
       "  <th></th>                             <td></td>             <th>  F-statistic:       </th>     <td>302.82</td>  \n",
       "</tr>\n",
       "<tr>\n",
       "  <th>Entities:</th>                  <td>1209</td>           <th>  P-value            </th>     <td>0.0000</td>  \n",
       "</tr>\n",
       "<tr>\n",
       "  <th>Avg Obs:</th>                  <td>25.092</td>          <th>  Distribution:      </th>   <td>F(1,29096)</td>\n",
       "</tr>\n",
       "<tr>\n",
       "  <th>Min Obs:</th>                  <td>13.000</td>          <th>                     </th>        <td></td>     \n",
       "</tr>\n",
       "<tr>\n",
       "  <th>Max Obs:</th>                  <td>31.000</td>          <th>  F-statistic (robust):</th>   <td>192.32</td>  \n",
       "</tr>\n",
       "<tr>\n",
       "  <th></th>                             <td></td>             <th>  P-value            </th>     <td>0.0000</td>  \n",
       "</tr>\n",
       "<tr>\n",
       "  <th>Time periods:</th>               <td>31</td>            <th>  Distribution:      </th>   <td>F(1,29096)</td>\n",
       "</tr>\n",
       "<tr>\n",
       "  <th>Avg Obs:</th>                  <td>978.58</td>          <th>                     </th>        <td></td>     \n",
       "</tr>\n",
       "<tr>\n",
       "  <th>Min Obs:</th>                  <td>527.00</td>          <th>                     </th>        <td></td>     \n",
       "</tr>\n",
       "<tr>\n",
       "  <th>Max Obs:</th>                  <td>1174.0</td>          <th>                     </th>        <td></td>     \n",
       "</tr>\n",
       "<tr>\n",
       "  <th></th>                             <td></td>             <th>                     </th>        <td></td>     \n",
       "</tr>\n",
       "</table>\n",
       "<table class=\"simpletable\">\n",
       "<caption>Parameter Estimates</caption>\n",
       "<tr>\n",
       "         <td></td>        <th>Parameter</th> <th>Std. Err.</th> <th>T-stat</th>  <th>P-value</th> <th>Lower CI</th> <th>Upper CI</th>\n",
       "</tr>\n",
       "<tr>\n",
       "  <th>Intercept</th>       <td>-0.0205</td>   <td>0.0018</td>   <td>-11.635</td> <td>0.0000</td>   <td>-0.0240</td>  <td>-0.0171</td>\n",
       "</tr>\n",
       "<tr>\n",
       "  <th>loading_factor</th>  <td>0.0629</td>    <td>0.0045</td>   <td>13.868</td>  <td>0.0000</td>   <td>0.0540</td>   <td>0.0718</td> \n",
       "</tr>\n",
       "</table><br/><br/>F-test for Poolability: 1.1698<br/>P-value: 0.0000<br/>Distribution: F(1238,29096)<br/><br/>Included effects: Entity, Time"
      ],
      "text/plain": [
       "<class 'linearmodels.compat.statsmodels.Summary'>\n",
       "\"\"\"\n",
       "                             PanelOLS Estimation Summary                             \n",
       "=====================================================================================\n",
       "Dep. Variable:     price_change_percentage   R-squared:                        0.0103\n",
       "Estimator:                        PanelOLS   R-squared (Between):             -0.5153\n",
       "No. Observations:                    30336   R-squared (Within):               0.0139\n",
       "Date:                     Mon, Dec 14 2020   R-squared (Overall):             -0.0029\n",
       "Time:                             15:40:01   Log-likelihood                 5.463e+04\n",
       "Cov. Estimator:                  Clustered                                           \n",
       "                                             F-statistic:                      302.82\n",
       "Entities:                             1209   P-value                           0.0000\n",
       "Avg Obs:                            25.092   Distribution:                 F(1,29096)\n",
       "Min Obs:                            13.000                                           \n",
       "Max Obs:                            31.000   F-statistic (robust):             192.32\n",
       "                                             P-value                           0.0000\n",
       "Time periods:                           31   Distribution:                 F(1,29096)\n",
       "Avg Obs:                            978.58                                           \n",
       "Min Obs:                            527.00                                           \n",
       "Max Obs:                            1174.0                                           \n",
       "                                                                                     \n",
       "                               Parameter Estimates                                \n",
       "==================================================================================\n",
       "                Parameter  Std. Err.     T-stat    P-value    Lower CI    Upper CI\n",
       "----------------------------------------------------------------------------------\n",
       "Intercept         -0.0205     0.0018    -11.635     0.0000     -0.0240     -0.0171\n",
       "loading_factor     0.0629     0.0045     13.868     0.0000      0.0540      0.0718\n",
       "==================================================================================\n",
       "\n",
       "F-test for Poolability: 1.1698\n",
       "P-value: 0.0000\n",
       "Distribution: F(1238,29096)\n",
       "\n",
       "Included effects: Entity, Time\n",
       "\"\"\""
      ]
     },
     "execution_count": 96,
     "metadata": {},
     "output_type": "execute_result"
    }
   ],
   "source": [
    "fe_lm = PanelOLS.from_formula(\n",
    "    \"price_change_percentage ~ 1 + loading_factor + TimeEffects + EntityEffects\",\n",
    "    panel_data,\n",
    "    #weights=\n",
    ").fit(cov_type=\"clustered\", cluster_entity=True)\n",
    "\n",
    "fe_lm.summary"
   ]
  },
  {
   "cell_type": "code",
   "execution_count": 97,
   "metadata": {},
   "outputs": [
    {
     "name": "stderr",
     "output_type": "stream",
     "text": [
      "/usr/local/lib/python3.8/site-packages/linearmodels/panel/data.py:98: FutureWarning: is_categorical is deprecated and will be removed in a future version.  Use is_categorical_dtype instead\n",
      "  if is_categorical(s):\n"
     ]
    },
    {
     "data": {
      "text/html": [
       "<table class=\"simpletable\">\n",
       "<caption>PanelOLS Estimation Summary</caption>\n",
       "<tr>\n",
       "  <th>Dep. Variable:</th>    <td>price_change_percentage</td> <th>  R-squared:         </th>     <td>0.0060</td>  \n",
       "</tr>\n",
       "<tr>\n",
       "  <th>Estimator:</th>               <td>PanelOLS</td>         <th>  R-squared (Between):</th>    <td>-0.6022</td> \n",
       "</tr>\n",
       "<tr>\n",
       "  <th>No. Observations:</th>          <td>23976</td>          <th>  R-squared (Within):</th>     <td>-0.0140</td> \n",
       "</tr>\n",
       "<tr>\n",
       "  <th>Date:</th>                <td>Mon, Dec 14 2020</td>     <th>  R-squared (Overall):</th>    <td>-0.0430</td> \n",
       "</tr>\n",
       "<tr>\n",
       "  <th>Time:</th>                    <td>15:40:12</td>         <th>  Log-likelihood     </th>    <td>4.49e+04</td> \n",
       "</tr>\n",
       "<tr>\n",
       "  <th>Cov. Estimator:</th>          <td>Clustered</td>        <th>                     </th>        <td></td>     \n",
       "</tr>\n",
       "<tr>\n",
       "  <th></th>                             <td></td>             <th>  F-statistic:       </th>     <td>137.36</td>  \n",
       "</tr>\n",
       "<tr>\n",
       "  <th>Entities:</th>                  <td>1209</td>           <th>  P-value            </th>     <td>0.0000</td>  \n",
       "</tr>\n",
       "<tr>\n",
       "  <th>Avg Obs:</th>                  <td>19.831</td>          <th>  Distribution:      </th>   <td>F(1,22742)</td>\n",
       "</tr>\n",
       "<tr>\n",
       "  <th>Min Obs:</th>                  <td>8.0000</td>          <th>                     </th>        <td></td>     \n",
       "</tr>\n",
       "<tr>\n",
       "  <th>Max Obs:</th>                  <td>25.000</td>          <th>  F-statistic (robust):</th>   <td>59.981</td>  \n",
       "</tr>\n",
       "<tr>\n",
       "  <th></th>                             <td></td>             <th>  P-value            </th>     <td>0.0000</td>  \n",
       "</tr>\n",
       "<tr>\n",
       "  <th>Time periods:</th>               <td>31</td>            <th>  Distribution:      </th>   <td>F(1,22742)</td>\n",
       "</tr>\n",
       "<tr>\n",
       "  <th>Avg Obs:</th>                  <td>773.42</td>          <th>                     </th>        <td></td>     \n",
       "</tr>\n",
       "<tr>\n",
       "  <th>Min Obs:</th>                  <td>0.0000</td>          <th>                     </th>        <td></td>     \n",
       "</tr>\n",
       "<tr>\n",
       "  <th>Max Obs:</th>                  <td>1174.0</td>          <th>                     </th>        <td></td>     \n",
       "</tr>\n",
       "<tr>\n",
       "  <th></th>                             <td></td>             <th>                     </th>        <td></td>     \n",
       "</tr>\n",
       "</table>\n",
       "<table class=\"simpletable\">\n",
       "<caption>Parameter Estimates</caption>\n",
       "<tr>\n",
       "         <td></td>        <th>Parameter</th> <th>Std. Err.</th> <th>T-stat</th>  <th>P-value</th> <th>Lower CI</th> <th>Upper CI</th>\n",
       "</tr>\n",
       "<tr>\n",
       "  <th>Intercept</th>       <td>-0.0263</td>   <td>0.0036</td>   <td>-7.2416</td> <td>0.0000</td>   <td>-0.0334</td>  <td>-0.0192</td>\n",
       "</tr>\n",
       "<tr>\n",
       "  <th>loading_factor</th>  <td>0.0817</td>    <td>0.0105</td>   <td>7.7448</td>  <td>0.0000</td>   <td>0.0610</td>   <td>0.1024</td> \n",
       "</tr>\n",
       "</table><br/><br/>F-test for Poolability: 1.2019<br/>P-value: 0.0000<br/>Distribution: F(1232,22742)<br/><br/>Included effects: Entity, Time"
      ],
      "text/plain": [
       "<class 'linearmodels.compat.statsmodels.Summary'>\n",
       "\"\"\"\n",
       "                             PanelOLS Estimation Summary                             \n",
       "=====================================================================================\n",
       "Dep. Variable:     price_change_percentage   R-squared:                        0.0060\n",
       "Estimator:                        PanelOLS   R-squared (Between):             -0.6022\n",
       "No. Observations:                    23976   R-squared (Within):              -0.0140\n",
       "Date:                     Mon, Dec 14 2020   R-squared (Overall):             -0.0430\n",
       "Time:                             15:40:12   Log-likelihood                  4.49e+04\n",
       "Cov. Estimator:                  Clustered                                           \n",
       "                                             F-statistic:                      137.36\n",
       "Entities:                             1209   P-value                           0.0000\n",
       "Avg Obs:                            19.831   Distribution:                 F(1,22742)\n",
       "Min Obs:                            8.0000                                           \n",
       "Max Obs:                            25.000   F-statistic (robust):             59.981\n",
       "                                             P-value                           0.0000\n",
       "Time periods:                           31   Distribution:                 F(1,22742)\n",
       "Avg Obs:                            773.42                                           \n",
       "Min Obs:                            0.0000                                           \n",
       "Max Obs:                            1174.0                                           \n",
       "                                                                                     \n",
       "                               Parameter Estimates                                \n",
       "==================================================================================\n",
       "                Parameter  Std. Err.     T-stat    P-value    Lower CI    Upper CI\n",
       "----------------------------------------------------------------------------------\n",
       "Intercept         -0.0263     0.0036    -7.2416     0.0000     -0.0334     -0.0192\n",
       "loading_factor     0.0817     0.0105     7.7448     0.0000      0.0610      0.1024\n",
       "==================================================================================\n",
       "\n",
       "F-test for Poolability: 1.2019\n",
       "P-value: 0.0000\n",
       "Distribution: F(1232,22742)\n",
       "\n",
       "Included effects: Entity, Time\n",
       "\"\"\""
      ]
     },
     "execution_count": 97,
     "metadata": {},
     "output_type": "execute_result"
    }
   ],
   "source": [
    "fe_lm = PanelOLS.from_formula(\n",
    "    \"price_change_percentage ~ 1 + loading_factor + TimeEffects + EntityEffects\",\n",
    "    panel_data.query(\"days_till_dep >5\"),\n",
    "    # weights=\n",
    ").fit(cov_type=\"clustered\", cluster_entity=True)\n",
    "\n",
    "fe_lm.summary"
   ]
  },
  {
   "cell_type": "code",
   "execution_count": 60,
   "metadata": {},
   "outputs": [
    {
     "data": {
      "text/plain": [
       "Index(['mean_econ_price', 'mean_first_price', 'max_econ_seats',\n",
       "       'min_econ_seats', 'mean_econ_seats', 'max_first_seats',\n",
       "       'min_first_seats', 'mean_first_seats', 'departure', 'duration',\n",
       "       'econ_seats_sold', 'first_seats_sold', 'weekday', 'depart_month',\n",
       "       'depart_hour', 'day_part', 'price_change', 'price_change_percentage',\n",
       "       'price_change_direction', 'price_increase', 'seats_sold_prev_day',\n",
       "       'sales_prev_day', 'max_seat_capacity', 'capacity', 'loading_factor',\n",
       "       'route', 'peak_hour', 'days_since', 'loading_factor_median',\n",
       "       'loading_factor_cat'],\n",
       "      dtype='object')"
      ]
     },
     "execution_count": 60,
     "metadata": {},
     "output_type": "execute_result"
    }
   ],
   "source": [
    "panel_data.columns"
   ]
  },
  {
   "cell_type": "code",
   "execution_count": 108,
   "metadata": {},
   "outputs": [
    {
     "name": "stderr",
     "output_type": "stream",
     "text": [
      "/usr/local/lib/python3.8/site-packages/linearmodels/panel/data.py:98: FutureWarning: is_categorical is deprecated and will be removed in a future version.  Use is_categorical_dtype instead\n",
      "  if is_categorical(s):\n"
     ]
    },
    {
     "data": {
      "text/html": [
       "<table class=\"simpletable\">\n",
       "<caption>PanelOLS Estimation Summary</caption>\n",
       "<tr>\n",
       "  <th>Dep. Variable:</th>    <td>price_change_percentage</td> <th>  R-squared:         </th>    <td>0.0128</td>  \n",
       "</tr>\n",
       "<tr>\n",
       "  <th>Estimator:</th>               <td>PanelOLS</td>         <th>  R-squared (Between):</th>   <td>-0.2876</td> \n",
       "</tr>\n",
       "<tr>\n",
       "  <th>No. Observations:</th>          <td>6360</td>           <th>  R-squared (Within):</th>    <td>0.0210</td>  \n",
       "</tr>\n",
       "<tr>\n",
       "  <th>Date:</th>                <td>Mon, Dec 14 2020</td>     <th>  R-squared (Overall):</th>   <td>-0.0288</td> \n",
       "</tr>\n",
       "<tr>\n",
       "  <th>Time:</th>                    <td>15:47:02</td>         <th>  Log-likelihood     </th>   <td>1.074e+04</td>\n",
       "</tr>\n",
       "<tr>\n",
       "  <th>Cov. Estimator:</th>          <td>Clustered</td>        <th>                     </th>       <td></td>     \n",
       "</tr>\n",
       "<tr>\n",
       "  <th></th>                             <td></td>             <th>  F-statistic:       </th>    <td>66.875</td>  \n",
       "</tr>\n",
       "<tr>\n",
       "  <th>Entities:</th>                  <td>1209</td>           <th>  P-value            </th>    <td>0.0000</td>  \n",
       "</tr>\n",
       "<tr>\n",
       "  <th>Avg Obs:</th>                  <td>5.2605</td>          <th>  Distribution:      </th>   <td>F(1,5145)</td>\n",
       "</tr>\n",
       "<tr>\n",
       "  <th>Min Obs:</th>                  <td>1.0000</td>          <th>                     </th>       <td></td>     \n",
       "</tr>\n",
       "<tr>\n",
       "  <th>Max Obs:</th>                  <td>6.0000</td>          <th>  F-statistic (robust):</th>  <td>28.725</td>  \n",
       "</tr>\n",
       "<tr>\n",
       "  <th></th>                             <td></td>             <th>  P-value            </th>    <td>0.0000</td>  \n",
       "</tr>\n",
       "<tr>\n",
       "  <th>Time periods:</th>                <td>6</td>            <th>  Distribution:      </th>   <td>F(1,5145)</td>\n",
       "</tr>\n",
       "<tr>\n",
       "  <th>Avg Obs:</th>                  <td>1060.0</td>          <th>                     </th>       <td></td>     \n",
       "</tr>\n",
       "<tr>\n",
       "  <th>Min Obs:</th>                  <td>749.00</td>          <th>                     </th>       <td></td>     \n",
       "</tr>\n",
       "<tr>\n",
       "  <th>Max Obs:</th>                  <td>1171.0</td>          <th>                     </th>       <td></td>     \n",
       "</tr>\n",
       "<tr>\n",
       "  <th></th>                             <td></td>             <th>                     </th>       <td></td>     \n",
       "</tr>\n",
       "</table>\n",
       "<table class=\"simpletable\">\n",
       "<caption>Parameter Estimates</caption>\n",
       "<tr>\n",
       "         <td></td>        <th>Parameter</th> <th>Std. Err.</th> <th>T-stat</th>  <th>P-value</th> <th>Lower CI</th> <th>Upper CI</th>\n",
       "</tr>\n",
       "<tr>\n",
       "  <th>Intercept</th>       <td>-0.0452</td>   <td>0.0107</td>   <td>-4.2412</td> <td>0.0000</td>   <td>-0.0661</td>  <td>-0.0243</td>\n",
       "</tr>\n",
       "<tr>\n",
       "  <th>loading_factor</th>  <td>0.1022</td>    <td>0.0191</td>   <td>5.3596</td>  <td>0.0000</td>   <td>0.0648</td>   <td>0.1396</td> \n",
       "</tr>\n",
       "</table><br/><br/>F-test for Poolability: 0.9034<br/>P-value: 0.9867<br/>Distribution: F(1213,5145)<br/><br/>Included effects: Entity, Time"
      ],
      "text/plain": [
       "<class 'linearmodels.compat.statsmodels.Summary'>\n",
       "\"\"\"\n",
       "                             PanelOLS Estimation Summary                             \n",
       "=====================================================================================\n",
       "Dep. Variable:     price_change_percentage   R-squared:                        0.0128\n",
       "Estimator:                        PanelOLS   R-squared (Between):             -0.2876\n",
       "No. Observations:                     6360   R-squared (Within):               0.0210\n",
       "Date:                     Mon, Dec 14 2020   R-squared (Overall):             -0.0288\n",
       "Time:                             15:47:02   Log-likelihood                 1.074e+04\n",
       "Cov. Estimator:                  Clustered                                           \n",
       "                                             F-statistic:                      66.875\n",
       "Entities:                             1209   P-value                           0.0000\n",
       "Avg Obs:                            5.2605   Distribution:                  F(1,5145)\n",
       "Min Obs:                            1.0000                                           \n",
       "Max Obs:                            6.0000   F-statistic (robust):             28.725\n",
       "                                             P-value                           0.0000\n",
       "Time periods:                            6   Distribution:                  F(1,5145)\n",
       "Avg Obs:                            1060.0                                           \n",
       "Min Obs:                            749.00                                           \n",
       "Max Obs:                            1171.0                                           \n",
       "                                                                                     \n",
       "                               Parameter Estimates                                \n",
       "==================================================================================\n",
       "                Parameter  Std. Err.     T-stat    P-value    Lower CI    Upper CI\n",
       "----------------------------------------------------------------------------------\n",
       "Intercept         -0.0452     0.0107    -4.2412     0.0000     -0.0661     -0.0243\n",
       "loading_factor     0.1022     0.0191     5.3596     0.0000      0.0648      0.1396\n",
       "==================================================================================\n",
       "\n",
       "F-test for Poolability: 0.9034\n",
       "P-value: 0.9867\n",
       "Distribution: F(1213,5145)\n",
       "\n",
       "Included effects: Entity, Time\n",
       "\"\"\""
      ]
     },
     "execution_count": 108,
     "metadata": {},
     "output_type": "execute_result"
    }
   ],
   "source": [
    "fe_lm = PanelOLS.from_formula(\n",
    "    \"price_change_percentage ~ 1 + loading_factor + EntityEffects + TimeEffects\",\n",
    "    panel_data.query(\"days_till_dep <=5\"),\n",
    ").fit(cov_type=\"clustered\", cluster_entity=True)\n",
    "\n",
    "fe_lm.summary\n",
    "\n",
    "#F-test for Poolability: 0.9034\n",
    "#P-value: 0.9867\n",
    "#ki kéne venni az entity effectet?"
   ]
  },
  {
   "cell_type": "code",
   "execution_count": 106,
   "metadata": {},
   "outputs": [
    {
     "name": "stderr",
     "output_type": "stream",
     "text": [
      "/usr/local/lib/python3.8/site-packages/linearmodels/panel/data.py:98: FutureWarning: is_categorical is deprecated and will be removed in a future version.  Use is_categorical_dtype instead\n",
      "  if is_categorical(s):\n"
     ]
    },
    {
     "data": {
      "text/html": [
       "<table class=\"simpletable\">\n",
       "<caption>PanelOLS Estimation Summary</caption>\n",
       "<tr>\n",
       "  <th>Dep. Variable:</th>    <td>price_change_percentage</td> <th>  R-squared:         </th>     <td>0.0208</td>  \n",
       "</tr>\n",
       "<tr>\n",
       "  <th>Estimator:</th>               <td>PanelOLS</td>         <th>  R-squared (Between):</th>    <td>0.0842</td>  \n",
       "</tr>\n",
       "<tr>\n",
       "  <th>No. Observations:</th>          <td>6360</td>           <th>  R-squared (Within):</th>     <td>0.0123</td>  \n",
       "</tr>\n",
       "<tr>\n",
       "  <th>Date:</th>                <td>Mon, Dec 14 2020</td>     <th>  R-squared (Overall):</th>    <td>0.0246</td>  \n",
       "</tr>\n",
       "<tr>\n",
       "  <th>Time:</th>                    <td>15:44:33</td>         <th>  Log-likelihood     </th>    <td>1.018e+04</td>\n",
       "</tr>\n",
       "<tr>\n",
       "  <th>Cov. Estimator:</th>          <td>Clustered</td>        <th>                     </th>        <td></td>     \n",
       "</tr>\n",
       "<tr>\n",
       "  <th></th>                             <td></td>             <th>  F-statistic:       </th>     <td>8.4208</td>  \n",
       "</tr>\n",
       "<tr>\n",
       "  <th>Entities:</th>                  <td>1209</td>           <th>  P-value            </th>     <td>0.0000</td>  \n",
       "</tr>\n",
       "<tr>\n",
       "  <th>Avg Obs:</th>                  <td>5.2605</td>          <th>  Distribution:      </th>   <td>F(16,6338)</td>\n",
       "</tr>\n",
       "<tr>\n",
       "  <th>Min Obs:</th>                  <td>1.0000</td>          <th>                     </th>        <td></td>     \n",
       "</tr>\n",
       "<tr>\n",
       "  <th>Max Obs:</th>                  <td>6.0000</td>          <th>  F-statistic (robust):</th>   <td>10.842</td>  \n",
       "</tr>\n",
       "<tr>\n",
       "  <th></th>                             <td></td>             <th>  P-value            </th>     <td>0.0000</td>  \n",
       "</tr>\n",
       "<tr>\n",
       "  <th>Time periods:</th>                <td>6</td>            <th>  Distribution:      </th>   <td>F(16,6338)</td>\n",
       "</tr>\n",
       "<tr>\n",
       "  <th>Avg Obs:</th>                  <td>1060.0</td>          <th>                     </th>        <td></td>     \n",
       "</tr>\n",
       "<tr>\n",
       "  <th>Min Obs:</th>                  <td>749.00</td>          <th>                     </th>        <td></td>     \n",
       "</tr>\n",
       "<tr>\n",
       "  <th>Max Obs:</th>                  <td>1171.0</td>          <th>                     </th>        <td></td>     \n",
       "</tr>\n",
       "<tr>\n",
       "  <th></th>                             <td></td>             <th>                     </th>        <td></td>     \n",
       "</tr>\n",
       "</table>\n",
       "<table class=\"simpletable\">\n",
       "<caption>Parameter Estimates</caption>\n",
       "<tr>\n",
       "              <td></td>             <th>Parameter</th> <th>Std. Err.</th> <th>T-stat</th>  <th>P-value</th>  <th>Lower CI</th>  <th>Upper CI</th>\n",
       "</tr>\n",
       "<tr>\n",
       "  <th>Intercept</th>                 <td>-0.0147</td>   <td>0.0041</td>   <td>-3.5780</td> <td>0.0003</td>    <td>-0.0227</td>   <td>-0.0066</td>\n",
       "</tr>\n",
       "<tr>\n",
       "  <th>sales_prev_day[T.True]</th>    <td>0.0094</td>    <td>0.0025</td>   <td>3.7350</td>  <td>0.0002</td>    <td>0.0045</td>    <td>0.0144</td> \n",
       "</tr>\n",
       "<tr>\n",
       "  <th>weekday[T.1]</th>              <td>0.0035</td>    <td>0.0018</td>   <td>1.9298</td>  <td>0.0537</td>  <td>-5.504e-05</td>  <td>0.0070</td> \n",
       "</tr>\n",
       "<tr>\n",
       "  <th>weekday[T.2]</th>              <td>-0.0010</td>   <td>0.0017</td>   <td>-0.5816</td> <td>0.5609</td>    <td>-0.0043</td>   <td>0.0024</td> \n",
       "</tr>\n",
       "<tr>\n",
       "  <th>weekday[T.3]</th>              <td>-0.0013</td>   <td>0.0020</td>   <td>-0.6677</td> <td>0.5044</td>    <td>-0.0053</td>   <td>0.0026</td> \n",
       "</tr>\n",
       "<tr>\n",
       "  <th>weekday[T.4]</th>              <td>0.0030</td>    <td>0.0022</td>   <td>1.3795</td>  <td>0.1678</td>    <td>-0.0013</td>   <td>0.0072</td> \n",
       "</tr>\n",
       "<tr>\n",
       "  <th>weekday[T.5]</th>              <td>0.0035</td>    <td>0.0023</td>   <td>1.4823</td>  <td>0.1383</td>    <td>-0.0011</td>   <td>0.0080</td> \n",
       "</tr>\n",
       "<tr>\n",
       "  <th>weekday[T.6]</th>              <td>-0.0060</td>   <td>0.0023</td>   <td>-2.6824</td> <td>0.0073</td>    <td>-0.0104</td>   <td>-0.0016</td>\n",
       "</tr>\n",
       "<tr>\n",
       "  <th>route[T.CORDOBAMADRID]</th>    <td>0.0024</td>    <td>0.0021</td>   <td>1.1735</td>  <td>0.2406</td>    <td>-0.0016</td>   <td>0.0064</td> \n",
       "</tr>\n",
       "<tr>\n",
       "  <th>route[T.MADRIDBARCELONA]</th>  <td>0.0024</td>    <td>0.0019</td>   <td>1.2595</td>  <td>0.2079</td>    <td>-0.0013</td>   <td>0.0060</td> \n",
       "</tr>\n",
       "<tr>\n",
       "  <th>route[T.MADRIDCORDOBA]</th>    <td>-0.0059</td>   <td>0.0018</td>   <td>-3.2187</td> <td>0.0013</td>    <td>-0.0095</td>   <td>-0.0023</td>\n",
       "</tr>\n",
       "<tr>\n",
       "  <th>route[T.MADRIDSEVILLA]</th>    <td>0.0006</td>    <td>0.0019</td>   <td>0.3083</td>  <td>0.7579</td>    <td>-0.0031</td>   <td>0.0043</td> \n",
       "</tr>\n",
       "<tr>\n",
       "  <th>route[T.MADRIDZARAGOZA]</th>   <td>-0.0024</td>   <td>0.0023</td>   <td>-1.0334</td> <td>0.3015</td>    <td>-0.0070</td>   <td>0.0022</td> \n",
       "</tr>\n",
       "<tr>\n",
       "  <th>route[T.SEVILLAMADRID]</th>    <td>0.0083</td>    <td>0.0021</td>   <td>3.9534</td>  <td>0.0001</td>    <td>0.0042</td>    <td>0.0125</td> \n",
       "</tr>\n",
       "<tr>\n",
       "  <th>route[T.ZARAGOZAMADRID]</th>   <td>-0.0016</td>   <td>0.0022</td>   <td>-0.7245</td> <td>0.4688</td>    <td>-0.0060</td>   <td>0.0028</td> \n",
       "</tr>\n",
       "<tr>\n",
       "  <th>loading_factor</th>            <td>0.0312</td>    <td>0.0045</td>   <td>6.9320</td>  <td>0.0000</td>    <td>0.0224</td>    <td>0.0400</td> \n",
       "</tr>\n",
       "<tr>\n",
       "  <th>peak_hour</th>                 <td>-0.0038</td>   <td>0.0013</td>   <td>-2.9919</td> <td>0.0028</td>    <td>-0.0062</td>   <td>-0.0013</td>\n",
       "</tr>\n",
       "</table><br/><br/>F-test for Poolability: 4.1519<br/>P-value: 0.0009<br/>Distribution: F(5,6338)<br/><br/>Included effects: Time"
      ],
      "text/plain": [
       "<class 'linearmodels.compat.statsmodels.Summary'>\n",
       "\"\"\"\n",
       "                             PanelOLS Estimation Summary                             \n",
       "=====================================================================================\n",
       "Dep. Variable:     price_change_percentage   R-squared:                        0.0208\n",
       "Estimator:                        PanelOLS   R-squared (Between):              0.0842\n",
       "No. Observations:                     6360   R-squared (Within):               0.0123\n",
       "Date:                     Mon, Dec 14 2020   R-squared (Overall):              0.0246\n",
       "Time:                             15:44:33   Log-likelihood                 1.018e+04\n",
       "Cov. Estimator:                  Clustered                                           \n",
       "                                             F-statistic:                      8.4208\n",
       "Entities:                             1209   P-value                           0.0000\n",
       "Avg Obs:                            5.2605   Distribution:                 F(16,6338)\n",
       "Min Obs:                            1.0000                                           \n",
       "Max Obs:                            6.0000   F-statistic (robust):             10.842\n",
       "                                             P-value                           0.0000\n",
       "Time periods:                            6   Distribution:                 F(16,6338)\n",
       "Avg Obs:                            1060.0                                           \n",
       "Min Obs:                            749.00                                           \n",
       "Max Obs:                            1171.0                                           \n",
       "                                                                                     \n",
       "                                    Parameter Estimates                                     \n",
       "============================================================================================\n",
       "                          Parameter  Std. Err.     T-stat    P-value    Lower CI    Upper CI\n",
       "--------------------------------------------------------------------------------------------\n",
       "Intercept                   -0.0147     0.0041    -3.5780     0.0003     -0.0227     -0.0066\n",
       "sales_prev_day[T.True]       0.0094     0.0025     3.7350     0.0002      0.0045      0.0144\n",
       "weekday[T.1]                 0.0035     0.0018     1.9298     0.0537  -5.504e-05      0.0070\n",
       "weekday[T.2]                -0.0010     0.0017    -0.5816     0.5609     -0.0043      0.0024\n",
       "weekday[T.3]                -0.0013     0.0020    -0.6677     0.5044     -0.0053      0.0026\n",
       "weekday[T.4]                 0.0030     0.0022     1.3795     0.1678     -0.0013      0.0072\n",
       "weekday[T.5]                 0.0035     0.0023     1.4823     0.1383     -0.0011      0.0080\n",
       "weekday[T.6]                -0.0060     0.0023    -2.6824     0.0073     -0.0104     -0.0016\n",
       "route[T.CORDOBAMADRID]       0.0024     0.0021     1.1735     0.2406     -0.0016      0.0064\n",
       "route[T.MADRIDBARCELONA]     0.0024     0.0019     1.2595     0.2079     -0.0013      0.0060\n",
       "route[T.MADRIDCORDOBA]      -0.0059     0.0018    -3.2187     0.0013     -0.0095     -0.0023\n",
       "route[T.MADRIDSEVILLA]       0.0006     0.0019     0.3083     0.7579     -0.0031      0.0043\n",
       "route[T.MADRIDZARAGOZA]     -0.0024     0.0023    -1.0334     0.3015     -0.0070      0.0022\n",
       "route[T.SEVILLAMADRID]       0.0083     0.0021     3.9534     0.0001      0.0042      0.0125\n",
       "route[T.ZARAGOZAMADRID]     -0.0016     0.0022    -0.7245     0.4688     -0.0060      0.0028\n",
       "loading_factor               0.0312     0.0045     6.9320     0.0000      0.0224      0.0400\n",
       "peak_hour                   -0.0038     0.0013    -2.9919     0.0028     -0.0062     -0.0013\n",
       "============================================================================================\n",
       "\n",
       "F-test for Poolability: 4.1519\n",
       "P-value: 0.0009\n",
       "Distribution: F(5,6338)\n",
       "\n",
       "Included effects: Time\n",
       "\"\"\""
      ]
     },
     "execution_count": 106,
     "metadata": {},
     "output_type": "execute_result"
    }
   ],
   "source": [
    "fe_lm = PanelOLS.from_formula(\n",
    "    \"price_change_percentage ~ 1 + loading_factor + sales_prev_day + peak_hour + weekday + route + TimeEffects\",\n",
    "    panel_data.query(\"days_till_dep <=5\"),\n",
    ").fit(cov_type=\"clustered\", cluster_entity=True)\n",
    "\n",
    "fe_lm.summary"
   ]
  },
  {
   "cell_type": "code",
   "execution_count": null,
   "metadata": {},
   "outputs": [],
   "source": []
  }
 ],
 "metadata": {
  "kernelspec": {
   "display_name": "Python 3",
   "language": "python",
   "name": "python3"
  },
  "language_info": {
   "codemirror_mode": {
    "name": "ipython",
    "version": 3
   },
   "file_extension": ".py",
   "mimetype": "text/x-python",
   "name": "python",
   "nbconvert_exporter": "python",
   "pygments_lexer": "ipython3",
   "version": "3.8.6"
  }
 },
 "nbformat": 4,
 "nbformat_minor": 4
}
