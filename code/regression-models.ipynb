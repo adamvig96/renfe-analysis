{
 "cells": [
  {
   "cell_type": "code",
   "execution_count": 2,
   "metadata": {},
   "outputs": [],
   "source": [
    "import pandas as pd\n",
    "import numpy as np\n",
    "\n",
    "import seaborn as sns\n",
    "import matplotlib.pyplot as plt\n",
    "\n",
    "import statsmodels.formula.api as smf\n",
    "from stargazer.stargazer import Stargazer\n",
    "from IPython.core.display import HTML"
   ]
  },
  {
   "cell_type": "code",
   "execution_count": 3,
   "metadata": {},
   "outputs": [],
   "source": [
    "data = pd.read_pickle(\"data/data_work.pkl\")"
   ]
  },
  {
   "cell_type": "code",
   "execution_count": 4,
   "metadata": {},
   "outputs": [],
   "source": [
    "data[\"weekday\"] = data[\"weekday\"].astype('category')"
   ]
  },
  {
   "cell_type": "code",
   "execution_count": 5,
   "metadata": {},
   "outputs": [],
   "source": [
    "formula_1 = \"price_increase ~ loading_factor + days_since + route\"\n",
    "formula_2 = \"price_increase ~ loading_factor + days_since * loading_factor + route\"\n",
    "formula_3 = \"price_increase ~ loading_factor + days_since * loading_factor + route + weekday\"\n",
    "formula_4 = \"price_increase ~ loading_factor + days_since * loading_factor + route + weekday + peak_hour\"\n",
    "formula_5 = \"price_increase ~ loading_factor + days_since * loading_factor + route + weekday + peak_hour + sales_prev_day\"\n",
    "#not used\n",
    "formula_6 = \"price_increase ~ loading_factor + np.power(loading_factor, 2)+ days_since * loading_factor + route + weekday + peak_hour + sales_prev_day\"\n",
    "\n",
    "formulas = [formula_1,formula_2,formula_3,formula_4,formula_5,formula_6]"
   ]
  },
  {
   "cell_type": "code",
   "execution_count": null,
   "metadata": {},
   "outputs": [],
   "source": [
    "data[\"price_increase\"].value_counts()[1]"
   ]
  },
  {
   "cell_type": "code",
   "execution_count": 9,
   "metadata": {},
   "outputs": [
    {
     "data": {
      "text/plain": [
       "0.1163"
      ]
     },
     "execution_count": 9,
     "metadata": {},
     "output_type": "execute_result"
    }
   ],
   "source": [
    "(data[\"price_increase\"].value_counts()[1]/data[\"price_increase\"].value_counts().sum()).round(4)"
   ]
  },
  {
   "cell_type": "code",
   "execution_count": 6,
   "metadata": {},
   "outputs": [],
   "source": [
    "def logit_estimate(formulas, data, days=[0, 30]):\n",
    "    output_dict = {}\n",
    "    for formula in formulas:\n",
    "        model = smf.logit(\n",
    "            formula, data=data.loc[data[\"days_till_dep\"].isin(range(days[0], days[1]))]\n",
    "        )\n",
    "        output_dict[formula] = model.fit(\n",
    "            cov_type=\"cluster\",\n",
    "            cov_kwds={\"groups\": data.loc[model.data.row_labels, \"train_id\"]},\n",
    "        )\n",
    "\n",
    "    return output_dict"
   ]
  },
  {
   "cell_type": "markdown",
   "metadata": {},
   "source": [
    "## 30 days"
   ]
  },
  {
   "cell_type": "code",
   "execution_count": 23,
   "metadata": {},
   "outputs": [
    {
     "name": "stdout",
     "output_type": "stream",
     "text": [
      "Optimization terminated successfully.\n",
      "         Current function value: 0.334016\n",
      "         Iterations 7\n",
      "Optimization terminated successfully.\n",
      "         Current function value: 0.333892\n",
      "         Iterations 7\n",
      "Optimization terminated successfully.\n",
      "         Current function value: 0.333409\n",
      "         Iterations 7\n",
      "Optimization terminated successfully.\n",
      "         Current function value: 0.331809\n",
      "         Iterations 7\n",
      "Optimization terminated successfully.\n",
      "         Current function value: 0.329979\n",
      "         Iterations 7\n",
      "Optimization terminated successfully.\n",
      "         Current function value: 0.329565\n",
      "         Iterations 7\n"
     ]
    }
   ],
   "source": [
    "out = logit_estimate(formulas, data, days=[0,33])"
   ]
  },
  {
   "cell_type": "code",
   "execution_count": 27,
   "metadata": {},
   "outputs": [
    {
     "data": {
      "text/html": [
       "<table class=\"simpletable\">\n",
       "<caption>Logit Marginal Effects</caption>\n",
       "<tr>\n",
       "  <th>Dep. Variable:</th> <td>price_increase</td>\n",
       "</tr>\n",
       "<tr>\n",
       "  <th>Method:</th>             <td>dyex</td>     \n",
       "</tr>\n",
       "<tr>\n",
       "  <th>At:</th>                <td>overall</td>   \n",
       "</tr>\n",
       "</table>\n",
       "<table class=\"simpletable\">\n",
       "<tr>\n",
       "              <th></th>               <th>dy/d(lnx)</th>  <th>std err</th>      <th>z</th>      <th>P>|z|</th>  <th>[0.025</th>    <th>0.975]</th>  \n",
       "</tr>\n",
       "<tr>\n",
       "  <th>route[T.CORDOBAMADRID]</th>    <td>    0.0090</td> <td>    0.001</td> <td>    6.293</td> <td> 0.000</td> <td>    0.006</td> <td>    0.012</td>\n",
       "</tr>\n",
       "<tr>\n",
       "  <th>route[T.MADRIDBARCELONA]</th>  <td>    0.0005</td> <td>    0.001</td> <td>    0.332</td> <td> 0.740</td> <td>   -0.002</td> <td>    0.003</td>\n",
       "</tr>\n",
       "<tr>\n",
       "  <th>route[T.MADRIDCORDOBA]</th>    <td>    0.0059</td> <td>    0.001</td> <td>    4.417</td> <td> 0.000</td> <td>    0.003</td> <td>    0.009</td>\n",
       "</tr>\n",
       "<tr>\n",
       "  <th>route[T.MADRIDSEVILLA]</th>    <td>    0.0024</td> <td>    0.001</td> <td>    2.576</td> <td> 0.010</td> <td>    0.001</td> <td>    0.004</td>\n",
       "</tr>\n",
       "<tr>\n",
       "  <th>route[T.MADRIDZARAGOZA]</th>   <td>   -0.0002</td> <td>    0.001</td> <td>   -0.299</td> <td> 0.765</td> <td>   -0.002</td> <td>    0.001</td>\n",
       "</tr>\n",
       "<tr>\n",
       "  <th>route[T.SEVILLAMADRID]</th>    <td>    0.0079</td> <td>    0.001</td> <td>    5.678</td> <td> 0.000</td> <td>    0.005</td> <td>    0.011</td>\n",
       "</tr>\n",
       "<tr>\n",
       "  <th>route[T.ZARAGOZAMADRID]</th>   <td>    0.0012</td> <td>    0.001</td> <td>    1.389</td> <td> 0.165</td> <td>   -0.000</td> <td>    0.003</td>\n",
       "</tr>\n",
       "<tr>\n",
       "  <th>weekday[T.1]</th>              <td>   -0.0004</td> <td>    0.002</td> <td>   -0.214</td> <td> 0.831</td> <td>   -0.004</td> <td>    0.003</td>\n",
       "</tr>\n",
       "<tr>\n",
       "  <th>weekday[T.2]</th>              <td>   -0.0022</td> <td>    0.001</td> <td>   -1.792</td> <td> 0.073</td> <td>   -0.005</td> <td>    0.000</td>\n",
       "</tr>\n",
       "<tr>\n",
       "  <th>weekday[T.3]</th>              <td>   -0.0011</td> <td>    0.001</td> <td>   -1.209</td> <td> 0.227</td> <td>   -0.003</td> <td>    0.001</td>\n",
       "</tr>\n",
       "<tr>\n",
       "  <th>weekday[T.4]</th>              <td>-5.545e-05</td> <td>    0.001</td> <td>   -0.061</td> <td> 0.951</td> <td>   -0.002</td> <td>    0.002</td>\n",
       "</tr>\n",
       "<tr>\n",
       "  <th>weekday[T.5]</th>              <td>    0.0009</td> <td>    0.001</td> <td>    0.628</td> <td> 0.530</td> <td>   -0.002</td> <td>    0.004</td>\n",
       "</tr>\n",
       "<tr>\n",
       "  <th>weekday[T.6]</th>              <td>   -0.0011</td> <td>    0.001</td> <td>   -1.671</td> <td> 0.095</td> <td>   -0.002</td> <td>    0.000</td>\n",
       "</tr>\n",
       "<tr>\n",
       "  <th>sales_prev_day[T.True]</th>    <td>    0.0391</td> <td>    0.004</td> <td>    8.923</td> <td> 0.000</td> <td>    0.031</td> <td>    0.048</td>\n",
       "</tr>\n",
       "<tr>\n",
       "  <th>loading_factor</th>            <td>    0.0798</td> <td>    0.021</td> <td>    3.750</td> <td> 0.000</td> <td>    0.038</td> <td>    0.121</td>\n",
       "</tr>\n",
       "<tr>\n",
       "  <th>days_since</th>                <td>    0.0250</td> <td>    0.015</td> <td>    1.685</td> <td> 0.092</td> <td>   -0.004</td> <td>    0.054</td>\n",
       "</tr>\n",
       "<tr>\n",
       "  <th>days_since:loading_factor</th> <td>    0.0435</td> <td>    0.018</td> <td>    2.419</td> <td> 0.016</td> <td>    0.008</td> <td>    0.079</td>\n",
       "</tr>\n",
       "<tr>\n",
       "  <th>peak_hour</th>                 <td>   -0.0085</td> <td>    0.001</td> <td>   -9.543</td> <td> 0.000</td> <td>   -0.010</td> <td>   -0.007</td>\n",
       "</tr>\n",
       "</table>"
      ],
      "text/plain": [
       "<class 'statsmodels.iolib.summary.Summary'>\n",
       "\"\"\"\n",
       "        Logit Marginal Effects       \n",
       "=====================================\n",
       "Dep. Variable:         price_increase\n",
       "Method:                          dyex\n",
       "At:                           overall\n",
       "=============================================================================================\n",
       "                           dy/d(lnx)    std err          z      P>|z|      [0.025      0.975]\n",
       "---------------------------------------------------------------------------------------------\n",
       "route[T.CORDOBAMADRID]        0.0090      0.001      6.293      0.000       0.006       0.012\n",
       "route[T.MADRIDBARCELONA]      0.0005      0.001      0.332      0.740      -0.002       0.003\n",
       "route[T.MADRIDCORDOBA]        0.0059      0.001      4.417      0.000       0.003       0.009\n",
       "route[T.MADRIDSEVILLA]        0.0024      0.001      2.576      0.010       0.001       0.004\n",
       "route[T.MADRIDZARAGOZA]      -0.0002      0.001     -0.299      0.765      -0.002       0.001\n",
       "route[T.SEVILLAMADRID]        0.0079      0.001      5.678      0.000       0.005       0.011\n",
       "route[T.ZARAGOZAMADRID]       0.0012      0.001      1.389      0.165      -0.000       0.003\n",
       "weekday[T.1]                 -0.0004      0.002     -0.214      0.831      -0.004       0.003\n",
       "weekday[T.2]                 -0.0022      0.001     -1.792      0.073      -0.005       0.000\n",
       "weekday[T.3]                 -0.0011      0.001     -1.209      0.227      -0.003       0.001\n",
       "weekday[T.4]              -5.545e-05      0.001     -0.061      0.951      -0.002       0.002\n",
       "weekday[T.5]                  0.0009      0.001      0.628      0.530      -0.002       0.004\n",
       "weekday[T.6]                 -0.0011      0.001     -1.671      0.095      -0.002       0.000\n",
       "sales_prev_day[T.True]        0.0391      0.004      8.923      0.000       0.031       0.048\n",
       "loading_factor                0.0798      0.021      3.750      0.000       0.038       0.121\n",
       "days_since                    0.0250      0.015      1.685      0.092      -0.004       0.054\n",
       "days_since:loading_factor     0.0435      0.018      2.419      0.016       0.008       0.079\n",
       "peak_hour                    -0.0085      0.001     -9.543      0.000      -0.010      -0.007\n",
       "=============================================================================================\n",
       "\"\"\""
      ]
     },
     "execution_count": 27,
     "metadata": {},
     "output_type": "execute_result"
    }
   ],
   "source": [
    "out[formulas[4]].get_margeff(at='overall', method='dyex').summary()"
   ]
  },
  {
   "cell_type": "code",
   "execution_count": 1,
   "metadata": {},
   "outputs": [
    {
     "ename": "NameError",
     "evalue": "name 'logit_estimate' is not defined",
     "output_type": "error",
     "traceback": [
      "\u001b[0;31m---------------------------------------------------------------------------\u001b[0m",
      "\u001b[0;31mNameError\u001b[0m                                 Traceback (most recent call last)",
      "\u001b[0;32m<ipython-input-1-4bac3ff1af83>\u001b[0m in \u001b[0;36m<module>\u001b[0;34m\u001b[0m\n\u001b[0;32m----> 1\u001b[0;31m \u001b[0mout\u001b[0m \u001b[0;34m=\u001b[0m \u001b[0mlogit_estimate\u001b[0m\u001b[0;34m(\u001b[0m\u001b[0mformulas\u001b[0m\u001b[0;34m,\u001b[0m \u001b[0mdata\u001b[0m\u001b[0;34m,\u001b[0m \u001b[0mdays\u001b[0m\u001b[0;34m=\u001b[0m\u001b[0;34m[\u001b[0m\u001b[0;36m0\u001b[0m\u001b[0;34m,\u001b[0m\u001b[0;36m33\u001b[0m\u001b[0;34m]\u001b[0m\u001b[0;34m)\u001b[0m\u001b[0;34m\u001b[0m\u001b[0;34m\u001b[0m\u001b[0m\n\u001b[0m\u001b[1;32m      2\u001b[0m \u001b[0mstargazer\u001b[0m \u001b[0;34m=\u001b[0m \u001b[0mStargazer\u001b[0m\u001b[0;34m(\u001b[0m\u001b[0mlist\u001b[0m\u001b[0;34m(\u001b[0m\u001b[0mout\u001b[0m\u001b[0;34m.\u001b[0m\u001b[0mvalues\u001b[0m\u001b[0;34m(\u001b[0m\u001b[0;34m)\u001b[0m\u001b[0;34m)\u001b[0m\u001b[0;34m)\u001b[0m\u001b[0;34m\u001b[0m\u001b[0;34m\u001b[0m\u001b[0m\n\u001b[1;32m      3\u001b[0m \u001b[0mHTML\u001b[0m\u001b[0;34m(\u001b[0m\u001b[0mstargazer\u001b[0m\u001b[0;34m.\u001b[0m\u001b[0mrender_html\u001b[0m\u001b[0;34m(\u001b[0m\u001b[0;34m)\u001b[0m\u001b[0;34m)\u001b[0m\u001b[0;34m\u001b[0m\u001b[0;34m\u001b[0m\u001b[0m\n",
      "\u001b[0;31mNameError\u001b[0m: name 'logit_estimate' is not defined"
     ]
    }
   ],
   "source": [
    "out = logit_estimate(formulas, data, days=[0,33])\n",
    "stargazer = Stargazer(list(out.values()))\n",
    "HTML(stargazer.render_html())"
   ]
  },
  {
   "cell_type": "code",
   "execution_count": 15,
   "metadata": {},
   "outputs": [
    {
     "name": "stdout",
     "output_type": "stream",
     "text": [
      "Optimization terminated successfully.\n",
      "         Current function value: 0.334016\n",
      "         Iterations 7\n",
      "Optimization terminated successfully.\n",
      "         Current function value: 0.333892\n",
      "         Iterations 7\n",
      "Optimization terminated successfully.\n",
      "         Current function value: 0.333409\n",
      "         Iterations 7\n",
      "Optimization terminated successfully.\n",
      "         Current function value: 0.331809\n",
      "         Iterations 7\n",
      "Optimization terminated successfully.\n",
      "         Current function value: 0.329979\n",
      "         Iterations 7\n",
      "Optimization terminated successfully.\n",
      "         Current function value: 0.329979\n",
      "         Iterations 7\n"
     ]
    },
    {
     "data": {
      "text/html": [
       "<table style=\"text-align:center\"><tr><td colspan=\"7\" style=\"border-bottom: 1px solid black\"></td></tr><tr><td style=\"text-align:left\"></td><td colspan=\"6\"><em>Dependent variable:price_increase</em></td></tr><tr><td style=\"text-align:left\"></td><tr><td style=\"text-align:left\"></td><td>(1)</td><td>(2)</td><td>(3)</td><td>(4)</td><td>(5)</td><td>(6)</td></tr><tr><td colspan=\"7\" style=\"border-bottom: 1px solid black\"></td></tr><tr><td style=\"text-align:left\">Constant</td><td>-4.170<sup>***</sup></td><td>-3.833<sup>***</sup></td><td>-3.743<sup>***</sup></td><td>-3.646<sup>***</sup></td><td>-3.922<sup>***</sup></td><td>-3.922<sup>***</sup></td></tr><tr><td style=\"text-align:left\"></td><td>(0.097)</td><td>(0.173)</td><td>(0.183)</td><td>(0.181)</td><td>(0.183)</td><td>(0.183)</td></tr><tr><td style=\"text-align:left\">Day of the booking horizon</td><td>0.036<sup>***</sup></td><td>0.020<sup>**</sup></td><td>0.019<sup>**</sup></td><td>0.019<sup>**</sup></td><td>0.013<sup>*</sup></td><td>0.013<sup>*</sup></td></tr><tr><td style=\"text-align:left\"></td><td>(0.004)</td><td>(0.008)</td><td>(0.008)</td><td>(0.008)</td><td>(0.008)</td><td>(0.008)</td></tr><tr><td style=\"text-align:left\">Load factor</td><td>2.882<sup>***</sup></td><td>1.922<sup>***</sup></td><td>1.830<sup>***</sup></td><td>1.846<sup>***</sup></td><td>1.811<sup>***</sup></td><td>1.811<sup>***</sup></td></tr><tr><td style=\"text-align:left\"></td><td>(0.182)</td><td>(0.477)</td><td>(0.488)</td><td>(0.485)</td><td>(0.479)</td><td>(0.479)</td></tr><tr><td style=\"text-align:left\">Load factor * day of the BH</td><td></td><td>0.042<sup>**</sup></td><td>0.046<sup>**</sup></td><td>0.047<sup>**</sup></td><td>0.046<sup>**</sup></td><td>0.046<sup>**</sup></td></tr><tr><td style=\"text-align:left\"></td><td></td><td>(0.019)</td><td>(0.019)</td><td>(0.019)</td><td>(0.019)</td><td>(0.019)</td></tr><tr><td style=\"text-align:left\">Peak hour</td><td></td><td></td><td></td><td>-0.470<sup>***</sup></td><td>-0.469<sup>***</sup></td><td>-0.469<sup>***</sup></td></tr><tr><td style=\"text-align:left\"></td><td></td><td></td><td></td><td>(0.067)</td><td>(0.066)</td><td>(0.066)</td></tr><tr><td style=\"text-align:left\">Sales experienced on previous day</td><td></td><td></td><td></td><td></td><td>0.502<sup>***</sup></td><td>0.502<sup>***</sup></td></tr><tr><td style=\"text-align:left\"></td><td></td><td></td><td></td><td></td><td>(0.052)</td><td>(0.052)</td></tr><tr><td style=\"text-align: left\">Route</td><td>Yes</td><td>Yes</td><td>Yes</td><td>Yes</td><td>Yes</td><td>Yes</td></tr><tr><td style=\"text-align: left\">Weekday</td><td>No</td><td>No</td><td>Yes</td><td>Yes</td><td>Yes</td><td>Yes</td></tr><td colspan=\"7\" style=\"border-bottom: 1px solid black\"></td></tr><tr><td style=\"text-align: left\">Observations</td><td>30,336</td><td>30,336</td><td>30,336</td><td>30,336</td><td>30,336</td><td>30,336</td></tr><tr><td style=\"text-align: left\">R<sup>2</sup></td><td></td><td></td><td></td><td></td><td></td><td></td></tr><tr><td style=\"text-align: left\">Adjusted R<sup>2</sup></td><td></td><td></td><td></td><td></td><td></td><td></td></tr><tr><td style=\"text-align: left\">Residual Std. Error</td><td>1.000 (df=30326)</td><td>1.000 (df=30325)</td><td>1.000 (df=30319)</td><td>1.000 (df=30318)</td><td>1.000 (df=30317)</td><td>1.000 (df=30317)</td></tr><tr><td style=\"text-align: left\">F Statistic</td><td><sup></sup> (df=9; 30326)</td><td><sup></sup> (df=10; 30325)</td><td><sup></sup> (df=16; 30319)</td><td><sup></sup> (df=17; 30318)</td><td><sup></sup> (df=18; 30317)</td><td><sup></sup> (df=18; 30317)</td></tr><tr><td colspan=\"7\" style=\"border-bottom: 1px solid black\"></td></tr><tr><td style=\"text-align: left\">Note:</td>\n",
       " <td colspan=\"6\" style=\"text-align: right\">\n",
       "  <sup>*</sup>p&lt;0.1;\n",
       "  <sup>**</sup>p&lt;0.05;\n",
       "  <sup>***</sup>p&lt;0.01\n",
       " </td></tr><tr><td></td><td colspan=\"6\" style=\"text-align: right\">Clustered standard errors are in parenthesis</td></tr></table>"
      ],
      "text/plain": [
       "<IPython.core.display.HTML object>"
      ]
     },
     "execution_count": 15,
     "metadata": {},
     "output_type": "execute_result"
    }
   ],
   "source": [
    "out = logit_estimate(formulas, data, days=[0,33])\n",
    "stargazer = Stargazer(list(out.values()))\n",
    "\n",
    "stargazer.rename_covariates(\n",
    "    {\n",
    "        \"Intercept\": \"Constant\",\n",
    "        \"loading_factor\": \"Load factor\",\n",
    "        \"days_since\": \"Day of the booking horizon\",\n",
    "        \"peak_hour\": \"Peak hour\",\n",
    "        \"sales_prev_day[T.True]\": \"Sales experienced on previous day\",\n",
    "        \"days_since:loading_factor\":\"Load factor * day of the BH\"\n",
    "    }\n",
    ")\n",
    "stargazer.covariate_order(\n",
    "    [\n",
    "        \"Intercept\",\n",
    "        \"days_since\",\n",
    "        \"loading_factor\",\n",
    "        \"days_since:loading_factor\",\n",
    "        \"peak_hour\",\n",
    "        \"sales_prev_day[T.True]\",\n",
    "    ]\n",
    ")\n",
    "\n",
    "\n",
    "stargazer.add_line(\n",
    "    \"Route\",\n",
    "    [\"Yes\", \"Yes\", \"Yes\", \"Yes\", \"Yes\"],\n",
    ")\n",
    "stargazer.add_line(\n",
    "    \"Weekday\",\n",
    "    [\"No\", \"No\", \"Yes\", \"Yes\", \"Yes\"],\n",
    ")\n",
    "stargazer.add_custom_notes([\"Clustered standard errors are in parenthesis\"])\n",
    "\n",
    "output_1 = HTML(stargazer.render_html())\n",
    "\n",
    "html = output_1.data\n",
    "with open(\"regression_outputs/logit_output_30days.html\", \"w\") as f:\n",
    "    f.write(html)\n",
    "HTML(stargazer.render_html())"
   ]
  },
  {
   "cell_type": "markdown",
   "metadata": {},
   "source": [
    "## last 5 days"
   ]
  },
  {
   "cell_type": "code",
   "execution_count": 88,
   "metadata": {},
   "outputs": [
    {
     "data": {
      "text/plain": [
       "True     4754\n",
       "False     448\n",
       "Name: sales_prev_day, dtype: int64"
      ]
     },
     "execution_count": 88,
     "metadata": {},
     "output_type": "execute_result"
    }
   ],
   "source": [
    "data.query(\"days_till_dep<5\")[\"sales_prev_day\"].value_counts()"
   ]
  },
  {
   "cell_type": "code",
   "execution_count": 13,
   "metadata": {},
   "outputs": [
    {
     "name": "stdout",
     "output_type": "stream",
     "text": [
      "Optimization terminated successfully.\n",
      "         Current function value: 0.545135\n",
      "         Iterations 6\n",
      "Optimization terminated successfully.\n",
      "         Current function value: 0.544982\n",
      "         Iterations 6\n",
      "Optimization terminated successfully.\n",
      "         Current function value: 0.541076\n",
      "         Iterations 6\n",
      "Optimization terminated successfully.\n",
      "         Current function value: 0.539536\n",
      "         Iterations 6\n",
      "Optimization terminated successfully.\n",
      "         Current function value: 0.538468\n",
      "         Iterations 6\n",
      "Optimization terminated successfully.\n",
      "         Current function value: 0.537133\n",
      "         Iterations 6\n"
     ]
    },
    {
     "data": {
      "text/html": [
       "<table style=\"text-align:center\"><tr><td colspan=\"7\" style=\"border-bottom: 1px solid black\"></td></tr><tr><td style=\"text-align:left\"></td><td colspan=\"6\"><em>Dependent variable:price_increase</em></td></tr><tr><td style=\"text-align:left\"></td><tr><td style=\"text-align:left\"></td><td>(1)</td><td>(2)</td><td>(3)</td><td>(4)</td><td>(5)</td><td>(6)</td></tr><tr><td colspan=\"7\" style=\"border-bottom: 1px solid black\"></td></tr><tr><td style=\"text-align:left\">Intercept</td><td>-4.910<sup>***</sup></td><td>-8.271<sup>***</sup></td><td>-8.430<sup>***</sup></td><td>-8.478<sup>***</sup></td><td>-8.736<sup>***</sup></td><td>-7.376<sup>**</sup></td></tr><tr><td style=\"text-align:left\"></td><td>(0.802)</td><td>(3.041)</td><td>(3.049)</td><td>(3.058)</td><td>(3.065)</td><td>(3.292)</td></tr><tr><td style=\"text-align:left\">days_since</td><td>0.101<sup>***</sup></td><td>0.221<sup>**</sup></td><td>0.223<sup>**</sup></td><td>0.226<sup>**</sup></td><td>0.220<sup>**</sup></td><td>0.117<sup></sup></td></tr><tr><td style=\"text-align:left\"></td><td>(0.030)</td><td>(0.108)</td><td>(0.109)</td><td>(0.109)</td><td>(0.109)</td><td>(0.120)</td></tr><tr><td style=\"text-align:left\">days_since:loading_factor</td><td></td><td>-0.199<sup></sup></td><td>-0.202<sup></sup></td><td>-0.211<sup></sup></td><td>-0.204<sup></sup></td><td>-0.020<sup></sup></td></tr><tr><td style=\"text-align:left\"></td><td></td><td>(0.177)</td><td>(0.178)</td><td>(0.178)</td><td>(0.178)</td><td>(0.199)</td></tr><tr><td style=\"text-align:left\">loading_factor</td><td>1.615<sup>***</sup></td><td>7.234<sup></sup></td><td>7.368<sup></sup></td><td>7.674<sup></sup></td><td>7.503<sup></sup></td><td>7.772<sup></sup></td></tr><tr><td style=\"text-align:left\"></td><td>(0.268)</td><td>(5.005)</td><td>(5.033)</td><td>(5.046)</td><td>(5.049)</td><td>(5.378)</td></tr><tr><td style=\"text-align:left\">np.power(loading_factor, 2)</td><td></td><td></td><td></td><td></td><td></td><td>-4.465<sup>***</sup></td></tr><tr><td style=\"text-align:left\"></td><td></td><td></td><td></td><td></td><td></td><td>(1.373)</td></tr><tr><td style=\"text-align:left\">peak_hour</td><td></td><td></td><td></td><td>-0.319<sup>***</sup></td><td>-0.316<sup>***</sup></td><td>-0.311<sup>***</sup></td></tr><tr><td style=\"text-align:left\"></td><td></td><td></td><td></td><td>(0.097)</td><td>(0.097)</td><td>(0.097)</td></tr><tr><td style=\"text-align:left\">route[T.CORDOBAMADRID]</td><td>0.048<sup></sup></td><td>0.063<sup></sup></td><td>0.021<sup></sup></td><td>-0.026<sup></sup></td><td>-0.007<sup></sup></td><td>0.011<sup></sup></td></tr><tr><td style=\"text-align:left\"></td><td>(0.155)</td><td>(0.156)</td><td>(0.158)</td><td>(0.158)</td><td>(0.158)</td><td>(0.160)</td></tr><tr><td style=\"text-align:left\">route[T.MADRIDBARCELONA]</td><td>0.053<sup></sup></td><td>0.055<sup></sup></td><td>0.091<sup></sup></td><td>0.111<sup></sup></td><td>0.119<sup></sup></td><td>0.108<sup></sup></td></tr><tr><td style=\"text-align:left\"></td><td>(0.115)</td><td>(0.115)</td><td>(0.116)</td><td>(0.114)</td><td>(0.114)</td><td>(0.112)</td></tr><tr><td style=\"text-align:left\">route[T.MADRIDCORDOBA]</td><td>-0.278<sup></sup></td><td>-0.268<sup></sup></td><td>-0.262<sup></sup></td><td>-0.276<sup></sup></td><td>-0.277<sup></sup></td><td>-0.272<sup></sup></td></tr><tr><td style=\"text-align:left\"></td><td>(0.182)</td><td>(0.182)</td><td>(0.184)</td><td>(0.188)</td><td>(0.188)</td><td>(0.190)</td></tr><tr><td style=\"text-align:left\">route[T.MADRIDSEVILLA]</td><td>0.093<sup></sup></td><td>0.098<sup></sup></td><td>0.133<sup></sup></td><td>0.086<sup></sup></td><td>0.089<sup></sup></td><td>0.031<sup></sup></td></tr><tr><td style=\"text-align:left\"></td><td>(0.153)</td><td>(0.153)</td><td>(0.153)</td><td>(0.154)</td><td>(0.154)</td><td>(0.156)</td></tr><tr><td style=\"text-align:left\">route[T.MADRIDZARAGOZA]</td><td>-0.348<sup>**</sup></td><td>-0.344<sup>**</sup></td><td>-0.303<sup>*</sup></td><td>-0.286<sup></sup></td><td>-0.284<sup></sup></td><td>-0.300<sup>*</sup></td></tr><tr><td style=\"text-align:left\"></td><td>(0.170)</td><td>(0.170)</td><td>(0.173)</td><td>(0.175)</td><td>(0.174)</td><td>(0.173)</td></tr><tr><td style=\"text-align:left\">route[T.SEVILLAMADRID]</td><td>0.626<sup>***</sup></td><td>0.629<sup>***</sup></td><td>0.585<sup>***</sup></td><td>0.527<sup>***</sup></td><td>0.553<sup>***</sup></td><td>0.503<sup>***</sup></td></tr><tr><td style=\"text-align:left\"></td><td>(0.145)</td><td>(0.146)</td><td>(0.145)</td><td>(0.145)</td><td>(0.146)</td><td>(0.149)</td></tr><tr><td style=\"text-align:left\">route[T.ZARAGOZAMADRID]</td><td>-0.064<sup></sup></td><td>-0.064<sup></sup></td><td>-0.097<sup></sup></td><td>-0.068<sup></sup></td><td>-0.066<sup></sup></td><td>-0.090<sup></sup></td></tr><tr><td style=\"text-align:left\"></td><td>(0.142)</td><td>(0.142)</td><td>(0.145)</td><td>(0.144)</td><td>(0.144)</td><td>(0.142)</td></tr><tr><td style=\"text-align:left\">sales_prev_day[T.True]</td><td></td><td></td><td></td><td></td><td>0.411<sup>***</sup></td><td>0.404<sup>***</sup></td></tr><tr><td style=\"text-align:left\"></td><td></td><td></td><td></td><td></td><td>(0.126)</td><td>(0.127)</td></tr><tr><td style=\"text-align:left\">weekday[T.1]</td><td></td><td></td><td>0.137<sup></sup></td><td>0.137<sup></sup></td><td>0.133<sup></sup></td><td>0.119<sup></sup></td></tr><tr><td style=\"text-align:left\"></td><td></td><td></td><td>(0.127)</td><td>(0.126)</td><td>(0.126)</td><td>(0.124)</td></tr><tr><td style=\"text-align:left\">weekday[T.2]</td><td></td><td></td><td>-0.048<sup></sup></td><td>-0.026<sup></sup></td><td>-0.006<sup></sup></td><td>-0.055<sup></sup></td></tr><tr><td style=\"text-align:left\"></td><td></td><td></td><td>(0.137)</td><td>(0.136)</td><td>(0.135)</td><td>(0.135)</td></tr><tr><td style=\"text-align:left\">weekday[T.3]</td><td></td><td></td><td>-0.070<sup></sup></td><td>-0.044<sup></sup></td><td>-0.036<sup></sup></td><td>-0.077<sup></sup></td></tr><tr><td style=\"text-align:left\"></td><td></td><td></td><td>(0.164)</td><td>(0.164)</td><td>(0.163)</td><td>(0.162)</td></tr><tr><td style=\"text-align:left\">weekday[T.4]</td><td></td><td></td><td>0.201<sup></sup></td><td>0.229<sup></sup></td><td>0.252<sup></sup></td><td>0.224<sup></sup></td></tr><tr><td style=\"text-align:left\"></td><td></td><td></td><td>(0.164)</td><td>(0.163)</td><td>(0.163)</td><td>(0.162)</td></tr><tr><td style=\"text-align:left\">weekday[T.5]</td><td></td><td></td><td>0.407<sup>***</sup></td><td>0.411<sup>***</sup></td><td>0.438<sup>***</sup></td><td>0.414<sup>***</sup></td></tr><tr><td style=\"text-align:left\"></td><td></td><td></td><td>(0.137)</td><td>(0.138)</td><td>(0.137)</td><td>(0.137)</td></tr><tr><td style=\"text-align:left\">weekday[T.6]</td><td></td><td></td><td>-0.454<sup>**</sup></td><td>-0.381<sup>*</sup></td><td>-0.363<sup>*</sup></td><td>-0.395<sup>*</sup></td></tr><tr><td style=\"text-align:left\"></td><td></td><td></td><td>(0.200)</td><td>(0.202)</td><td>(0.202)</td><td>(0.204)</td></tr><td colspan=\"7\" style=\"border-bottom: 1px solid black\"></td></tr><tr><td style=\"text-align: left\">Observations</td><td>5,202</td><td>5,202</td><td>5,202</td><td>5,202</td><td>5,202</td><td>5,202</td></tr><tr><td style=\"text-align: left\">R<sup>2</sup></td><td></td><td></td><td></td><td></td><td></td><td></td></tr><tr><td style=\"text-align: left\">Adjusted R<sup>2</sup></td><td></td><td></td><td></td><td></td><td></td><td></td></tr><tr><td style=\"text-align: left\">Residual Std. Error</td><td>1.000 (df=5192)</td><td>1.000 (df=5191)</td><td>1.000 (df=5185)</td><td>1.000 (df=5184)</td><td>1.000 (df=5183)</td><td>1.000 (df=5182)</td></tr><tr><td style=\"text-align: left\">F Statistic</td><td><sup></sup> (df=9; 5192)</td><td><sup></sup> (df=10; 5191)</td><td><sup></sup> (df=16; 5185)</td><td><sup></sup> (df=17; 5184)</td><td><sup></sup> (df=18; 5183)</td><td><sup></sup> (df=19; 5182)</td></tr><tr><td colspan=\"7\" style=\"border-bottom: 1px solid black\"></td></tr><tr><td style=\"text-align: left\">Note:</td>\n",
       " <td colspan=\"6\" style=\"text-align: right\">\n",
       "  <sup>*</sup>p&lt;0.1;\n",
       "  <sup>**</sup>p&lt;0.05;\n",
       "  <sup>***</sup>p&lt;0.01\n",
       " </td></tr></table>"
      ],
      "text/plain": [
       "<IPython.core.display.HTML object>"
      ]
     },
     "execution_count": 13,
     "metadata": {},
     "output_type": "execute_result"
    }
   ],
   "source": [
    "out = logit_estimate(formulas, data, days=[0,5])\n",
    "\n",
    "stargazer = Stargazer(list(out.values()))\n",
    "HTML(stargazer.render_html())"
   ]
  },
  {
   "cell_type": "code",
   "execution_count": 16,
   "metadata": {},
   "outputs": [
    {
     "data": {
      "text/html": [
       "<table class=\"simpletable\">\n",
       "<caption>Logit Marginal Effects</caption>\n",
       "<tr>\n",
       "  <th>Dep. Variable:</th> <td>price_increase</td>\n",
       "</tr>\n",
       "<tr>\n",
       "  <th>Method:</th>             <td>dydx</td>     \n",
       "</tr>\n",
       "<tr>\n",
       "  <th>At:</th>                <td>overall</td>   \n",
       "</tr>\n",
       "</table>\n",
       "<table class=\"simpletable\">\n",
       "<tr>\n",
       "               <th></th>                  <th>dy/dx</th>    <th>std err</th>      <th>z</th>      <th>P>|z|</th>  <th>[0.025</th>    <th>0.975]</th>  \n",
       "</tr>\n",
       "<tr>\n",
       "  <th>route[T.CORDOBAMADRID]</th>      <td>    0.0020</td> <td>    0.029</td> <td>    0.071</td> <td> 0.944</td> <td>   -0.054</td> <td>    0.058</td>\n",
       "</tr>\n",
       "<tr>\n",
       "  <th>route[T.MADRIDBARCELONA]</th>    <td>    0.0193</td> <td>    0.020</td> <td>    0.966</td> <td> 0.334</td> <td>   -0.020</td> <td>    0.058</td>\n",
       "</tr>\n",
       "<tr>\n",
       "  <th>route[T.MADRIDCORDOBA]</th>      <td>   -0.0484</td> <td>    0.034</td> <td>   -1.431</td> <td> 0.153</td> <td>   -0.115</td> <td>    0.018</td>\n",
       "</tr>\n",
       "<tr>\n",
       "  <th>route[T.MADRIDSEVILLA]</th>      <td>    0.0055</td> <td>    0.028</td> <td>    0.200</td> <td> 0.842</td> <td>   -0.049</td> <td>    0.060</td>\n",
       "</tr>\n",
       "<tr>\n",
       "  <th>route[T.MADRIDZARAGOZA]</th>     <td>   -0.0535</td> <td>    0.031</td> <td>   -1.737</td> <td> 0.082</td> <td>   -0.114</td> <td>    0.007</td>\n",
       "</tr>\n",
       "<tr>\n",
       "  <th>route[T.SEVILLAMADRID]</th>      <td>    0.0896</td> <td>    0.026</td> <td>    3.396</td> <td> 0.001</td> <td>    0.038</td> <td>    0.141</td>\n",
       "</tr>\n",
       "<tr>\n",
       "  <th>route[T.ZARAGOZAMADRID]</th>     <td>   -0.0160</td> <td>    0.025</td> <td>   -0.632</td> <td> 0.527</td> <td>   -0.065</td> <td>    0.034</td>\n",
       "</tr>\n",
       "<tr>\n",
       "  <th>weekday[T.1]</th>                <td>    0.0211</td> <td>    0.022</td> <td>    0.956</td> <td> 0.339</td> <td>   -0.022</td> <td>    0.064</td>\n",
       "</tr>\n",
       "<tr>\n",
       "  <th>weekday[T.2]</th>                <td>   -0.0099</td> <td>    0.024</td> <td>   -0.410</td> <td> 0.681</td> <td>   -0.057</td> <td>    0.037</td>\n",
       "</tr>\n",
       "<tr>\n",
       "  <th>weekday[T.3]</th>                <td>   -0.0137</td> <td>    0.029</td> <td>   -0.474</td> <td> 0.635</td> <td>   -0.070</td> <td>    0.043</td>\n",
       "</tr>\n",
       "<tr>\n",
       "  <th>weekday[T.4]</th>                <td>    0.0399</td> <td>    0.029</td> <td>    1.380</td> <td> 0.168</td> <td>   -0.017</td> <td>    0.097</td>\n",
       "</tr>\n",
       "<tr>\n",
       "  <th>weekday[T.5]</th>                <td>    0.0737</td> <td>    0.024</td> <td>    3.044</td> <td> 0.002</td> <td>    0.026</td> <td>    0.121</td>\n",
       "</tr>\n",
       "<tr>\n",
       "  <th>weekday[T.6]</th>                <td>   -0.0704</td> <td>    0.036</td> <td>   -1.946</td> <td> 0.052</td> <td>   -0.141</td> <td>    0.001</td>\n",
       "</tr>\n",
       "<tr>\n",
       "  <th>sales_prev_day[T.True]</th>      <td>    0.0718</td> <td>    0.022</td> <td>    3.193</td> <td> 0.001</td> <td>    0.028</td> <td>    0.116</td>\n",
       "</tr>\n",
       "<tr>\n",
       "  <th>loading_factor</th>              <td>    1.3838</td> <td>    0.958</td> <td>    1.444</td> <td> 0.149</td> <td>   -0.495</td> <td>    3.262</td>\n",
       "</tr>\n",
       "<tr>\n",
       "  <th>np.power(loading_factor, 2)</th> <td>   -0.7950</td> <td>    0.243</td> <td>   -3.266</td> <td> 0.001</td> <td>   -1.272</td> <td>   -0.318</td>\n",
       "</tr>\n",
       "<tr>\n",
       "  <th>days_since</th>                  <td>    0.0209</td> <td>    0.021</td> <td>    0.976</td> <td> 0.329</td> <td>   -0.021</td> <td>    0.063</td>\n",
       "</tr>\n",
       "<tr>\n",
       "  <th>days_since:loading_factor</th>   <td>   -0.0035</td> <td>    0.035</td> <td>   -0.099</td> <td> 0.921</td> <td>   -0.073</td> <td>    0.066</td>\n",
       "</tr>\n",
       "<tr>\n",
       "  <th>peak_hour</th>                   <td>   -0.0553</td> <td>    0.017</td> <td>   -3.235</td> <td> 0.001</td> <td>   -0.089</td> <td>   -0.022</td>\n",
       "</tr>\n",
       "</table>"
      ],
      "text/plain": [
       "<class 'statsmodels.iolib.summary.Summary'>\n",
       "\"\"\"\n",
       "        Logit Marginal Effects       \n",
       "=====================================\n",
       "Dep. Variable:         price_increase\n",
       "Method:                          dydx\n",
       "At:                           overall\n",
       "===============================================================================================\n",
       "                                 dy/dx    std err          z      P>|z|      [0.025      0.975]\n",
       "-----------------------------------------------------------------------------------------------\n",
       "route[T.CORDOBAMADRID]          0.0020      0.029      0.071      0.944      -0.054       0.058\n",
       "route[T.MADRIDBARCELONA]        0.0193      0.020      0.966      0.334      -0.020       0.058\n",
       "route[T.MADRIDCORDOBA]         -0.0484      0.034     -1.431      0.153      -0.115       0.018\n",
       "route[T.MADRIDSEVILLA]          0.0055      0.028      0.200      0.842      -0.049       0.060\n",
       "route[T.MADRIDZARAGOZA]        -0.0535      0.031     -1.737      0.082      -0.114       0.007\n",
       "route[T.SEVILLAMADRID]          0.0896      0.026      3.396      0.001       0.038       0.141\n",
       "route[T.ZARAGOZAMADRID]        -0.0160      0.025     -0.632      0.527      -0.065       0.034\n",
       "weekday[T.1]                    0.0211      0.022      0.956      0.339      -0.022       0.064\n",
       "weekday[T.2]                   -0.0099      0.024     -0.410      0.681      -0.057       0.037\n",
       "weekday[T.3]                   -0.0137      0.029     -0.474      0.635      -0.070       0.043\n",
       "weekday[T.4]                    0.0399      0.029      1.380      0.168      -0.017       0.097\n",
       "weekday[T.5]                    0.0737      0.024      3.044      0.002       0.026       0.121\n",
       "weekday[T.6]                   -0.0704      0.036     -1.946      0.052      -0.141       0.001\n",
       "sales_prev_day[T.True]          0.0718      0.022      3.193      0.001       0.028       0.116\n",
       "loading_factor                  1.3838      0.958      1.444      0.149      -0.495       3.262\n",
       "np.power(loading_factor, 2)    -0.7950      0.243     -3.266      0.001      -1.272      -0.318\n",
       "days_since                      0.0209      0.021      0.976      0.329      -0.021       0.063\n",
       "days_since:loading_factor      -0.0035      0.035     -0.099      0.921      -0.073       0.066\n",
       "peak_hour                      -0.0553      0.017     -3.235      0.001      -0.089      -0.022\n",
       "===============================================================================================\n",
       "\"\"\""
      ]
     },
     "execution_count": 16,
     "metadata": {},
     "output_type": "execute_result"
    }
   ],
   "source": [
    "out[formulas[5]].get_margeff().summary()"
   ]
  },
  {
   "cell_type": "code",
   "execution_count": 90,
   "metadata": {},
   "outputs": [
    {
     "name": "stdout",
     "output_type": "stream",
     "text": [
      "Optimization terminated successfully.\n",
      "         Current function value: 0.545135\n",
      "         Iterations 6\n",
      "Optimization terminated successfully.\n",
      "         Current function value: 0.544982\n",
      "         Iterations 6\n",
      "Optimization terminated successfully.\n",
      "         Current function value: 0.541076\n",
      "         Iterations 6\n",
      "Optimization terminated successfully.\n",
      "         Current function value: 0.539536\n",
      "         Iterations 6\n",
      "Optimization terminated successfully.\n",
      "         Current function value: 0.538468\n",
      "         Iterations 6\n"
     ]
    },
    {
     "data": {
      "text/html": [
       "<table style=\"text-align:center\"><tr><td colspan=\"6\" style=\"border-bottom: 1px solid black\"></td></tr><tr><td style=\"text-align:left\"></td><td colspan=\"5\"><em>Dependent variable:price_increase</em></td></tr><tr><td style=\"text-align:left\"></td><tr><td style=\"text-align:left\"></td><td>(1)</td><td>(2)</td><td>(3)</td><td>(4)</td><td>(5)</td></tr><tr><td colspan=\"6\" style=\"border-bottom: 1px solid black\"></td></tr><tr><td style=\"text-align:left\">Constant</td><td>-4.910<sup>***</sup></td><td>-8.271<sup>***</sup></td><td>-8.430<sup>***</sup></td><td>-8.478<sup>***</sup></td><td>-8.736<sup>***</sup></td></tr><tr><td style=\"text-align:left\"></td><td>(0.802)</td><td>(3.041)</td><td>(3.049)</td><td>(3.058)</td><td>(3.065)</td></tr><tr><td style=\"text-align:left\">Day of the booking horizon</td><td>0.101<sup>***</sup></td><td>0.221<sup>**</sup></td><td>0.223<sup>**</sup></td><td>0.226<sup>**</sup></td><td>0.220<sup>**</sup></td></tr><tr><td style=\"text-align:left\"></td><td>(0.030)</td><td>(0.108)</td><td>(0.109)</td><td>(0.109)</td><td>(0.109)</td></tr><tr><td style=\"text-align:left\">Load factor</td><td>1.615<sup>***</sup></td><td>7.234<sup></sup></td><td>7.368<sup></sup></td><td>7.674<sup></sup></td><td>7.503<sup></sup></td></tr><tr><td style=\"text-align:left\"></td><td>(0.268)</td><td>(5.005)</td><td>(5.033)</td><td>(5.046)</td><td>(5.049)</td></tr><tr><td style=\"text-align:left\">Load factor * day of the BH</td><td></td><td>-0.199<sup></sup></td><td>-0.202<sup></sup></td><td>-0.211<sup></sup></td><td>-0.204<sup></sup></td></tr><tr><td style=\"text-align:left\"></td><td></td><td>(0.177)</td><td>(0.178)</td><td>(0.178)</td><td>(0.178)</td></tr><tr><td style=\"text-align:left\">Peak hour</td><td></td><td></td><td></td><td>-0.319<sup>***</sup></td><td>-0.316<sup>***</sup></td></tr><tr><td style=\"text-align:left\"></td><td></td><td></td><td></td><td>(0.097)</td><td>(0.097)</td></tr><tr><td style=\"text-align:left\">Sales experienced on previous day</td><td></td><td></td><td></td><td></td><td>0.411<sup>***</sup></td></tr><tr><td style=\"text-align:left\"></td><td></td><td></td><td></td><td></td><td>(0.126)</td></tr><tr><td style=\"text-align: left\">Route</td><td>Yes</td><td>Yes</td><td>Yes</td><td>Yes</td><td>Yes</td></tr><tr><td style=\"text-align: left\">Weekday</td><td>No</td><td>No</td><td>Yes</td><td>Yes</td><td>Yes</td></tr><td colspan=\"6\" style=\"border-bottom: 1px solid black\"></td></tr><tr><td style=\"text-align: left\">Observations</td><td>5,202</td><td>5,202</td><td>5,202</td><td>5,202</td><td>5,202</td></tr><tr><td style=\"text-align: left\">R<sup>2</sup></td><td></td><td></td><td></td><td></td><td></td></tr><tr><td style=\"text-align: left\">Adjusted R<sup>2</sup></td><td></td><td></td><td></td><td></td><td></td></tr><tr><td style=\"text-align: left\">Residual Std. Error</td><td>1.000 (df=5192)</td><td>1.000 (df=5191)</td><td>1.000 (df=5185)</td><td>1.000 (df=5184)</td><td>1.000 (df=5183)</td></tr><tr><td style=\"text-align: left\">F Statistic</td><td><sup></sup> (df=9; 5192)</td><td><sup></sup> (df=10; 5191)</td><td><sup></sup> (df=16; 5185)</td><td><sup></sup> (df=17; 5184)</td><td><sup></sup> (df=18; 5183)</td></tr><tr><td colspan=\"6\" style=\"border-bottom: 1px solid black\"></td></tr><tr><td style=\"text-align: left\">Note:</td>\n",
       " <td colspan=\"5\" style=\"text-align: right\">\n",
       "  <sup>*</sup>p&lt;0.1;\n",
       "  <sup>**</sup>p&lt;0.05;\n",
       "  <sup>***</sup>p&lt;0.01\n",
       " </td></tr><tr><td></td><td colspan=\"5\" style=\"text-align: right\">Clustered standard errors are in parenthesis</td></tr></table>"
      ],
      "text/plain": [
       "<IPython.core.display.HTML object>"
      ]
     },
     "execution_count": 90,
     "metadata": {},
     "output_type": "execute_result"
    }
   ],
   "source": [
    "out = logit_estimate(formulas, data, days=[0,5])\n",
    "\n",
    "stargazer = Stargazer(list(out.values()))\n",
    "stargazer.rename_covariates(\n",
    "    {\n",
    "        \"Intercept\": \"Constant\",\n",
    "        \"loading_factor\": \"Load factor\",\n",
    "        \"days_since\": \"Day of the booking horizon\",\n",
    "        \"peak_hour\": \"Peak hour\",\n",
    "        \"sales_prev_day[T.True]\": \"Sales experienced on previous day\",\n",
    "        \"days_since:loading_factor\":\"Load factor * day of the BH\"\n",
    "    }\n",
    ")\n",
    "stargazer.covariate_order(\n",
    "    [\n",
    "        \"Intercept\",\n",
    "        \"days_since\",\n",
    "        \"loading_factor\",\n",
    "        \"days_since:loading_factor\",\n",
    "        \"peak_hour\",\n",
    "        \"sales_prev_day[T.True]\",\n",
    "    ]\n",
    ")\n",
    "\n",
    "stargazer.add_line('Route', ['Yes', 'Yes','Yes','Yes','Yes',])\n",
    "stargazer.add_line('Weekday', ['No', 'No','Yes','Yes','Yes',])\n",
    "stargazer.add_custom_notes([\"Clustered standard errors are in parenthesis\"])\n",
    "output_1 = HTML(stargazer.render_html())\n",
    "\n",
    "html = output_1.data\n",
    "with open(\"regression_outputs/logit_output_5days.html\", \"w\") as f:\n",
    "    f.write(html)\n",
    "HTML(stargazer.render_html())"
   ]
  },
  {
   "cell_type": "markdown",
   "metadata": {},
   "source": [
    "30-25 days"
   ]
  },
  {
   "cell_type": "code",
   "execution_count": 34,
   "metadata": {},
   "outputs": [
    {
     "name": "stdout",
     "output_type": "stream",
     "text": [
      "Optimization terminated successfully.\n",
      "         Current function value: 0.289634\n",
      "         Iterations 7\n",
      "Optimization terminated successfully.\n",
      "         Current function value: 0.289633\n",
      "         Iterations 7\n",
      "Optimization terminated successfully.\n",
      "         Current function value: 0.289342\n",
      "         Iterations 7\n",
      "Optimization terminated successfully.\n",
      "         Current function value: 0.287715\n",
      "         Iterations 7\n",
      "Optimization terminated successfully.\n",
      "         Current function value: 0.285759\n",
      "         Iterations 7\n"
     ]
    }
   ],
   "source": [
    "out = logit_estimate(formulas, data, days=[5,30])"
   ]
  },
  {
   "cell_type": "code",
   "execution_count": 35,
   "metadata": {},
   "outputs": [
    {
     "data": {
      "text/html": [
       "<table style=\"text-align:center\"><tr><td colspan=\"6\" style=\"border-bottom: 1px solid black\"></td></tr><tr><td style=\"text-align:left\"></td><td colspan=\"5\"><em>Dependent variable:price_increase</em></td></tr><tr><td style=\"text-align:left\"></td><tr><td style=\"text-align:left\"></td><td>(1)</td><td>(2)</td><td>(3)</td><td>(4)</td><td>(5)</td></tr><tr><td colspan=\"6\" style=\"border-bottom: 1px solid black\"></td></tr><tr><td style=\"text-align:left\">Constant</td><td>-4.065<sup>***</sup></td><td>-4.036<sup>***</sup></td><td>-3.905<sup>***</sup></td><td>-3.798<sup>***</sup></td><td>-4.124<sup>***</sup></td></tr><tr><td style=\"text-align:left\"></td><td>(0.119)</td><td>(0.209)</td><td>(0.219)</td><td>(0.218)</td><td>(0.220)</td></tr><tr><td style=\"text-align:left\">days_since</td><td>0.018<sup>***</sup></td><td>0.016<sup></sup></td><td>0.016<sup></sup></td><td>0.016<sup></sup></td><td>0.015<sup></sup></td></tr><tr><td style=\"text-align:left\"></td><td>(0.005)</td><td>(0.012)</td><td>(0.012)</td><td>(0.012)</td><td>(0.012)</td></tr><tr><td style=\"text-align:left\">days_since:loading_factor</td><td></td><td>0.005<sup></sup></td><td>0.006<sup></sup></td><td>0.005<sup></sup></td><td>-0.003<sup></sup></td></tr><tr><td style=\"text-align:left\"></td><td></td><td>(0.029)</td><td>(0.030)</td><td>(0.030)</td><td>(0.029)</td></tr><tr><td style=\"text-align:left\">loading_factor</td><td>3.009<sup>***</sup></td><td>2.926<sup>***</sup></td><td>2.933<sup>***</sup></td><td>2.956<sup>***</sup></td><td>3.006<sup>***</sup></td></tr><tr><td style=\"text-align:left\"></td><td>(0.255)</td><td>(0.566)</td><td>(0.577)</td><td>(0.578)</td><td>(0.567)</td></tr><tr><td style=\"text-align:left\">peak_hour</td><td></td><td></td><td></td><td>-0.543<sup>***</sup></td><td>-0.545<sup>***</sup></td></tr><tr><td style=\"text-align:left\"></td><td></td><td></td><td></td><td>(0.084)</td><td>(0.083)</td></tr><tr><td style=\"text-align:left\">route[T.CORDOBAMADRID]</td><td>0.978<sup>***</sup></td><td>0.979<sup>***</sup></td><td>1.008<sup>***</sup></td><td>0.915<sup>***</sup></td><td>0.964<sup>***</sup></td></tr><tr><td style=\"text-align:left\"></td><td>(0.104)</td><td>(0.104)</td><td>(0.104)</td><td>(0.103)</td><td>(0.102)</td></tr><tr><td style=\"text-align:left\">route[T.MADRIDBARCELONA]</td><td>-0.034<sup></sup></td><td>-0.034<sup></sup></td><td>-0.031<sup></sup></td><td>-0.031<sup></sup></td><td>-0.032<sup></sup></td></tr><tr><td style=\"text-align:left\"></td><td>(0.111)</td><td>(0.111)</td><td>(0.111)</td><td>(0.106)</td><td>(0.106)</td></tr><tr><td style=\"text-align:left\">route[T.MADRIDCORDOBA]</td><td>0.987<sup>***</sup></td><td>0.988<sup>***</sup></td><td>0.987<sup>***</sup></td><td>0.924<sup>***</sup></td><td>0.895<sup>***</sup></td></tr><tr><td style=\"text-align:left\"></td><td>(0.125)</td><td>(0.125)</td><td>(0.126)</td><td>(0.126)</td><td>(0.122)</td></tr><tr><td style=\"text-align:left\">route[T.MADRIDSEVILLA]</td><td>0.361<sup>***</sup></td><td>0.362<sup>***</sup></td><td>0.359<sup>***</sup></td><td>0.275<sup>**</sup></td><td>0.316<sup>***</sup></td></tr><tr><td style=\"text-align:left\"></td><td>(0.110)</td><td>(0.110)</td><td>(0.110)</td><td>(0.108)</td><td>(0.107)</td></tr><tr><td style=\"text-align:left\">route[T.MADRIDZARAGOZA]</td><td>0.048<sup></sup></td><td>0.049<sup></sup></td><td>0.073<sup></sup></td><td>0.059<sup></sup></td><td>0.055<sup></sup></td></tr><tr><td style=\"text-align:left\"></td><td>(0.147)</td><td>(0.147)</td><td>(0.147)</td><td>(0.141)</td><td>(0.140)</td></tr><tr><td style=\"text-align:left\">route[T.SEVILLAMADRID]</td><td>0.619<sup>***</sup></td><td>0.620<sup>***</sup></td><td>0.647<sup>***</sup></td><td>0.543<sup>***</sup></td><td>0.603<sup>***</sup></td></tr><tr><td style=\"text-align:left\"></td><td>(0.103)</td><td>(0.103)</td><td>(0.105)</td><td>(0.103)</td><td>(0.103)</td></tr><tr><td style=\"text-align:left\">route[T.ZARAGOZAMADRID]</td><td>0.171<sup></sup></td><td>0.172<sup></sup></td><td>0.185<sup></sup></td><td>0.218<sup>*</sup></td><td>0.222<sup>*</sup></td></tr><tr><td style=\"text-align:left\"></td><td>(0.117)</td><td>(0.117)</td><td>(0.118)</td><td>(0.119)</td><td>(0.118)</td></tr><tr><td style=\"text-align:left\">sales_prev_day[T.True]</td><td></td><td></td><td></td><td></td><td>0.516<sup>***</sup></td></tr><tr><td style=\"text-align:left\"></td><td></td><td></td><td></td><td></td><td>(0.058)</td></tr><tr><td style=\"text-align:left\">weekday[T.1]</td><td></td><td></td><td>-0.104<sup></sup></td><td>-0.101<sup></sup></td><td>-0.077<sup></sup></td></tr><tr><td style=\"text-align:left\"></td><td></td><td></td><td>(0.099)</td><td>(0.096)</td><td>(0.095)</td></tr><tr><td style=\"text-align:left\">weekday[T.2]</td><td></td><td></td><td>-0.244<sup>**</sup></td><td>-0.211<sup>**</sup></td><td>-0.198<sup>**</sup></td></tr><tr><td style=\"text-align:left\"></td><td></td><td></td><td>(0.103)</td><td>(0.101)</td><td>(0.100)</td></tr><tr><td style=\"text-align:left\">weekday[T.3]</td><td></td><td></td><td>-0.201<sup>*</sup></td><td>-0.147<sup></sup></td><td>-0.157<sup></sup></td></tr><tr><td style=\"text-align:left\"></td><td></td><td></td><td>(0.112)</td><td>(0.111)</td><td>(0.109)</td></tr><tr><td style=\"text-align:left\">weekday[T.4]</td><td></td><td></td><td>-0.193<sup>*</sup></td><td>-0.146<sup></sup></td><td>-0.176<sup></sup></td></tr><tr><td style=\"text-align:left\"></td><td></td><td></td><td>(0.112)</td><td>(0.110)</td><td>(0.110)</td></tr><tr><td style=\"text-align:left\">weekday[T.5]</td><td></td><td></td><td>-0.159<sup>*</sup></td><td>-0.130<sup></sup></td><td>-0.156<sup>*</sup></td></tr><tr><td style=\"text-align:left\"></td><td></td><td></td><td>(0.097)</td><td>(0.094)</td><td>(0.094)</td></tr><tr><td style=\"text-align:left\">weekday[T.6]</td><td></td><td></td><td>-0.273<sup>*</sup></td><td>-0.139<sup></sup></td><td>-0.167<sup></sup></td></tr><tr><td style=\"text-align:left\"></td><td></td><td></td><td>(0.161)</td><td>(0.166)</td><td>(0.166)</td></tr><td colspan=\"6\" style=\"border-bottom: 1px solid black\"></td></tr><tr><td style=\"text-align: left\">Observations</td><td>24,607</td><td>24,607</td><td>24,607</td><td>24,607</td><td>24,607</td></tr><tr><td style=\"text-align: left\">R<sup>2</sup></td><td></td><td></td><td></td><td></td><td></td></tr><tr><td style=\"text-align: left\">Adjusted R<sup>2</sup></td><td></td><td></td><td></td><td></td><td></td></tr><tr><td style=\"text-align: left\">Residual Std. Error</td><td>1.000 (df=24597)</td><td>1.000 (df=24596)</td><td>1.000 (df=24590)</td><td>1.000 (df=24589)</td><td>1.000 (df=24588)</td></tr><tr><td style=\"text-align: left\">F Statistic</td><td><sup></sup> (df=9; 24597)</td><td><sup></sup> (df=10; 24596)</td><td><sup></sup> (df=16; 24590)</td><td><sup></sup> (df=17; 24589)</td><td><sup></sup> (df=18; 24588)</td></tr><tr><td colspan=\"6\" style=\"border-bottom: 1px solid black\"></td></tr><tr><td style=\"text-align: left\">Note:</td>\n",
       " <td colspan=\"5\" style=\"text-align: right\">\n",
       "  <sup>*</sup>p&lt;0.1;\n",
       "  <sup>**</sup>p&lt;0.05;\n",
       "  <sup>***</sup>p&lt;0.01\n",
       " </td></tr></table>"
      ],
      "text/plain": [
       "<IPython.core.display.HTML object>"
      ]
     },
     "execution_count": 35,
     "metadata": {},
     "output_type": "execute_result"
    }
   ],
   "source": [
    "stargazer = Stargazer(list(out.values()))\n",
    "stargazer.rename_covariates({\"Intercept\": \"Constant\"})\n",
    "output_1 = HTML(stargazer.render_html())\n",
    "\n",
    "html = output_1.data\n",
    "with open(\"regression_outputs/logit_output_30days.html\", \"w\") as f:\n",
    "    f.write(html)\n",
    "HTML(stargazer.render_html())"
   ]
  },
  {
   "cell_type": "markdown",
   "metadata": {},
   "source": [
    "## Fixed effect –– not used"
   ]
  },
  {
   "cell_type": "code",
   "execution_count": 39,
   "metadata": {},
   "outputs": [],
   "source": [
    "from linearmodels import PanelOLS"
   ]
  },
  {
   "cell_type": "code",
   "execution_count": 38,
   "metadata": {},
   "outputs": [],
   "source": [
    "panel_data = data.set_index([\"train_id\",\"days_till_dep\"])"
   ]
  },
  {
   "cell_type": "code",
   "execution_count": 96,
   "metadata": {},
   "outputs": [
    {
     "data": {
      "text/html": [
       "<table class=\"simpletable\">\n",
       "<caption>PanelOLS Estimation Summary</caption>\n",
       "<tr>\n",
       "  <th>Dep. Variable:</th>    <td>price_change_percentage</td> <th>  R-squared:         </th>     <td>0.0103</td>  \n",
       "</tr>\n",
       "<tr>\n",
       "  <th>Estimator:</th>               <td>PanelOLS</td>         <th>  R-squared (Between):</th>    <td>-0.5153</td> \n",
       "</tr>\n",
       "<tr>\n",
       "  <th>No. Observations:</th>          <td>30336</td>          <th>  R-squared (Within):</th>     <td>0.0139</td>  \n",
       "</tr>\n",
       "<tr>\n",
       "  <th>Date:</th>                <td>Mon, Dec 14 2020</td>     <th>  R-squared (Overall):</th>    <td>-0.0029</td> \n",
       "</tr>\n",
       "<tr>\n",
       "  <th>Time:</th>                    <td>15:40:01</td>         <th>  Log-likelihood     </th>    <td>5.463e+04</td>\n",
       "</tr>\n",
       "<tr>\n",
       "  <th>Cov. Estimator:</th>          <td>Clustered</td>        <th>                     </th>        <td></td>     \n",
       "</tr>\n",
       "<tr>\n",
       "  <th></th>                             <td></td>             <th>  F-statistic:       </th>     <td>302.82</td>  \n",
       "</tr>\n",
       "<tr>\n",
       "  <th>Entities:</th>                  <td>1209</td>           <th>  P-value            </th>     <td>0.0000</td>  \n",
       "</tr>\n",
       "<tr>\n",
       "  <th>Avg Obs:</th>                  <td>25.092</td>          <th>  Distribution:      </th>   <td>F(1,29096)</td>\n",
       "</tr>\n",
       "<tr>\n",
       "  <th>Min Obs:</th>                  <td>13.000</td>          <th>                     </th>        <td></td>     \n",
       "</tr>\n",
       "<tr>\n",
       "  <th>Max Obs:</th>                  <td>31.000</td>          <th>  F-statistic (robust):</th>   <td>192.32</td>  \n",
       "</tr>\n",
       "<tr>\n",
       "  <th></th>                             <td></td>             <th>  P-value            </th>     <td>0.0000</td>  \n",
       "</tr>\n",
       "<tr>\n",
       "  <th>Time periods:</th>               <td>31</td>            <th>  Distribution:      </th>   <td>F(1,29096)</td>\n",
       "</tr>\n",
       "<tr>\n",
       "  <th>Avg Obs:</th>                  <td>978.58</td>          <th>                     </th>        <td></td>     \n",
       "</tr>\n",
       "<tr>\n",
       "  <th>Min Obs:</th>                  <td>527.00</td>          <th>                     </th>        <td></td>     \n",
       "</tr>\n",
       "<tr>\n",
       "  <th>Max Obs:</th>                  <td>1174.0</td>          <th>                     </th>        <td></td>     \n",
       "</tr>\n",
       "<tr>\n",
       "  <th></th>                             <td></td>             <th>                     </th>        <td></td>     \n",
       "</tr>\n",
       "</table>\n",
       "<table class=\"simpletable\">\n",
       "<caption>Parameter Estimates</caption>\n",
       "<tr>\n",
       "         <td></td>        <th>Parameter</th> <th>Std. Err.</th> <th>T-stat</th>  <th>P-value</th> <th>Lower CI</th> <th>Upper CI</th>\n",
       "</tr>\n",
       "<tr>\n",
       "  <th>Intercept</th>       <td>-0.0205</td>   <td>0.0018</td>   <td>-11.635</td> <td>0.0000</td>   <td>-0.0240</td>  <td>-0.0171</td>\n",
       "</tr>\n",
       "<tr>\n",
       "  <th>loading_factor</th>  <td>0.0629</td>    <td>0.0045</td>   <td>13.868</td>  <td>0.0000</td>   <td>0.0540</td>   <td>0.0718</td> \n",
       "</tr>\n",
       "</table><br/><br/>F-test for Poolability: 1.1698<br/>P-value: 0.0000<br/>Distribution: F(1238,29096)<br/><br/>Included effects: Entity, Time"
      ],
      "text/plain": [
       "<class 'linearmodels.compat.statsmodels.Summary'>\n",
       "\"\"\"\n",
       "                             PanelOLS Estimation Summary                             \n",
       "=====================================================================================\n",
       "Dep. Variable:     price_change_percentage   R-squared:                        0.0103\n",
       "Estimator:                        PanelOLS   R-squared (Between):             -0.5153\n",
       "No. Observations:                    30336   R-squared (Within):               0.0139\n",
       "Date:                     Mon, Dec 14 2020   R-squared (Overall):             -0.0029\n",
       "Time:                             15:40:01   Log-likelihood                 5.463e+04\n",
       "Cov. Estimator:                  Clustered                                           \n",
       "                                             F-statistic:                      302.82\n",
       "Entities:                             1209   P-value                           0.0000\n",
       "Avg Obs:                            25.092   Distribution:                 F(1,29096)\n",
       "Min Obs:                            13.000                                           \n",
       "Max Obs:                            31.000   F-statistic (robust):             192.32\n",
       "                                             P-value                           0.0000\n",
       "Time periods:                           31   Distribution:                 F(1,29096)\n",
       "Avg Obs:                            978.58                                           \n",
       "Min Obs:                            527.00                                           \n",
       "Max Obs:                            1174.0                                           \n",
       "                                                                                     \n",
       "                               Parameter Estimates                                \n",
       "==================================================================================\n",
       "                Parameter  Std. Err.     T-stat    P-value    Lower CI    Upper CI\n",
       "----------------------------------------------------------------------------------\n",
       "Intercept         -0.0205     0.0018    -11.635     0.0000     -0.0240     -0.0171\n",
       "loading_factor     0.0629     0.0045     13.868     0.0000      0.0540      0.0718\n",
       "==================================================================================\n",
       "\n",
       "F-test for Poolability: 1.1698\n",
       "P-value: 0.0000\n",
       "Distribution: F(1238,29096)\n",
       "\n",
       "Included effects: Entity, Time\n",
       "\"\"\""
      ]
     },
     "execution_count": 96,
     "metadata": {},
     "output_type": "execute_result"
    }
   ],
   "source": [
    "fe_lm = PanelOLS.from_formula(\n",
    "    \"price_change_percentage ~ 1 + loading_factor + TimeEffects + EntityEffects\",\n",
    "    panel_data,\n",
    "    # weights=\n",
    ").fit(cov_type=\"clustered\", cluster_entity=True)\n",
    "\n",
    "fe_lm.summary"
   ]
  },
  {
   "cell_type": "code",
   "execution_count": 145,
   "metadata": {},
   "outputs": [
    {
     "name": "stderr",
     "output_type": "stream",
     "text": [
      "/usr/local/lib/python3.8/site-packages/linearmodels/panel/data.py:98: FutureWarning: is_categorical is deprecated and will be removed in a future version.  Use is_categorical_dtype instead\n",
      "  if is_categorical(s):\n"
     ]
    },
    {
     "name": "stdout",
     "output_type": "stream",
     "text": [
      "                             PanelOLS Estimation Summary                             \n",
      "=====================================================================================\n",
      "Dep. Variable:     price_change_percentage   R-squared:                        0.0151\n",
      "Estimator:                        PanelOLS   R-squared (Between):              0.1880\n",
      "No. Observations:                    23976   R-squared (Within):               0.0008\n",
      "Date:                     Mon, Dec 14 2020   R-squared (Overall):              0.0121\n",
      "Time:                             16:55:13   Log-likelihood                 4.436e+04\n",
      "Cov. Estimator:                  Clustered                                           \n",
      "                                             F-statistic:                      22.931\n",
      "Entities:                             1209   P-value                           0.0000\n",
      "Avg Obs:                            19.831   Distribution:                F(16,23935)\n",
      "Min Obs:                            8.0000                                           \n",
      "Max Obs:                            25.000   F-statistic (robust):             31.457\n",
      "                                             P-value                           0.0000\n",
      "Time periods:                           31   Distribution:                F(16,23935)\n",
      "Avg Obs:                            773.42                                           \n",
      "Min Obs:                            0.0000                                           \n",
      "Max Obs:                            1174.0                                           \n",
      "                                                                                     \n",
      "                                    Parameter Estimates                                     \n",
      "============================================================================================\n",
      "                          Parameter  Std. Err.     T-stat    P-value    Lower CI    Upper CI\n",
      "--------------------------------------------------------------------------------------------\n",
      "Intercept                   -0.0089     0.0011    -7.8088     0.0000     -0.0111     -0.0067\n",
      "sales_prev_day[T.True]       0.0025     0.0005     4.9852     0.0000      0.0015      0.0035\n",
      "weekday[T.1]                -0.0011     0.0007    -1.5645     0.1177     -0.0025      0.0003\n",
      "weekday[T.2]                -0.0010     0.0007    -1.4847     0.1376     -0.0024      0.0003\n",
      "weekday[T.3]                -0.0024     0.0008    -2.8311     0.0046     -0.0041     -0.0007\n",
      "weekday[T.4]                -0.0022     0.0009    -2.4796     0.0132     -0.0039     -0.0005\n",
      "weekday[T.5]                -0.0034     0.0008    -4.1008     0.0000     -0.0051     -0.0018\n",
      "weekday[T.6]                -0.0017     0.0010    -1.7378     0.0823     -0.0036      0.0002\n",
      "route[T.CORDOBAMADRID]       0.0071     0.0008     9.5030     0.0000      0.0057      0.0086\n",
      "route[T.MADRIDBARCELONA]    -0.0004     0.0008    -0.5595     0.5758     -0.0019      0.0011\n",
      "route[T.MADRIDCORDOBA]       0.0045     0.0008     5.9442     0.0000      0.0030      0.0060\n",
      "route[T.MADRIDSEVILLA]       0.0053     0.0007     7.3893     0.0000      0.0039      0.0068\n",
      "route[T.MADRIDZARAGOZA]      0.0018     0.0010     1.7293     0.0838     -0.0002      0.0038\n",
      "route[T.SEVILLAMADRID]       0.0072     0.0007     9.6624     0.0000      0.0057      0.0086\n",
      "route[T.ZARAGOZAMADRID]      0.0027     0.0009     3.0312     0.0024      0.0010      0.0045\n",
      "loading_factor               0.0255     0.0022     11.515     0.0000      0.0211      0.0298\n",
      "peak_hour                   -0.0032     0.0005    -6.2079     0.0000     -0.0043     -0.0022\n",
      "============================================================================================\n",
      "\n",
      "F-test for Poolability: 8.4521\n",
      "P-value: 0.0000\n",
      "Distribution: F(24,23935)\n",
      "\n",
      "Included effects: Time\n"
     ]
    }
   ],
   "source": [
    "fe_lm = PanelOLS.from_formula(\n",
    "    \"price_change_percentage ~ 1 + loading_factor + TimeEffects + EntityEffects\",\n",
    "    panel_data.query(\"days_till_dep >5\"),\n",
    "    # weights=\n",
    ").fit(cov_type=\"clustered\", cluster_entity=True)\n",
    "\n",
    "print(fe_lm.summary)"
   ]
  },
  {
   "cell_type": "code",
   "execution_count": 60,
   "metadata": {},
   "outputs": [
    {
     "data": {
      "text/plain": [
       "Index(['mean_econ_price', 'mean_first_price', 'max_econ_seats',\n",
       "       'min_econ_seats', 'mean_econ_seats', 'max_first_seats',\n",
       "       'min_first_seats', 'mean_first_seats', 'departure', 'duration',\n",
       "       'econ_seats_sold', 'first_seats_sold', 'weekday', 'depart_month',\n",
       "       'depart_hour', 'day_part', 'price_change', 'price_change_percentage',\n",
       "       'price_change_direction', 'price_increase', 'seats_sold_prev_day',\n",
       "       'sales_prev_day', 'max_seat_capacity', 'capacity', 'loading_factor',\n",
       "       'route', 'peak_hour', 'days_since', 'loading_factor_median',\n",
       "       'loading_factor_cat'],\n",
       "      dtype='object')"
      ]
     },
     "execution_count": 60,
     "metadata": {},
     "output_type": "execute_result"
    }
   ],
   "source": [
    "panel_data.columns"
   ]
  },
  {
   "cell_type": "code",
   "execution_count": 143,
   "metadata": {},
   "outputs": [
    {
     "name": "stderr",
     "output_type": "stream",
     "text": [
      "/usr/local/lib/python3.8/site-packages/linearmodels/panel/data.py:98: FutureWarning: is_categorical is deprecated and will be removed in a future version.  Use is_categorical_dtype instead\n",
      "  if is_categorical(s):\n"
     ]
    },
    {
     "name": "stdout",
     "output_type": "stream",
     "text": [
      "                             PanelOLS Estimation Summary                             \n",
      "=====================================================================================\n",
      "Dep. Variable:     price_change_percentage   R-squared:                        0.0128\n",
      "Estimator:                        PanelOLS   R-squared (Between):             -0.2876\n",
      "No. Observations:                     6360   R-squared (Within):               0.0210\n",
      "Date:                     Mon, Dec 14 2020   R-squared (Overall):             -0.0288\n",
      "Time:                             16:53:41   Log-likelihood                 1.074e+04\n",
      "Cov. Estimator:                  Clustered                                           \n",
      "                                             F-statistic:                      66.875\n",
      "Entities:                             1209   P-value                           0.0000\n",
      "Avg Obs:                            5.2605   Distribution:                  F(1,5145)\n",
      "Min Obs:                            1.0000                                           \n",
      "Max Obs:                            6.0000   F-statistic (robust):             28.725\n",
      "                                             P-value                           0.0000\n",
      "Time periods:                            6   Distribution:                  F(1,5145)\n",
      "Avg Obs:                            1060.0                                           \n",
      "Min Obs:                            749.00                                           \n",
      "Max Obs:                            1171.0                                           \n",
      "                                                                                     \n",
      "                               Parameter Estimates                                \n",
      "==================================================================================\n",
      "                Parameter  Std. Err.     T-stat    P-value    Lower CI    Upper CI\n",
      "----------------------------------------------------------------------------------\n",
      "Intercept         -0.0452     0.0107    -4.2412     0.0000     -0.0661     -0.0243\n",
      "loading_factor     0.1022     0.0191     5.3596     0.0000      0.0648      0.1396\n",
      "==================================================================================\n",
      "\n",
      "F-test for Poolability: 0.9034\n",
      "P-value: 0.9867\n",
      "Distribution: F(1213,5145)\n",
      "\n",
      "Included effects: Entity, Time\n"
     ]
    }
   ],
   "source": [
    "fe_lm = PanelOLS.from_formula(\n",
    "    \"price_change_percentage ~ 1 + loading_factor + EntityEffects + TimeEffects\",\n",
    "    panel_data.query(\"days_till_dep <=5\"),\n",
    ").fit(cov_type=\"clustered\", cluster_entity=True)\n",
    "\n",
    "print(fe_lm.summary)\n",
    "\n",
    "#F-test for Poolability: 0.9034\n",
    "#P-value: 0.9867\n",
    "#ki kéne venni az entity effectet?"
   ]
  },
  {
   "cell_type": "code",
   "execution_count": 106,
   "metadata": {},
   "outputs": [
    {
     "name": "stderr",
     "output_type": "stream",
     "text": [
      "/usr/local/lib/python3.8/site-packages/linearmodels/panel/data.py:98: FutureWarning: is_categorical is deprecated and will be removed in a future version.  Use is_categorical_dtype instead\n",
      "  if is_categorical(s):\n"
     ]
    },
    {
     "data": {
      "text/html": [
       "<table class=\"simpletable\">\n",
       "<caption>PanelOLS Estimation Summary</caption>\n",
       "<tr>\n",
       "  <th>Dep. Variable:</th>    <td>price_change_percentage</td> <th>  R-squared:         </th>     <td>0.0208</td>  \n",
       "</tr>\n",
       "<tr>\n",
       "  <th>Estimator:</th>               <td>PanelOLS</td>         <th>  R-squared (Between):</th>    <td>0.0842</td>  \n",
       "</tr>\n",
       "<tr>\n",
       "  <th>No. Observations:</th>          <td>6360</td>           <th>  R-squared (Within):</th>     <td>0.0123</td>  \n",
       "</tr>\n",
       "<tr>\n",
       "  <th>Date:</th>                <td>Mon, Dec 14 2020</td>     <th>  R-squared (Overall):</th>    <td>0.0246</td>  \n",
       "</tr>\n",
       "<tr>\n",
       "  <th>Time:</th>                    <td>15:44:33</td>         <th>  Log-likelihood     </th>    <td>1.018e+04</td>\n",
       "</tr>\n",
       "<tr>\n",
       "  <th>Cov. Estimator:</th>          <td>Clustered</td>        <th>                     </th>        <td></td>     \n",
       "</tr>\n",
       "<tr>\n",
       "  <th></th>                             <td></td>             <th>  F-statistic:       </th>     <td>8.4208</td>  \n",
       "</tr>\n",
       "<tr>\n",
       "  <th>Entities:</th>                  <td>1209</td>           <th>  P-value            </th>     <td>0.0000</td>  \n",
       "</tr>\n",
       "<tr>\n",
       "  <th>Avg Obs:</th>                  <td>5.2605</td>          <th>  Distribution:      </th>   <td>F(16,6338)</td>\n",
       "</tr>\n",
       "<tr>\n",
       "  <th>Min Obs:</th>                  <td>1.0000</td>          <th>                     </th>        <td></td>     \n",
       "</tr>\n",
       "<tr>\n",
       "  <th>Max Obs:</th>                  <td>6.0000</td>          <th>  F-statistic (robust):</th>   <td>10.842</td>  \n",
       "</tr>\n",
       "<tr>\n",
       "  <th></th>                             <td></td>             <th>  P-value            </th>     <td>0.0000</td>  \n",
       "</tr>\n",
       "<tr>\n",
       "  <th>Time periods:</th>                <td>6</td>            <th>  Distribution:      </th>   <td>F(16,6338)</td>\n",
       "</tr>\n",
       "<tr>\n",
       "  <th>Avg Obs:</th>                  <td>1060.0</td>          <th>                     </th>        <td></td>     \n",
       "</tr>\n",
       "<tr>\n",
       "  <th>Min Obs:</th>                  <td>749.00</td>          <th>                     </th>        <td></td>     \n",
       "</tr>\n",
       "<tr>\n",
       "  <th>Max Obs:</th>                  <td>1171.0</td>          <th>                     </th>        <td></td>     \n",
       "</tr>\n",
       "<tr>\n",
       "  <th></th>                             <td></td>             <th>                     </th>        <td></td>     \n",
       "</tr>\n",
       "</table>\n",
       "<table class=\"simpletable\">\n",
       "<caption>Parameter Estimates</caption>\n",
       "<tr>\n",
       "              <td></td>             <th>Parameter</th> <th>Std. Err.</th> <th>T-stat</th>  <th>P-value</th>  <th>Lower CI</th>  <th>Upper CI</th>\n",
       "</tr>\n",
       "<tr>\n",
       "  <th>Intercept</th>                 <td>-0.0147</td>   <td>0.0041</td>   <td>-3.5780</td> <td>0.0003</td>    <td>-0.0227</td>   <td>-0.0066</td>\n",
       "</tr>\n",
       "<tr>\n",
       "  <th>sales_prev_day[T.True]</th>    <td>0.0094</td>    <td>0.0025</td>   <td>3.7350</td>  <td>0.0002</td>    <td>0.0045</td>    <td>0.0144</td> \n",
       "</tr>\n",
       "<tr>\n",
       "  <th>weekday[T.1]</th>              <td>0.0035</td>    <td>0.0018</td>   <td>1.9298</td>  <td>0.0537</td>  <td>-5.504e-05</td>  <td>0.0070</td> \n",
       "</tr>\n",
       "<tr>\n",
       "  <th>weekday[T.2]</th>              <td>-0.0010</td>   <td>0.0017</td>   <td>-0.5816</td> <td>0.5609</td>    <td>-0.0043</td>   <td>0.0024</td> \n",
       "</tr>\n",
       "<tr>\n",
       "  <th>weekday[T.3]</th>              <td>-0.0013</td>   <td>0.0020</td>   <td>-0.6677</td> <td>0.5044</td>    <td>-0.0053</td>   <td>0.0026</td> \n",
       "</tr>\n",
       "<tr>\n",
       "  <th>weekday[T.4]</th>              <td>0.0030</td>    <td>0.0022</td>   <td>1.3795</td>  <td>0.1678</td>    <td>-0.0013</td>   <td>0.0072</td> \n",
       "</tr>\n",
       "<tr>\n",
       "  <th>weekday[T.5]</th>              <td>0.0035</td>    <td>0.0023</td>   <td>1.4823</td>  <td>0.1383</td>    <td>-0.0011</td>   <td>0.0080</td> \n",
       "</tr>\n",
       "<tr>\n",
       "  <th>weekday[T.6]</th>              <td>-0.0060</td>   <td>0.0023</td>   <td>-2.6824</td> <td>0.0073</td>    <td>-0.0104</td>   <td>-0.0016</td>\n",
       "</tr>\n",
       "<tr>\n",
       "  <th>route[T.CORDOBAMADRID]</th>    <td>0.0024</td>    <td>0.0021</td>   <td>1.1735</td>  <td>0.2406</td>    <td>-0.0016</td>   <td>0.0064</td> \n",
       "</tr>\n",
       "<tr>\n",
       "  <th>route[T.MADRIDBARCELONA]</th>  <td>0.0024</td>    <td>0.0019</td>   <td>1.2595</td>  <td>0.2079</td>    <td>-0.0013</td>   <td>0.0060</td> \n",
       "</tr>\n",
       "<tr>\n",
       "  <th>route[T.MADRIDCORDOBA]</th>    <td>-0.0059</td>   <td>0.0018</td>   <td>-3.2187</td> <td>0.0013</td>    <td>-0.0095</td>   <td>-0.0023</td>\n",
       "</tr>\n",
       "<tr>\n",
       "  <th>route[T.MADRIDSEVILLA]</th>    <td>0.0006</td>    <td>0.0019</td>   <td>0.3083</td>  <td>0.7579</td>    <td>-0.0031</td>   <td>0.0043</td> \n",
       "</tr>\n",
       "<tr>\n",
       "  <th>route[T.MADRIDZARAGOZA]</th>   <td>-0.0024</td>   <td>0.0023</td>   <td>-1.0334</td> <td>0.3015</td>    <td>-0.0070</td>   <td>0.0022</td> \n",
       "</tr>\n",
       "<tr>\n",
       "  <th>route[T.SEVILLAMADRID]</th>    <td>0.0083</td>    <td>0.0021</td>   <td>3.9534</td>  <td>0.0001</td>    <td>0.0042</td>    <td>0.0125</td> \n",
       "</tr>\n",
       "<tr>\n",
       "  <th>route[T.ZARAGOZAMADRID]</th>   <td>-0.0016</td>   <td>0.0022</td>   <td>-0.7245</td> <td>0.4688</td>    <td>-0.0060</td>   <td>0.0028</td> \n",
       "</tr>\n",
       "<tr>\n",
       "  <th>loading_factor</th>            <td>0.0312</td>    <td>0.0045</td>   <td>6.9320</td>  <td>0.0000</td>    <td>0.0224</td>    <td>0.0400</td> \n",
       "</tr>\n",
       "<tr>\n",
       "  <th>peak_hour</th>                 <td>-0.0038</td>   <td>0.0013</td>   <td>-2.9919</td> <td>0.0028</td>    <td>-0.0062</td>   <td>-0.0013</td>\n",
       "</tr>\n",
       "</table><br/><br/>F-test for Poolability: 4.1519<br/>P-value: 0.0009<br/>Distribution: F(5,6338)<br/><br/>Included effects: Time"
      ],
      "text/plain": [
       "<class 'linearmodels.compat.statsmodels.Summary'>\n",
       "\"\"\"\n",
       "                             PanelOLS Estimation Summary                             \n",
       "=====================================================================================\n",
       "Dep. Variable:     price_change_percentage   R-squared:                        0.0208\n",
       "Estimator:                        PanelOLS   R-squared (Between):              0.0842\n",
       "No. Observations:                     6360   R-squared (Within):               0.0123\n",
       "Date:                     Mon, Dec 14 2020   R-squared (Overall):              0.0246\n",
       "Time:                             15:44:33   Log-likelihood                 1.018e+04\n",
       "Cov. Estimator:                  Clustered                                           \n",
       "                                             F-statistic:                      8.4208\n",
       "Entities:                             1209   P-value                           0.0000\n",
       "Avg Obs:                            5.2605   Distribution:                 F(16,6338)\n",
       "Min Obs:                            1.0000                                           \n",
       "Max Obs:                            6.0000   F-statistic (robust):             10.842\n",
       "                                             P-value                           0.0000\n",
       "Time periods:                            6   Distribution:                 F(16,6338)\n",
       "Avg Obs:                            1060.0                                           \n",
       "Min Obs:                            749.00                                           \n",
       "Max Obs:                            1171.0                                           \n",
       "                                                                                     \n",
       "                                    Parameter Estimates                                     \n",
       "============================================================================================\n",
       "                          Parameter  Std. Err.     T-stat    P-value    Lower CI    Upper CI\n",
       "--------------------------------------------------------------------------------------------\n",
       "Intercept                   -0.0147     0.0041    -3.5780     0.0003     -0.0227     -0.0066\n",
       "sales_prev_day[T.True]       0.0094     0.0025     3.7350     0.0002      0.0045      0.0144\n",
       "weekday[T.1]                 0.0035     0.0018     1.9298     0.0537  -5.504e-05      0.0070\n",
       "weekday[T.2]                -0.0010     0.0017    -0.5816     0.5609     -0.0043      0.0024\n",
       "weekday[T.3]                -0.0013     0.0020    -0.6677     0.5044     -0.0053      0.0026\n",
       "weekday[T.4]                 0.0030     0.0022     1.3795     0.1678     -0.0013      0.0072\n",
       "weekday[T.5]                 0.0035     0.0023     1.4823     0.1383     -0.0011      0.0080\n",
       "weekday[T.6]                -0.0060     0.0023    -2.6824     0.0073     -0.0104     -0.0016\n",
       "route[T.CORDOBAMADRID]       0.0024     0.0021     1.1735     0.2406     -0.0016      0.0064\n",
       "route[T.MADRIDBARCELONA]     0.0024     0.0019     1.2595     0.2079     -0.0013      0.0060\n",
       "route[T.MADRIDCORDOBA]      -0.0059     0.0018    -3.2187     0.0013     -0.0095     -0.0023\n",
       "route[T.MADRIDSEVILLA]       0.0006     0.0019     0.3083     0.7579     -0.0031      0.0043\n",
       "route[T.MADRIDZARAGOZA]     -0.0024     0.0023    -1.0334     0.3015     -0.0070      0.0022\n",
       "route[T.SEVILLAMADRID]       0.0083     0.0021     3.9534     0.0001      0.0042      0.0125\n",
       "route[T.ZARAGOZAMADRID]     -0.0016     0.0022    -0.7245     0.4688     -0.0060      0.0028\n",
       "loading_factor               0.0312     0.0045     6.9320     0.0000      0.0224      0.0400\n",
       "peak_hour                   -0.0038     0.0013    -2.9919     0.0028     -0.0062     -0.0013\n",
       "============================================================================================\n",
       "\n",
       "F-test for Poolability: 4.1519\n",
       "P-value: 0.0009\n",
       "Distribution: F(5,6338)\n",
       "\n",
       "Included effects: Time\n",
       "\"\"\""
      ]
     },
     "execution_count": 106,
     "metadata": {},
     "output_type": "execute_result"
    }
   ],
   "source": [
    "fe_lm = PanelOLS.from_formula(\n",
    "    \"price_change_percentage ~ 1 + loading_factor + sales_prev_day + peak_hour + weekday + route + TimeEffects\",\n",
    "    panel_data.query(\"days_till_dep <=5\"),\n",
    ").fit(cov_type=\"clustered\", cluster_entity=True)\n",
    "\n",
    "fe_lm.summary"
   ]
  },
  {
   "cell_type": "code",
   "execution_count": 134,
   "metadata": {},
   "outputs": [
    {
     "data": {
      "text/plain": [
       "6     1174\n",
       "5     1158\n",
       "13    1150\n",
       "7     1143\n",
       "12    1138\n",
       "10    1136\n",
       "11    1135\n",
       "8     1118\n",
       "9     1115\n",
       "14    1115\n",
       "15    1091\n",
       "16    1091\n",
       "17    1083\n",
       "18    1046\n",
       "19     993\n",
       "20     962\n",
       "22     924\n",
       "21     907\n",
       "23     896\n",
       "24     847\n",
       "25     789\n",
       "26     724\n",
       "27     662\n",
       "28     627\n",
       "29     583\n",
       "30     527\n",
       "Name: days_till_dep, dtype: int64"
      ]
     },
     "execution_count": 134,
     "metadata": {},
     "output_type": "execute_result"
    }
   ],
   "source": [
    "panel_data.query(\"days_till_dep >=5\").reset_index()[\"days_till_dep\"].value_counts()"
   ]
  },
  {
   "cell_type": "code",
   "execution_count": 142,
   "metadata": {},
   "outputs": [
    {
     "name": "stderr",
     "output_type": "stream",
     "text": [
      "/usr/local/lib/python3.8/site-packages/linearmodels/panel/data.py:98: FutureWarning: is_categorical is deprecated and will be removed in a future version.  Use is_categorical_dtype instead\n",
      "  if is_categorical(s):\n",
      "/usr/local/lib/python3.8/site-packages/linearmodels/panel/data.py:98: FutureWarning: is_categorical is deprecated and will be removed in a future version.  Use is_categorical_dtype instead\n",
      "  if is_categorical(s):\n",
      "/usr/local/lib/python3.8/site-packages/linearmodels/panel/data.py:98: FutureWarning: is_categorical is deprecated and will be removed in a future version.  Use is_categorical_dtype instead\n",
      "  if is_categorical(s):\n",
      "/usr/local/lib/python3.8/site-packages/linearmodels/panel/data.py:98: FutureWarning: is_categorical is deprecated and will be removed in a future version.  Use is_categorical_dtype instead\n",
      "  if is_categorical(s):\n"
     ]
    },
    {
     "data": {
      "text/html": [
       "<table class=\"simpletable\">\n",
       "<caption>FirstDifferenceOLS Estimation Summary</caption>\n",
       "<tr>\n",
       "  <th>Dep. Variable:</th>       <td>price_change</td>    <th>  R-squared:         </th>     <td>0.0173</td>  \n",
       "</tr>\n",
       "<tr>\n",
       "  <th>Estimator:</th>        <td>FirstDifferenceOLS</td> <th>  R-squared (Between):</th>    <td>-12.416</td> \n",
       "</tr>\n",
       "<tr>\n",
       "  <th>No. Observations:</th>        <td>5044</td>        <th>  R-squared (Within):</th>     <td>0.0148</td>  \n",
       "</tr>\n",
       "<tr>\n",
       "  <th>Date:</th>              <td>Mon, Dec 14 2020</td>  <th>  R-squared (Overall):</th>    <td>-2.9777</td> \n",
       "</tr>\n",
       "<tr>\n",
       "  <th>Time:</th>                  <td>16:08:57</td>      <th>  Log-likelihood     </th>   <td>-1.467e+04</td>\n",
       "</tr>\n",
       "<tr>\n",
       "  <th>Cov. Estimator:</th>        <td>Clustered</td>     <th>                     </th>        <td></td>     \n",
       "</tr>\n",
       "<tr>\n",
       "  <th></th>                           <td></td>          <th>  F-statistic:       </th>     <td>88.969</td>  \n",
       "</tr>\n",
       "<tr>\n",
       "  <th>Entities:</th>                <td>1209</td>        <th>  P-value            </th>     <td>0.0000</td>  \n",
       "</tr>\n",
       "<tr>\n",
       "  <th>Avg Obs:</th>                <td>5.2605</td>       <th>  Distribution:      </th>    <td>F(1,5043)</td>\n",
       "</tr>\n",
       "<tr>\n",
       "  <th>Min Obs:</th>                <td>1.0000</td>       <th>                     </th>        <td></td>     \n",
       "</tr>\n",
       "<tr>\n",
       "  <th>Max Obs:</th>                <td>6.0000</td>       <th>  F-statistic (robust):</th>   <td>62.637</td>  \n",
       "</tr>\n",
       "<tr>\n",
       "  <th></th>                           <td></td>          <th>  P-value            </th>     <td>0.0000</td>  \n",
       "</tr>\n",
       "<tr>\n",
       "  <th>Time periods:</th>              <td>6</td>         <th>  Distribution:      </th>    <td>F(1,5043)</td>\n",
       "</tr>\n",
       "<tr>\n",
       "  <th>Avg Obs:</th>                <td>1060.0</td>       <th>                     </th>        <td></td>     \n",
       "</tr>\n",
       "<tr>\n",
       "  <th>Min Obs:</th>                <td>749.00</td>       <th>                     </th>        <td></td>     \n",
       "</tr>\n",
       "<tr>\n",
       "  <th>Max Obs:</th>                <td>1171.0</td>       <th>                     </th>        <td></td>     \n",
       "</tr>\n",
       "<tr>\n",
       "  <th></th>                           <td></td>          <th>                     </th>        <td></td>     \n",
       "</tr>\n",
       "</table>\n",
       "<table class=\"simpletable\">\n",
       "<caption>Parameter Estimates</caption>\n",
       "<tr>\n",
       "         <td></td>        <th>Parameter</th> <th>Std. Err.</th> <th>T-stat</th> <th>P-value</th> <th>Lower CI</th> <th>Upper CI</th>\n",
       "</tr>\n",
       "<tr>\n",
       "  <th>loading_factor</th>  <td>12.060</td>    <td>1.5238</td>   <td>7.9144</td> <td>0.0000</td>   <td>9.0729</td>   <td>15.048</td> \n",
       "</tr>\n",
       "</table>"
      ],
      "text/plain": [
       "<class 'linearmodels.compat.statsmodels.Summary'>\n",
       "\"\"\"\n",
       "                     FirstDifferenceOLS Estimation Summary                      \n",
       "================================================================================\n",
       "Dep. Variable:           price_change   R-squared:                        0.0173\n",
       "Estimator:         FirstDifferenceOLS   R-squared (Between):             -12.416\n",
       "No. Observations:                5044   R-squared (Within):               0.0148\n",
       "Date:                Mon, Dec 14 2020   R-squared (Overall):             -2.9777\n",
       "Time:                        16:08:57   Log-likelihood                -1.467e+04\n",
       "Cov. Estimator:             Clustered                                           \n",
       "                                        F-statistic:                      88.969\n",
       "Entities:                        1209   P-value                           0.0000\n",
       "Avg Obs:                       5.2605   Distribution:                  F(1,5043)\n",
       "Min Obs:                       1.0000                                           \n",
       "Max Obs:                       6.0000   F-statistic (robust):             62.637\n",
       "                                        P-value                           0.0000\n",
       "Time periods:                       6   Distribution:                  F(1,5043)\n",
       "Avg Obs:                       1060.0                                           \n",
       "Min Obs:                       749.00                                           \n",
       "Max Obs:                       1171.0                                           \n",
       "                                                                                \n",
       "                               Parameter Estimates                                \n",
       "==================================================================================\n",
       "                Parameter  Std. Err.     T-stat    P-value    Lower CI    Upper CI\n",
       "----------------------------------------------------------------------------------\n",
       "loading_factor     12.060     1.5238     7.9144     0.0000      9.0729      15.048\n",
       "==================================================================================\n",
       "\"\"\""
      ]
     },
     "execution_count": 142,
     "metadata": {},
     "output_type": "execute_result"
    }
   ],
   "source": [
    "from linearmodels import FirstDifferenceOLS\n",
    "\n",
    "fd_panel = FirstDifferenceOLS.from_formula(\n",
    "    \"price_change ~ loading_factor + TimeEffects + EntityEffects\",\n",
    "    panel_data.query(\"days_till_dep <=5\"),\n",
    ").fit(cov_type=\"clustered\", cluster_entity=True)\n",
    "\n",
    "fd_panel.summary"
   ]
  },
  {
   "cell_type": "code",
   "execution_count": null,
   "metadata": {},
   "outputs": [],
   "source": []
  }
 ],
 "metadata": {
  "kernelspec": {
   "display_name": "Python 3",
   "language": "python",
   "name": "python3"
  },
  "language_info": {
   "codemirror_mode": {
    "name": "ipython",
    "version": 3
   },
   "file_extension": ".py",
   "mimetype": "text/x-python",
   "name": "python",
   "nbconvert_exporter": "python",
   "pygments_lexer": "ipython3",
   "version": "3.8.6"
  }
 },
 "nbformat": 4,
 "nbformat_minor": 4
}
