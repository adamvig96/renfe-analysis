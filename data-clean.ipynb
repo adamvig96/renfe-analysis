{
 "cells": [
  {
   "cell_type": "code",
   "execution_count": null,
   "metadata": {},
   "outputs": [],
   "source": [
    "#read clean dataset\n",
    "df = pd.read_pickle(\"all_trains_clean.pkl\")"
   ]
  },
  {
   "cell_type": "code",
   "execution_count": null,
   "metadata": {},
   "outputs": [],
   "source": [
    "# investigate only AVE trains\n",
    "df = df.loc[df[\"vehicle_type\"]==\"AVE\"].reset_index(drop=True)\n",
    "\n",
    "# generate train_id\n",
    "df[\"train_id\"] = df[[\"origin\", \"destination\", \"departure\",\"arrival\"]].sum(axis=1)"
   ]
  },
  {
   "cell_type": "code",
   "execution_count": null,
   "metadata": {},
   "outputs": [],
   "source": [
    "trains = (\n",
    "    df.groupby(\"train_id\")\n",
    "    .first()\n",
    "    .reset_index()\n",
    "    .query(\"(origin == 'MADRID') & (destination=='BARCELONA')\")\n",
    "    .reset_index(drop=True)\n",
    ")\n",
    "\n",
    "trains = df.loc[df[\"train_id\"].isin(trains[\"train_id\"].tolist())].reset_index(drop=True)"
   ]
  },
  {
   "cell_type": "code",
   "execution_count": null,
   "metadata": {},
   "outputs": [],
   "source": [
    "trains1 = trains.loc[0:10000, :]\n",
    "trains2 = trains.loc[10000:20000, :].reset_index(drop=True)\n",
    "trains3 = trains.loc[20000:30000, :].reset_index(drop=True)\n",
    "trains4 = trains.loc[30000:40000, :].reset_index(drop=True)\n",
    "trains5 = trains.loc[40000:50000, :].reset_index(drop=True)\n",
    "trains6 = trains.loc[60000:70000, :].reset_index(drop=True)\n",
    "trains7 = trains.loc[70000:80000, :].reset_index(drop=True)\n",
    "trains8 = trains.loc[80000:90000, :].reset_index(drop=True)\n",
    "trains9 = trains.loc[90000:100000, :].reset_index(drop=True)\n",
    "trains10 = trains.loc[100000:110000, :].reset_index(drop=True)\n",
    "trains11 = trains.loc[110000:, :].reset_index(drop=True)"
   ]
  },
  {
   "cell_type": "code",
   "execution_count": null,
   "metadata": {},
   "outputs": [],
   "source": [
    "trains1 = pd.concat([trains1.reset_index(drop=True), extract_meta(trains1)], axis=1)\n",
    "trains2 = pd.concat([trains2.reset_index(drop=True), extract_meta(trains2)], axis=1)\n",
    "trains3 = pd.concat([trains3.reset_index(drop=True), extract_meta(trains3)], axis=1)\n",
    "trains4 = pd.concat([trains4.reset_index(drop=True), extract_meta(trains4)], axis=1)\n",
    "trains5 = pd.concat([trains5.reset_index(drop=True), extract_meta(trains5)], axis=1)\n",
    "trains6 = pd.concat([trains6.reset_index(drop=True), extract_meta(trains6)], axis=1)\n",
    "trains7 = pd.concat([trains7.reset_index(drop=True), extract_meta(trains7)], axis=1)\n",
    "trains8 = pd.concat([trains8.reset_index(drop=True), extract_meta(trains8)], axis=1)\n",
    "trains9 = pd.concat([trains9.reset_index(drop=True), extract_meta(trains9)], axis=1)\n",
    "trains10 = pd.concat([trains10.reset_index(drop=True), extract_meta(trains10)], axis=1)\n",
    "trains11 = pd.concat([trains11.reset_index(drop=True), extract_meta(trains11)], axis=1)"
   ]
  },
  {
   "cell_type": "code",
   "execution_count": null,
   "metadata": {},
   "outputs": [],
   "source": [
    "trains = pd.concat(\n",
    "    [\n",
    "        trains1,\n",
    "        trains2,\n",
    "        trains3,\n",
    "        trains4,\n",
    "        trains5,\n",
    "        trains6,\n",
    "        trains7,\n",
    "        trains8,\n",
    "        trains9,\n",
    "        trains10,\n",
    "        trains12\n",
    "    ]\n",
    ").reset_index(drop=True)"
   ]
  },
  {
   "cell_type": "code",
   "execution_count": null,
   "metadata": {},
   "outputs": [],
   "source": [
    "trains[\"days_till_dep\"] = [\n",
    "    (\n",
    "        datetime.datetime.strptime(\n",
    "            trains.loc[i, \"departure\"][0:19], \"%Y-%m-%d %H:%M:%S\"\n",
    "        )\n",
    "        - datetime.datetime.strptime(\n",
    "            trains.loc[i, \"insert_date\"][0:19], \"%Y-%m-%d %H:%M:%S\"\n",
    "        )\n",
    "    ).days\n",
    "    for i in range(trains.shape[0])\n",
    "]\n",
    "\n",
    "trains[\"timedelta_till_dep\"] = [\n",
    "        (\n",
    "            datetime.datetime.strptime(trains.loc[i, \"departure\"][0:19], \"%Y-%m-%d %H:%M:%S\")\n",
    "            - datetime.datetime.strptime(\n",
    "                trains.loc[i, \"insert_date\"][0:19], \"%Y-%m-%d %H:%M:%S\"\n",
    "            )\n",
    "        )\n",
    "        for i in range(trains.shape[0])\n",
    "    ]"
   ]
  },
  {
   "cell_type": "code",
   "execution_count": null,
   "metadata": {},
   "outputs": [],
   "source": [
    "trains.to_pickle(\"MAD_BAR_trains.pkl\")"
   ]
  }
 ],
 "metadata": {
  "kernelspec": {
   "display_name": "Python 3",
   "language": "python",
   "name": "python3"
  },
  "language_info": {
   "codemirror_mode": {
    "name": "ipython",
    "version": 3
   },
   "file_extension": ".py",
   "mimetype": "text/x-python",
   "name": "python",
   "nbconvert_exporter": "python",
   "pygments_lexer": "ipython3",
   "version": "3.8.6"
  }
 },
 "nbformat": 4,
 "nbformat_minor": 4
}
