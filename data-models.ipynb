{
 "cells": [
  {
   "cell_type": "code",
   "execution_count": 1,
   "metadata": {},
   "outputs": [],
   "source": [
    "from tqdm import tqdm\n",
    "import sys\n",
    "import datetime\n",
    "\n",
    "import pandas as pd\n",
    "import numpy as np\n",
    "\n",
    "import seaborn as sns\n",
    "import matplotlib.pyplot as plt\n",
    "\n",
    "import statsmodels.formula.api as smf\n",
    "from stargazer.stargazer import Stargazer\n",
    "from IPython.core.display import HTML"
   ]
  },
  {
   "cell_type": "code",
   "execution_count": 2,
   "metadata": {},
   "outputs": [],
   "source": [
    "data = pd.read_pickle(\"data/data_work.pkl\")"
   ]
  },
  {
   "cell_type": "code",
   "execution_count": 3,
   "metadata": {},
   "outputs": [],
   "source": [
    "data[\"weekday\"] = data[\"weekday\"].astype('category')"
   ]
  },
  {
   "cell_type": "code",
   "execution_count": 9,
   "metadata": {},
   "outputs": [],
   "source": [
    "formula_1 = \"price_increase ~ loading_factor + days_since + route\"\n",
    "formula_2 = \"price_increase ~ loading_factor + days_since * loading_factor + route\"\n",
    "formula_3 = \"price_increase ~ loading_factor + days_since * loading_factor + route + weekday\"\n",
    "formula_4 = \"price_increase ~ loading_factor + days_since * loading_factor + route + weekday + peak_hour\"\n",
    "formula_5 = \"price_increase ~ loading_factor + days_since * loading_factor + route + weekday + peak_hour + sales_prev_day\"\n",
    "\n",
    "formulas = [formula_1,formula_2,formula_3,formula_4,formula_5]"
   ]
  },
  {
   "cell_type": "code",
   "execution_count": 21,
   "metadata": {},
   "outputs": [],
   "source": [
    "def logit_estimate(formulas, data, days=30):\n",
    "    output_dict = {}\n",
    "    for formula in formulas:\n",
    "        model = smf.logit(\n",
    "            formula, data=data.loc[data[\"days_till_dep\"].isin(range(0, days))]\n",
    "        )\n",
    "        output_dict[formula] = model.fit(\n",
    "            cov_type=\"cluster\",\n",
    "            cov_kwds={\"groups\": data.loc[model.data.row_labels, \"train_id\"]},\n",
    "        )\n",
    "\n",
    "    return output_dict"
   ]
  },
  {
   "cell_type": "markdown",
   "metadata": {},
   "source": [
    "## 30 days"
   ]
  },
  {
   "cell_type": "code",
   "execution_count": 22,
   "metadata": {},
   "outputs": [
    {
     "name": "stdout",
     "output_type": "stream",
     "text": [
      "Optimization terminated successfully.\n",
      "         Current function value: 0.336835\n",
      "         Iterations 7\n",
      "Optimization terminated successfully.\n",
      "         Current function value: 0.336703\n",
      "         Iterations 7\n",
      "Optimization terminated successfully.\n",
      "         Current function value: 0.336211\n",
      "         Iterations 7\n",
      "Optimization terminated successfully.\n",
      "         Current function value: 0.334603\n",
      "         Iterations 7\n",
      "Optimization terminated successfully.\n",
      "         Current function value: 0.332756\n",
      "         Iterations 7\n"
     ]
    }
   ],
   "source": [
    "out = logit_estimate(formulas, data, days=30)"
   ]
  },
  {
   "cell_type": "code",
   "execution_count": 33,
   "metadata": {},
   "outputs": [
    {
     "data": {
      "text/html": [
       "<table style=\"text-align:center\"><tr><td colspan=\"6\" style=\"border-bottom: 1px solid black\"></td></tr><tr><td style=\"text-align:left\"></td><td colspan=\"5\"><em>Dependent variable:price_increase</em></td></tr><tr><td style=\"text-align:left\"></td><tr><td style=\"text-align:left\"></td><td>(1)</td><td>(2)</td><td>(3)</td><td>(4)</td><td>(5)</td></tr><tr><td colspan=\"6\" style=\"border-bottom: 1px solid black\"></td></tr><tr><td style=\"text-align:left\">Constant</td><td>-4.167<sup>***</sup></td><td>-3.811<sup>***</sup></td><td>-3.718<sup>***</sup></td><td>-3.620<sup>***</sup></td><td>-3.889<sup>***</sup></td></tr><tr><td style=\"text-align:left\"></td><td>(0.098)</td><td>(0.180)</td><td>(0.189)</td><td>(0.188)</td><td>(0.190)</td></tr><tr><td style=\"text-align:left\">days_since</td><td>0.037<sup>***</sup></td><td>0.020<sup>**</sup></td><td>0.019<sup>**</sup></td><td>0.018<sup>**</sup></td><td>0.012<sup></sup></td></tr><tr><td style=\"text-align:left\"></td><td>(0.004)</td><td>(0.008)</td><td>(0.008)</td><td>(0.008)</td><td>(0.008)</td></tr><tr><td style=\"text-align:left\">days_since:loading_factor</td><td></td><td>0.044<sup>**</sup></td><td>0.047<sup>**</sup></td><td>0.049<sup>**</sup></td><td>0.048<sup>**</sup></td></tr><tr><td style=\"text-align:left\"></td><td></td><td>(0.020)</td><td>(0.020)</td><td>(0.020)</td><td>(0.020)</td></tr><tr><td style=\"text-align:left\">loading_factor</td><td>2.871<sup>***</sup></td><td>1.864<sup>***</sup></td><td>1.786<sup>***</sup></td><td>1.799<sup>***</sup></td><td>1.758<sup>***</sup></td></tr><tr><td style=\"text-align:left\"></td><td>(0.183)</td><td>(0.492)</td><td>(0.501)</td><td>(0.499)</td><td>(0.492)</td></tr><tr><td style=\"text-align:left\">peak_hour</td><td></td><td></td><td></td><td>-0.468<sup>***</sup></td><td>-0.468<sup>***</sup></td></tr><tr><td style=\"text-align:left\"></td><td></td><td></td><td></td><td>(0.067)</td><td>(0.066)</td></tr><tr><td style=\"text-align:left\">route[T.CORDOBAMADRID]</td><td>0.767<sup>***</sup></td><td>0.772<sup>***</sup></td><td>0.774<sup>***</sup></td><td>0.699<sup>***</sup></td><td>0.738<sup>***</sup></td></tr><tr><td style=\"text-align:left\"></td><td>(0.095)</td><td>(0.095)</td><td>(0.094)</td><td>(0.092)</td><td>(0.092)</td></tr><tr><td style=\"text-align:left\">route[T.MADRIDBARCELONA]</td><td>0.001<sup></sup></td><td>-0.002<sup></sup></td><td>0.011<sup></sup></td><td>0.023<sup></sup></td><td>0.026<sup></sup></td></tr><tr><td style=\"text-align:left\"></td><td>(0.083)</td><td>(0.084)</td><td>(0.084)</td><td>(0.079)</td><td>(0.079)</td></tr><tr><td style=\"text-align:left\">route[T.MADRIDCORDOBA]</td><td>0.706<sup>***</sup></td><td>0.714<sup>***</sup></td><td>0.713<sup>***</sup></td><td>0.671<sup>***</sup></td><td>0.648<sup>***</sup></td></tr><tr><td style=\"text-align:left\"></td><td>(0.115)</td><td>(0.115)</td><td>(0.115)</td><td>(0.116)</td><td>(0.114)</td></tr><tr><td style=\"text-align:left\">route[T.MADRIDSEVILLA]</td><td>0.287<sup>***</sup></td><td>0.303<sup>***</sup></td><td>0.313<sup>***</sup></td><td>0.243<sup>**</sup></td><td>0.271<sup>***</sup></td></tr><tr><td style=\"text-align:left\"></td><td>(0.097)</td><td>(0.097)</td><td>(0.097)</td><td>(0.095)</td><td>(0.095)</td></tr><tr><td style=\"text-align:left\">route[T.MADRIDZARAGOZA]</td><td>-0.069<sup></sup></td><td>-0.061<sup></sup></td><td>-0.035<sup></sup></td><td>-0.033<sup></sup></td><td>-0.037<sup></sup></td></tr><tr><td style=\"text-align:left\"></td><td>(0.111)</td><td>(0.111)</td><td>(0.112)</td><td>(0.109)</td><td>(0.109)</td></tr><tr><td style=\"text-align:left\">route[T.SEVILLAMADRID]</td><td>0.620<sup>***</sup></td><td>0.639<sup>***</sup></td><td>0.643<sup>***</sup></td><td>0.555<sup>***</sup></td><td>0.603<sup>***</sup></td></tr><tr><td style=\"text-align:left\"></td><td>(0.091)</td><td>(0.091)</td><td>(0.091)</td><td>(0.088)</td><td>(0.089)</td></tr><tr><td style=\"text-align:left\">route[T.ZARAGOZAMADRID]</td><td>0.102<sup></sup></td><td>0.111<sup></sup></td><td>0.105<sup></sup></td><td>0.140<sup></sup></td><td>0.141<sup></sup></td></tr><tr><td style=\"text-align:left\"></td><td>(0.091)</td><td>(0.091)</td><td>(0.092)</td><td>(0.092)</td><td>(0.092)</td></tr><tr><td style=\"text-align:left\">sales_prev_day[T.True]</td><td></td><td></td><td></td><td></td><td>0.502<sup>***</sup></td></tr><tr><td style=\"text-align:left\"></td><td></td><td></td><td></td><td></td><td>(0.053)</td></tr><tr><td style=\"text-align:left\">weekday[T.1]</td><td></td><td></td><td>-0.038<sup></sup></td><td>-0.036<sup></sup></td><td>-0.021<sup></sup></td></tr><tr><td style=\"text-align:left\"></td><td></td><td></td><td>(0.083)</td><td>(0.080)</td><td>(0.080)</td></tr><tr><td style=\"text-align:left\">weekday[T.2]</td><td></td><td></td><td>-0.192<sup>**</sup></td><td>-0.162<sup>*</sup></td><td>-0.146<sup>*</sup></td></tr><tr><td style=\"text-align:left\"></td><td></td><td></td><td>(0.088)</td><td>(0.086)</td><td>(0.085)</td></tr><tr><td style=\"text-align:left\">weekday[T.3]</td><td></td><td></td><td>-0.164<sup>*</sup></td><td>-0.120<sup></sup></td><td>-0.123<sup></sup></td></tr><tr><td style=\"text-align:left\"></td><td></td><td></td><td>(0.098)</td><td>(0.097)</td><td>(0.096)</td></tr><tr><td style=\"text-align:left\">weekday[T.4]</td><td></td><td></td><td>-0.058<sup></sup></td><td>-0.018<sup></sup></td><td>-0.030<sup></sup></td></tr><tr><td style=\"text-align:left\"></td><td></td><td></td><td>(0.100)</td><td>(0.097)</td><td>(0.097)</td></tr><tr><td style=\"text-align:left\">weekday[T.5]</td><td></td><td></td><td>0.033<sup></sup></td><td>0.051<sup></sup></td><td>0.043<sup></sup></td></tr><tr><td style=\"text-align:left\"></td><td></td><td></td><td>(0.083)</td><td>(0.081)</td><td>(0.081)</td></tr><tr><td style=\"text-align:left\">weekday[T.6]</td><td></td><td></td><td>-0.321<sup>**</sup></td><td>-0.210<sup></sup></td><td>-0.221<sup></sup></td></tr><tr><td style=\"text-align:left\"></td><td></td><td></td><td>(0.139)</td><td>(0.144)</td><td>(0.144)</td></tr><td colspan=\"6\" style=\"border-bottom: 1px solid black\"></td></tr><tr><td style=\"text-align: left\">Observations</td><td>29,809</td><td>29,809</td><td>29,809</td><td>29,809</td><td>29,809</td></tr><tr><td style=\"text-align: left\">R<sup>2</sup></td><td></td><td></td><td></td><td></td><td></td></tr><tr><td style=\"text-align: left\">Adjusted R<sup>2</sup></td><td></td><td></td><td></td><td></td><td></td></tr><tr><td style=\"text-align: left\">Residual Std. Error</td><td>1.000 (df=29799)</td><td>1.000 (df=29798)</td><td>1.000 (df=29792)</td><td>1.000 (df=29791)</td><td>1.000 (df=29790)</td></tr><tr><td style=\"text-align: left\">F Statistic</td><td><sup></sup> (df=9; 29799)</td><td><sup></sup> (df=10; 29798)</td><td><sup></sup> (df=16; 29792)</td><td><sup></sup> (df=17; 29791)</td><td><sup></sup> (df=18; 29790)</td></tr><tr><td colspan=\"6\" style=\"border-bottom: 1px solid black\"></td></tr><tr><td style=\"text-align: left\">Note:</td>\n",
       " <td colspan=\"5\" style=\"text-align: right\">\n",
       "  <sup>*</sup>p&lt;0.1;\n",
       "  <sup>**</sup>p&lt;0.05;\n",
       "  <sup>***</sup>p&lt;0.01\n",
       " </td></tr></table>"
      ],
      "text/plain": [
       "<IPython.core.display.HTML object>"
      ]
     },
     "execution_count": 33,
     "metadata": {},
     "output_type": "execute_result"
    }
   ],
   "source": [
    "stargazer = Stargazer(list(out.values()))\n",
    "stargazer.rename_covariates({\"Intercept\": \"Constant\"})\n",
    "output_1 = HTML(stargazer.render_html())\n",
    "\n",
    "html = output_1.data\n",
    "with open(\"logit_output_30days.html\", \"w\") as f:\n",
    "    f.write(html)\n",
    "HTML(stargazer.render_html())"
   ]
  },
  {
   "cell_type": "markdown",
   "metadata": {},
   "source": [
    "## last 5 days"
   ]
  },
  {
   "cell_type": "code",
   "execution_count": 34,
   "metadata": {},
   "outputs": [
    {
     "data": {
      "text/plain": [
       "True     4754\n",
       "False     448\n",
       "Name: sales_prev_day, dtype: int64"
      ]
     },
     "execution_count": 34,
     "metadata": {},
     "output_type": "execute_result"
    }
   ],
   "source": [
    "data.query(\"days_till_dep<5\")[\"sales_prev_day\"].value_counts()"
   ]
  },
  {
   "cell_type": "code",
   "execution_count": 35,
   "metadata": {},
   "outputs": [
    {
     "name": "stdout",
     "output_type": "stream",
     "text": [
      "Optimization terminated successfully.\n",
      "         Current function value: 0.545135\n",
      "         Iterations 6\n",
      "Optimization terminated successfully.\n",
      "         Current function value: 0.544982\n",
      "         Iterations 6\n",
      "Optimization terminated successfully.\n",
      "         Current function value: 0.541076\n",
      "         Iterations 6\n",
      "Optimization terminated successfully.\n",
      "         Current function value: 0.539536\n",
      "         Iterations 6\n",
      "Optimization terminated successfully.\n",
      "         Current function value: 0.538468\n",
      "         Iterations 6\n"
     ]
    }
   ],
   "source": [
    "out = logit_estimate(formulas, data, days=5)"
   ]
  },
  {
   "cell_type": "code",
   "execution_count": 36,
   "metadata": {},
   "outputs": [
    {
     "data": {
      "text/html": [
       "<table style=\"text-align:center\"><tr><td colspan=\"6\" style=\"border-bottom: 1px solid black\"></td></tr><tr><td style=\"text-align:left\"></td><td colspan=\"5\"><em>Dependent variable:price_increase</em></td></tr><tr><td style=\"text-align:left\"></td><tr><td style=\"text-align:left\"></td><td>(1)</td><td>(2)</td><td>(3)</td><td>(4)</td><td>(5)</td></tr><tr><td colspan=\"6\" style=\"border-bottom: 1px solid black\"></td></tr><tr><td style=\"text-align:left\">Constant</td><td>-4.910<sup>***</sup></td><td>-8.271<sup>***</sup></td><td>-8.430<sup>***</sup></td><td>-8.478<sup>***</sup></td><td>-8.736<sup>***</sup></td></tr><tr><td style=\"text-align:left\"></td><td>(0.802)</td><td>(3.041)</td><td>(3.049)</td><td>(3.058)</td><td>(3.065)</td></tr><tr><td style=\"text-align:left\">days_since</td><td>0.101<sup>***</sup></td><td>0.221<sup>**</sup></td><td>0.223<sup>**</sup></td><td>0.226<sup>**</sup></td><td>0.220<sup>**</sup></td></tr><tr><td style=\"text-align:left\"></td><td>(0.030)</td><td>(0.108)</td><td>(0.109)</td><td>(0.109)</td><td>(0.109)</td></tr><tr><td style=\"text-align:left\">days_since:loading_factor</td><td></td><td>-0.199<sup></sup></td><td>-0.202<sup></sup></td><td>-0.211<sup></sup></td><td>-0.204<sup></sup></td></tr><tr><td style=\"text-align:left\"></td><td></td><td>(0.177)</td><td>(0.178)</td><td>(0.178)</td><td>(0.178)</td></tr><tr><td style=\"text-align:left\">loading_factor</td><td>1.615<sup>***</sup></td><td>7.234<sup></sup></td><td>7.368<sup></sup></td><td>7.674<sup></sup></td><td>7.503<sup></sup></td></tr><tr><td style=\"text-align:left\"></td><td>(0.268)</td><td>(5.005)</td><td>(5.033)</td><td>(5.046)</td><td>(5.049)</td></tr><tr><td style=\"text-align:left\">peak_hour</td><td></td><td></td><td></td><td>-0.319<sup>***</sup></td><td>-0.316<sup>***</sup></td></tr><tr><td style=\"text-align:left\"></td><td></td><td></td><td></td><td>(0.097)</td><td>(0.097)</td></tr><tr><td style=\"text-align:left\">route[T.CORDOBAMADRID]</td><td>0.048<sup></sup></td><td>0.063<sup></sup></td><td>0.021<sup></sup></td><td>-0.026<sup></sup></td><td>-0.007<sup></sup></td></tr><tr><td style=\"text-align:left\"></td><td>(0.155)</td><td>(0.156)</td><td>(0.158)</td><td>(0.158)</td><td>(0.158)</td></tr><tr><td style=\"text-align:left\">route[T.MADRIDBARCELONA]</td><td>0.053<sup></sup></td><td>0.055<sup></sup></td><td>0.091<sup></sup></td><td>0.111<sup></sup></td><td>0.119<sup></sup></td></tr><tr><td style=\"text-align:left\"></td><td>(0.115)</td><td>(0.115)</td><td>(0.116)</td><td>(0.114)</td><td>(0.114)</td></tr><tr><td style=\"text-align:left\">route[T.MADRIDCORDOBA]</td><td>-0.278<sup></sup></td><td>-0.268<sup></sup></td><td>-0.262<sup></sup></td><td>-0.276<sup></sup></td><td>-0.277<sup></sup></td></tr><tr><td style=\"text-align:left\"></td><td>(0.182)</td><td>(0.182)</td><td>(0.184)</td><td>(0.188)</td><td>(0.188)</td></tr><tr><td style=\"text-align:left\">route[T.MADRIDSEVILLA]</td><td>0.093<sup></sup></td><td>0.098<sup></sup></td><td>0.133<sup></sup></td><td>0.086<sup></sup></td><td>0.089<sup></sup></td></tr><tr><td style=\"text-align:left\"></td><td>(0.153)</td><td>(0.153)</td><td>(0.153)</td><td>(0.154)</td><td>(0.154)</td></tr><tr><td style=\"text-align:left\">route[T.MADRIDZARAGOZA]</td><td>-0.348<sup>**</sup></td><td>-0.344<sup>**</sup></td><td>-0.303<sup>*</sup></td><td>-0.286<sup></sup></td><td>-0.284<sup></sup></td></tr><tr><td style=\"text-align:left\"></td><td>(0.170)</td><td>(0.170)</td><td>(0.173)</td><td>(0.175)</td><td>(0.174)</td></tr><tr><td style=\"text-align:left\">route[T.SEVILLAMADRID]</td><td>0.626<sup>***</sup></td><td>0.629<sup>***</sup></td><td>0.585<sup>***</sup></td><td>0.527<sup>***</sup></td><td>0.553<sup>***</sup></td></tr><tr><td style=\"text-align:left\"></td><td>(0.145)</td><td>(0.146)</td><td>(0.145)</td><td>(0.145)</td><td>(0.146)</td></tr><tr><td style=\"text-align:left\">route[T.ZARAGOZAMADRID]</td><td>-0.064<sup></sup></td><td>-0.064<sup></sup></td><td>-0.097<sup></sup></td><td>-0.068<sup></sup></td><td>-0.066<sup></sup></td></tr><tr><td style=\"text-align:left\"></td><td>(0.142)</td><td>(0.142)</td><td>(0.145)</td><td>(0.144)</td><td>(0.144)</td></tr><tr><td style=\"text-align:left\">sales_prev_day[T.True]</td><td></td><td></td><td></td><td></td><td>0.411<sup>***</sup></td></tr><tr><td style=\"text-align:left\"></td><td></td><td></td><td></td><td></td><td>(0.126)</td></tr><tr><td style=\"text-align:left\">weekday[T.1]</td><td></td><td></td><td>0.137<sup></sup></td><td>0.137<sup></sup></td><td>0.133<sup></sup></td></tr><tr><td style=\"text-align:left\"></td><td></td><td></td><td>(0.127)</td><td>(0.126)</td><td>(0.126)</td></tr><tr><td style=\"text-align:left\">weekday[T.2]</td><td></td><td></td><td>-0.048<sup></sup></td><td>-0.026<sup></sup></td><td>-0.006<sup></sup></td></tr><tr><td style=\"text-align:left\"></td><td></td><td></td><td>(0.137)</td><td>(0.136)</td><td>(0.135)</td></tr><tr><td style=\"text-align:left\">weekday[T.3]</td><td></td><td></td><td>-0.070<sup></sup></td><td>-0.044<sup></sup></td><td>-0.036<sup></sup></td></tr><tr><td style=\"text-align:left\"></td><td></td><td></td><td>(0.164)</td><td>(0.164)</td><td>(0.163)</td></tr><tr><td style=\"text-align:left\">weekday[T.4]</td><td></td><td></td><td>0.201<sup></sup></td><td>0.229<sup></sup></td><td>0.252<sup></sup></td></tr><tr><td style=\"text-align:left\"></td><td></td><td></td><td>(0.164)</td><td>(0.163)</td><td>(0.163)</td></tr><tr><td style=\"text-align:left\">weekday[T.5]</td><td></td><td></td><td>0.407<sup>***</sup></td><td>0.411<sup>***</sup></td><td>0.438<sup>***</sup></td></tr><tr><td style=\"text-align:left\"></td><td></td><td></td><td>(0.137)</td><td>(0.138)</td><td>(0.137)</td></tr><tr><td style=\"text-align:left\">weekday[T.6]</td><td></td><td></td><td>-0.454<sup>**</sup></td><td>-0.381<sup>*</sup></td><td>-0.363<sup>*</sup></td></tr><tr><td style=\"text-align:left\"></td><td></td><td></td><td>(0.200)</td><td>(0.202)</td><td>(0.202)</td></tr><td colspan=\"6\" style=\"border-bottom: 1px solid black\"></td></tr><tr><td style=\"text-align: left\">Observations</td><td>5,202</td><td>5,202</td><td>5,202</td><td>5,202</td><td>5,202</td></tr><tr><td style=\"text-align: left\">R<sup>2</sup></td><td></td><td></td><td></td><td></td><td></td></tr><tr><td style=\"text-align: left\">Adjusted R<sup>2</sup></td><td></td><td></td><td></td><td></td><td></td></tr><tr><td style=\"text-align: left\">Residual Std. Error</td><td>1.000 (df=5192)</td><td>1.000 (df=5191)</td><td>1.000 (df=5185)</td><td>1.000 (df=5184)</td><td>1.000 (df=5183)</td></tr><tr><td style=\"text-align: left\">F Statistic</td><td><sup></sup> (df=9; 5192)</td><td><sup></sup> (df=10; 5191)</td><td><sup></sup> (df=16; 5185)</td><td><sup></sup> (df=17; 5184)</td><td><sup></sup> (df=18; 5183)</td></tr><tr><td colspan=\"6\" style=\"border-bottom: 1px solid black\"></td></tr><tr><td style=\"text-align: left\">Note:</td>\n",
       " <td colspan=\"5\" style=\"text-align: right\">\n",
       "  <sup>*</sup>p&lt;0.1;\n",
       "  <sup>**</sup>p&lt;0.05;\n",
       "  <sup>***</sup>p&lt;0.01\n",
       " </td></tr></table>"
      ],
      "text/plain": [
       "<IPython.core.display.HTML object>"
      ]
     },
     "execution_count": 36,
     "metadata": {},
     "output_type": "execute_result"
    }
   ],
   "source": [
    "stargazer = Stargazer(list(out.values()))\n",
    "stargazer.rename_covariates({\"Intercept\": \"Constant\"})\n",
    "output_1 = HTML(stargazer.render_html())\n",
    "\n",
    "html = output_1.data\n",
    "with open(\"logit_output_30days.html\", \"w\") as f:\n",
    "    f.write(html)\n",
    "HTML(stargazer.render_html())"
   ]
  }
 ],
 "metadata": {
  "kernelspec": {
   "display_name": "Python 3",
   "language": "python",
   "name": "python3"
  },
  "language_info": {
   "codemirror_mode": {
    "name": "ipython",
    "version": 3
   },
   "file_extension": ".py",
   "mimetype": "text/x-python",
   "name": "python",
   "nbconvert_exporter": "python",
   "pygments_lexer": "ipython3",
   "version": "3.8.6"
  }
 },
 "nbformat": 4,
 "nbformat_minor": 4
}
